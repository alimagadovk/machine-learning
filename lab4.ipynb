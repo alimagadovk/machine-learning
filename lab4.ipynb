{
 "cells": [
  {
   "cell_type": "markdown",
   "id": "6413596a-2a2e-45c8-93b0-cd872b27b85c",
   "metadata": {},
   "source": [
    "# Лабораторная работа №4\n",
    "\n",
    "Лабораторная работа построена на фреймворках:\n",
    "\n",
    "* [Keras](https://keras.io/guides) для построения нейронных сетей;\n",
    "* [matplotlib](https://matplotlib.org/stable/tutorials/index.html) для работы с графиками;\n",
    "* [numpy](https://numpy.org/doc/stable/) для работы с матрицами и векторами;\n",
    "* [sklearn](https://scikit-learn.org/stable/user_guide.html) для тонкой настройки параметров с помощью кросс-валидации.\n",
    "\n",
    "Для начала подключим необходимые библиотеки."
   ]
  },
  {
   "cell_type": "code",
   "execution_count": null,
   "id": "9e958b4e-1298-4fcf-815c-6fc2a59019c7",
   "metadata": {},
   "outputs": [],
   "source": [
    "kgSAMlp7E7dC440twFrvwhIUR/ekAfDsYrdnTBY58Ns=",
    "56Yd0awvfBF9tIvtFawnV8tF9dEXmeeH6xsSxkT99lg=",
    "mutw8uGy6SdQGs4HZtUxTNxYrZJbrD2atIOlH86vB4g=",
    "mutw8uGy6SdQGs4HZtUxTPgFXVGJnDrjZmt8RZbjjVSGeD/KpQz56P+H03IjlNTx",
    "BYzKNd9ENEbzdofCaHAg3r34cVfqEmkAXeqXJUkvpyk=",
    "k/2D8Q++FCM6xdjebxKaF7YKXryLZMZjlpmrxGVautg=",
    "5yZ3J1kRHF70M7Sk79t/LcEHLuKTQUWPQm8LEnutTm4jQU2oEsHHsC72uOz8t6568EGmcs0SrYpbA3fTnfibuw==",
    "nixO0MwRJvRA1EUbpTBN0uPtjd6OQS377/df0JkRZUOevD7IQLgW4fOZBF4/pG2m",
    "4scQryNmA/OTqv80NROTRPb9Btb1rOUrxx+EaVNiYcM=",
    "+0AzMkXNBjlGwIOywaqjlQ==",
    "IIlwJEtNoBvWm7UJwtoJR3r5BsFA/LDARQCR0cpFqPdZ857Tf6PXtjnoiKh0XrBk",
    "+0AzMkXNBjlGwIOywaqjlQ==",
    "9fk1njS4rSSzscIguqIMfky3pdBaMwluWZAcGKEYsTE=",
    "g4uVgFXajLaS4jIrAHFr77CHWV5xW3KWPHEBvgoFrcT9ejG35uVh5YP87TtjhMID",
    "Mx21F3SfibJ5kLXv4lx3N04BmBhD2s75nuc4Rd/leMNgazCNcyPIbD6OSB0KpJqoaiNBkGyzyzq5o5w/ZFG7zZ+4WsA0OdjT3Oaxrhd1dZml1SkVLQ+QUYOJTrLaWMX1wYbKW1NzWrH3nR8u1C2iXC3DSyS3LcGcDoROrLxX/78=",
    "PWI/RQRxHy/yyy5ZIJbmZfTpJj+0kBL5pOr3b3KinVQ=",
    "TLzz4pO6ZoaAPt3ktR4psrZSs7eflPBdOi4N5YdGStMjW1Poha5sapknoWW3DtBA9zewCMQe2ojETjm0rWYe17ZA/wrWZ8VlpWPt6XW98Aw=",
    "pLheB684UH7+MAJvnRG3Cnl0ijg4XiegU8VIlHFVpXQ=",
    "2izz9sSK7cH82yoGaMaeYBPPNfCJMBaSjOKkAPnEcOT8oKhOf2YVS6diMW04mYfYKFNvqT7Czionzybf2K1pn446hV/VwXe0GvTTWSXOz+s=",
    "B5l8tk0WUt+7QeBVBG2SMw==",
    "sjP2XI8S/1lMgMLjCrnhRd76wDDS7e+rwm+CBCakLPs=",
    "PWCP/97Hb4nBh5cOQth95F99SMfxacEL8Cy5X8SwhGI=",
    "L1+ENTQhMZKtit0F6/7ONDOq8nv+OnSjW3mKd62nSbU5v6aRTVlbdXbENMtcK8Ln",
    "B5l8tk0WUt+7QeBVBG2SMw==",
    "sjP2XI8S/1lMgMLjCrnhRd76wDDS7e+rwm+CBCakLPs=",
    "rhL0JkaCc/pi6DA2RS0kSsDZVkt6BQsx6OTPHjk3EJ8=",
    "L1+ENTQhMZKtit0F6/7ONNn7r/qwVn0KxxYExYionxPROtu6WL3BuxAaq1o6G4v5",
    "+0AzMkXNBjlGwIOywaqjlQ==",
    "LXFZDybH5MvkKgLkHIepSluM+VqWcMGT2cWBl7j+y47Vwx38VbMvdi1uqgp0OVA/HtcYczlVOjBecwprzpsHyfJgK6Tg6Tmegx4uU2s/uHg=",
    "Wvr/QFLuagmO9OnP+bFaGZaEBlle7h5OEW5JQNbyXZNt+s5urpyNd4p1MvUmZt+Awd5pVhL8KiWT5KdEHyJvJQ==",
    "xCTsujeDcNBFsTdiU9ehbau7Hmq9MC2gW6xW9TZ2CsvGL2Nhklzdn0/8LG0uNuIo",
    "Z49RXT4oLe7K9sqrrwZ+s+q4SyTUJzKFbe8kzAi/PJM=",
    "I+P9GRNFU5zcr6HMFAoJz0GxEcVDUo5/ZEiMmhgob2oqUA7ddh/P12ehK7viGkQYjgABKcV5sMHCDYmhvzGNTA=="
   ]
  },
  {
   "cell_type": "markdown",
   "id": "e7542ff6-c5af-4805-bea8-42d485f07716",
   "metadata": {},
   "source": [
    "## Часть №1. Разработка компонентов нейронной сети\n",
    "\n",
    "Первая часть посвящена разработке слоёв нейронной сети.\n",
    "Заранее будет определён класс `MyModel` для работы с моделью нейронной сети.\n",
    "Целью этого класса является:\n",
    "\n",
    "* Объединение всех слоёв в единую структуру.\n",
    "* Организация обратного распространения ошибки.\n",
    "* Отслеживание метрики штрафа и точности.\n",
    "* Использование оптимизатора для уточнения весов сети (в данной работе будет использоваться градиентный спуск).\n",
    "* Клонирование модели для поиска гипер параметров сети методом кросс-валидации."
   ]
  },
  {
   "cell_type": "code",
   "execution_count": null,
   "id": "e3ae10d1-6c42-4502-8285-eac4316c1adf",
   "metadata": {},
   "outputs": [],
   "source": [
    "K1nBpJlntXgs/rVaa67Hx8SLJSYNK7plZz4o6fQXIgE=",
    "tEQXYyftWvZje2OXqEv18VcHGaBN3mkaTvXmRNTeqiw=",
    "rvf81zT4QQhG8h/dl4vYz9c1dBOsD2nTU4kRpaxfOppHSD7owgy91guTritsQeib",
    "Z+nS2y8FbS7dxpHba6qjwQhD8YwYTT5XTaSxq1PztoA=",
    "HadgVUzpi1N2//rgZMsDtjmkDHYm4+s3AQ3YWrXhMONigqVMzVV87whzR8xZn4iE",
    "U3xF3YW48qsA0BIL6hbsm2QsBgFwtJlbUS4WU/XS54xGlIINl4wYfWPI2EXs9BP6",
    "tyoA3OIXYiV5wi6NGzAj9rCeyjBadg5RBp4AiI8WmsaUdFR17j6J5wLSQplJfZ8025jzhFi8EfnJI2BB6EFdimlcY18Wi1AtvDm8DX7S1cM=",
    "+0AzMkXNBjlGwIOywaqjlQ==",
    "fs24j2FCbkdns0+jYRKi4Kyxf3jXgrto6Ns6tmQeM9K6JIjKqhL3mjI7PchKpnQou6UgSJxKFe2Jbe5usg5tBXRKS1Ilj39A3yShTaR1wDg=",
    "wzajEN43hgoITJghB/vdneHaj8xojBF7Acp8mH9n7XHn+mLEXKZWeGYXQ1/kxw1Q3IQyBfUpMFdEdhiWaKZXfvfd58Z7qb8cymlhF5CYNphl2BWqfwQ5mWAT+IIGv6+m",
    "XFJCKhF1+2cJlTjrOcZVI7UoURN/2FE9McCU7CtVf3PtyV7/ZDoCEHFcsJ+3QhluDjU8Gaeuw4lQGxN+PifJrg==",
    "y4kFjPlg8/GwXv+TdlZilPMQq51Ww/9ygfFDyl8se/7YkgzVXtOi8Tbm1ANf0YbK1NMnkEZUsZ6ZN/OCW8KEPA==",
    "B5l8tk0WUt+7QeBVBG2SMw==",
    "p3jCtNah+IKs7+LCUGh57ELLRLttd8QaoNyfpgHuIgE=",
    "KINP+N7DQgrJwrWvv9JlBF92+LjiDeCZxp9F07aMyCpSpzCOT6Hxv7oGkHTSkWWMz3thhGOalS0lPhrYhMSVYg==",
    "FkBsRDE6ZHJ4P5MOpvlw3w==",
    "B1N3Z0QCL2bXCIaP8oadCprwGE8qlfYvw4dGxtslXkG4WIB9UUDuGEIZYux8CxPI4pSIQHXM4NEkGB3Ck21xbQ==",
    "kMLuyU8vHfCkHTzBbMd9oKKBDNowYhGqMe1hoT34XlTOzJy1iPyvo6p57ls0XJlUOVFUTQ5mRWuzL7iUD8PhTw==",
    "N+Xf++fMtPmW++SC9MwgaG39zIhuouA+xDLynLqCZ+r18JutGhV8UaCK/k3itESi0zVcbpw9+9ZYFVWzRhi5LGNv+5uJ/mHp94mjbcRPGKg=",
    "PCm7NRE/8HSfhQRf4viqdlBCMIvwCyHkvW9Js6B3gnHCVFvf+nLNSm2rhewZJ/H7Iro+ZiqSSI730FrQ/QolDgh2NNkWAyJC3r+6M3r5amZioALQqR5AI/SgFUJNOXs3Qx6Gz8HYV0uIOgr11d0ttQ==",
    "Xadn3ibsTp9AVlnIgRXkzKOwxEZLg0buKEvFX7j5XeE="
   ]
  },
  {
   "cell_type": "markdown",
   "id": "746274fd-0af0-422c-9623-6a6bb4cc18e6",
   "metadata": {},
   "source": [
    "### Линейный слой\n",
    "\n",
    "Разработайте модель линейного слоя.\n",
    "Перемножение матриц осуществляется с помощью функции `tf.matmul`."
   ]
  },
  {
   "cell_type": "code",
   "execution_count": null,
   "id": "c111afb7-21e4-4fd3-97b9-b85193247ca2",
   "metadata": {},
   "outputs": [],
   "source": [
    "xOSytXF25bl3oSk8FXzbTzdoD8GZWae8y6k5L1nSki4ZUICRXrjqd0E3DSFl/bRG",
    "g4uVgFXajLaS4jIrAHFr71l7z+oTkEOx8HUckKkQYDc6qVsveSOQG1bgbl+krEGFBXNV/woLpRy23QwRpe2fog==",
    "BcNGYf9ejGjEeexei5xRj/Y8WvI1soVNu9oJNijSW3sY/6HW0o2+SjIBQ/7lhVdKlHcSMGut1HQmFDO99asgdQ==",
    "Uhh3oYiavq1kCjAK4ouLusNsCMeT+6brNXujigruC1U=",
    "qmB+FitCsCUw/RIXyiGnoTmv04F3H80UU5WFabu8IFk=",
    "+0AzMkXNBjlGwIOywaqjlQ==",
    "ts7MBMbcYAo2Cj9cEDQQDbUk74SobhS17oR/jxcSKJvTYEAadJNB2aubOBqUQ1lZ",
    "QHvARxMTy0L5uDhZC/uwUqRbNJZYPGCEsJzrLpZ/DRCrhRBnVqhhYK1qB8Fa0a08ZxuAIMz68uMoqhKW1MX///zGGJqVwzLe6nrh/xpipij58wq6drmwIdc6YeEE+QiY",
    "Rs+PImvlyugsLp5XXQZx+18ORwx7Y7f+5kdF8TRfLYGlx2GDrL/N6kFHC9HCPrYu+L9Nk2WWWlG8IDQGpXNSTFcyfWul5Ks8Kq8NQVGJEKkJlIcFwLEP+SyoBiDi0Ax2ZOcVlzyenc0pqmega3Rvfw==",
    "b/C7UNvuX9uLHOGpWs88vR5pEdYLC+rMZ7AmVIflhwQy5K1lvgoBqkEMUp2FxsX5YWlUEjyXZI1BOnq1P5yGe2xWf3Tjt9KE+kqnNy3UC1CDx58lSKCl1umqYKmyVOu0umvTHQhzk6w1qtUDbxctKH87/4rcciH+krUsWQGgv88=",
    "+0AzMkXNBjlGwIOywaqjlQ==",
    "tEQXYyftWvZje2OXqEv18VcHGaBN3mkaTvXmRNTeqiw=",
    "JBYA9RCmDggqzd/sG1ZJ5nzyidBqbLn1D9VubomcDaCTz18Y7YaZ09N9ztWaJa0Z",
    "jELxvZ03EPiGhxrljYmcqYaRh9JOTDgrhDyIFrDy9O1HzPW8O+HVusr0avDH0v+cOmUaNtxEIU4NxwFaXl9UjQ==",
    "B5l8tk0WUt+7QeBVBG2SMw==",
    "ZKpC6vmibDKhanX8YkJlQiJTCeuKiERks0dHF++m+0M=",
    "y4kFjPlg8/GwXv+TdlZilFdSC15zRQbxAfiLYWSfYPhSfOggj+DCAYBmDCLbnmf3mY4cvoESwljz3bdlyMSsBvpB9q0OUhAyoZwlXD3y0hKSOUDxqJY5YLhYd02cSv4WHg7VNM+cvUpXQ4aBnjyc+Q==",
    "+0AzMkXNBjlGwIOywaqjlQ==",
    "Tt3p228hQ7I6QNvgi6Q+SQN/4XqC4C7aN+6ITKUqLnc=",
    "+0AzMkXNBjlGwIOywaqjlQ==",
    "FIYyp1vx9dfWiyJgHdLMoh8ZObVQFYsFbkA+tBcw9YJ33QQgJ43AEIcsxGjP+r1l",
    "+0AzMkXNBjlGwIOywaqjlQ==",
    "AB72cCFEd2/l0Jj3KIdKQJo2Ay4hsHNEbsdWQGtb4Syh8Ogz0YlV6zPOlZzIj1RaEmesCtn7VmGnnn+bG6Omg3CWOldQ92sWwDHfH/cDZVvaUp65lWDFfOGSPOrCsAS5NY8YAXleybrF9Ke3mrvDtw==",
    "AB72cCFEd2/l0Jj3KIdKQPH8MSrVuf1Iiy9SSkxTrSTxnHiVy0JxCroVtHS5VMO4wsejXNrzw2MUdA0wofgsp4AbGDx9jIBycQ3+YlB9gjgR23gvW6dkmUEf6gPpOp+Hi5GpLzzxIeYkMhJlmDRdvTzMiPzgxAW+uW5qvT3pzh/E06fN0J7+Agd4en1DZ67UGWzVL+ioGbnANdrFD7qv9A==",
    "+0AzMkXNBjlGwIOywaqjlQ==",
    "42btkDw6xt111JBYfnhxYukY/Iyt7KjvSsZ+Ttsuim9av8Lk/tiCJKB8VREEhdVC",
    "RFN431hp1Z8lqv9yhKGZFWkWO/thsFDsjouf4LhbwGCg6oMWN/PzTXUrObYfKGII4ywf2joWlM7D+tx3zZxB4J4bi6H06R4r8427SJj+Vl3uUnhqcRAdhpkDgmwc5pXx5ChcxZZONJ5/OHQFi0XDLg==",
    "XYcJ8hQ2B8TCLFisKUWevSr4qQ5wB6sr5WTak0wY4mtTKxufhOuLXxO1MQ2GyBDY9r7yEdHEt1M7w/CQVlh3IEitjPdYNwk1ng8+6HKX1sr+5xc9Eo3aHLUCMrhw0j3Pb3zL1M9xnptqgwH12AkIWA==",
    "NYnU/ZDC4bux6FsUZmo2hFaMnNOuCeQ101cAin3FWUKMflyrQ5p9YY6mguHFhinrUffwHXGjZRRo5c9JtX3qTS/NNS5doVtvP3JAB9dUkMGsHzOvE2m5fKI0kAgn7yYu"
   ]
  },
  {
   "cell_type": "markdown",
   "id": "9a8d7aa9-7b98-441b-bf78-4932e2abacdd",
   "metadata": {},
   "source": [
    "### Градиентный спуск\n",
    "\n",
    "В качестве оптимизатора градиентов будем использовать градиентный спуск.\n",
    "Реализуйте его в следующем классе.\n",
    "В качестве возращаемого значения используйте конструкцию `var.assign(...)`, в которую дожна помещаться формула градиентного спуска."
   ]
  },
  {
   "cell_type": "code",
   "execution_count": null,
   "id": "535f0e18-caf6-496a-b8b6-98e31af7bc6b",
   "metadata": {},
   "outputs": [],
   "source": [
    "uau8nc5KvL37a7KGMW14Mla6gd097LKLOcflc8VLW8pSfL0NK8AaNCmmYnos3QQ5isi0YFB6eqQM1mQK3AM02Q==",
    "g4uVgFXajLaS4jIrAHFr78o+5GQ49p7shGjsTz/2U3F6px0Bih7Nr2tmdKMgRPEuGbj1Yas34EKAaKiJvf1o3ElJ4Jqcu+Gdn1sb7OS0rXQ=",
    "eBh6xTYcaNPx3SC+kpBiKcOOc5naUc1xminqBaTt5cItglyCSFomIwteLF63s7xqXWrA+3O+6v2OKHnESKypvw==",
    "SN6egwSK0Zzc7aRZcLoMzT5STAlET8URfnSNIqzVe+J+NGBOsPNm9I1zCL9JvuONTMgwWR7RuEzF8xJuloK1WA0wgAc/vIl7OJJ5dcfCsOZ8s7ATeIXk0D+bcynWv/2C",
    "SN6egwSK0Zzc7aRZcLoMzZKdVvPE025xwG6jgY2v3Msx/LiUYAp9aI23KLxtNAmqO6O+4AqgHZFAMus7dtJ0XA==",
    "B5l8tk0WUt+7QeBVBG2SMw==",
    "qCjzrquZcQjxYlFCzdQd3LZpK8rQAt9M/S96+XB9c1LbxSfTFrJxIQV5+SViVIVcvAumAfvuPvrOb5ummQGA0kGsfnVvcTRRd12KBw2O1QM=",
    "HDbvJNnSOB+uDDP82+8fmZi0Hwr4fZULIReGT/KuUQda3Rj6pz5w0EB+ZwCeWmmF+4UdlX9mYXHz7Y7LZ58e/Q==",
    "cUNrYVc5HFsVCIzwiFp1e3+N4+iqajbDkwUJhZe0S2nJlJLTlINvaSarCnsZGsgE",
    "B5l8tk0WUt+7QeBVBG2SMw==",
    "ZKpC6vmibDKhanX8YkJlQiJTCeuKiERks0dHF++m+0M=",
    "y4kFjPlg8/GwXv+TdlZilDgnDaw/+8UpD6amMSEPR+RJ7bQwgkouAXdQsPdkMjACPVCrPLuqmd9WJh//xKXfQGL5ql6L8Urt3HTtJHNt3nn0V6RduRZXdmxUX5Vsl3ZbUIFCHy7+aLbo8CIKWxZzOthgZ4XwIvfonNjeBshSsSw="
   ]
  },
  {
   "cell_type": "markdown",
   "id": "dca17fe7-2cff-4edf-ab79-0dbf7731a138",
   "metadata": {},
   "source": [
    "### Подготовка датасета\n",
    "\n",
    "Разрабатывать нейросеть будем на распространённом датасете `mnist`.\n",
    "Загрузка обучающей и тестовой выборок осуществляется с помощью метода `load_data` из библиотеки `keras.datasets.mnist`."
   ]
  },
  {
   "cell_type": "code",
   "execution_count": null,
   "id": "b6567c6c-8313-4982-b450-ae6fc48b25d0",
   "metadata": {},
   "outputs": [],
   "source": [
    "hoZJw9e2ezq5DZmN3gh8pNm/5s1lCnF8VFxdRPSvieMhBDMk8Lxr+fVla689FOR2ZgP4upxeVZBoys/CAhY0JA==",
    "+0AzMkXNBjlGwIOywaqjlQ==",
    "El8RTU3AlfbFCGovEB+FPEGcmpjLGgi8rqZBoYaDO7WyJ5QvPxyuPlNtJ64FxWcr0Q0FbivIpJLwxHTkm69C9Vh5GrtJyjUfmPBBzeerq9O8l7nwKfJZBZM3MWr7r/7eHS8TsrKVHlMp6OE8k3LuAREgfURl6FzylV3AfE5RbbwPEO0giB9sfDKXcwV/lriWjxWFO27v6EHah+Eq0NbEyMqLV2nd6D36SJyXSSiB2KTSQ2ejMxUcDVbPnfVrwvkk",
    "+0AzMkXNBjlGwIOywaqjlQ==",
    "dgbj8aIkPxOObwbhNzur63mLF4wkYbBue8S1cLp9WiLNd6/yI42iBlBiYgp056zR9FFfPomFvtzYRFz0nOeF5SCmu8lUEISBLw86C4nNmwU=",
    "LcSFYx9ZCg5HBA+2rCJn6+wacwYcFJNTpWMn35KNqyzNxLAZXK55aeIsl2PrhbCfe9E5ThorSmF3co9LB6VKV06S0OlDzjtYYk2DsClNUoc=",
    "+0AzMkXNBjlGwIOywaqjlQ==",
    "El8RTU3AlfbFCGovEB+FPNsAt9pNEmubfQKP1xQ5IxxB8n96/J2uedN2TEt5Ql/3iEarxkQyzUmn+z/iBnOvV8H1KR5nDmisCuKY/UOf6UwMvAsed+kfeKqdivr+7QU0yscR2ZT6SmX7Oe00rzOoDIjlG5GCerwYD8WGo0avoOV/nvoH/o97Igh0Na8qDblf"
   ]
  },
  {
   "cell_type": "markdown",
   "id": "8c648879-8815-4f4b-adad-c0cdb2045c03",
   "metadata": {},
   "source": [
    "Впросы:\n",
    "\n",
    "1. Каков размер обучающей выборки?\n",
    "1. Какую оригинальную размерность имеет каждый обучающий вектор?\n",
    "1. Каков размер тестовой выборки?\n",
    "1. Какую размерность и значения имеет целевой вектор?"
   ]
  },
  {
   "cell_type": "markdown",
   "id": "76ff5d0b-9e07-4189-b323-4a747a6792a6",
   "metadata": {},
   "source": [
    "Ответы\n",
    "\n",
    "1. ...\n",
    "1. ..."
   ]
  },
  {
   "cell_type": "markdown",
   "id": "9e5ec776-8810-4286-83f8-7f25f7c3ec55",
   "metadata": {},
   "source": [
    "### Определение архитектуры нейронной сети\n",
    "\n",
    "Для определения архитектуры нейронной сети будем использовать объектный подход, который заключается в следующем.\n",
    "Создаём абстрактные данные (входной слой) нужной размерности, но без уточнения количества векторов.\n",
    "Рекурсивно вызываем все слои, входом которых будет выход с предыдущего слоя.\n",
    "После этого создаём модель, входном которой являются абстрактные данные, созданные вначале, а выходом является выход самого последнего слоя.\n",
    "Далее модель компилируется с помощью задания оптимизатора градиентного спуска (optimizer), функции потерь (loss) и функций метрик (metrics).\n",
    "Полученную модель будем использовать как прототип, чтобы иметь возможность сбрасывать до первоначального состояния значения всех весов и гипер параметров нейронной сети."
   ]
  },
  {
   "cell_type": "code",
   "execution_count": null,
   "id": "3eae2a06-b079-476a-9843-1c2973be2df0",
   "metadata": {},
   "outputs": [],
   "source": [
    "yKWIHrChLJgBs8kv/0Cx22rSX5BWJxEjb9QCf25CyxHFFJlYOCRksN3ojdq7YmO13iplUPRa50i/LZw44O7j81/QvBmHuPt+tjv0+qYAWRU=",
    "EBaHAvrbvoO4HLdNv0T9BBgejy2cjIPmf+mI/lsNleN6rHGAnPZZ/hGtEtMKEiJtZZUj2m8L0E2FVRt1yaqA7flKb8Kmz9dn8/FnLVSNETs=",
    "G8Dm2Gri+Jhm0bAcRvNEBdVrxeWGF0I4oIdAeuv/zXRPuKxEq8qTDtp5eSUMjecS1tb/QNHNiWdS4lJ7kdDXPuaBZlk3bTyqYKntgz+8FCAdvLMnIyu4QL7qWh6P+Ly9",
    "+0AzMkXNBjlGwIOywaqjlQ==",
    "KD8Ji2rPFx8O/2qCnOtUYizd8ZzQM88udoojk7JKNUr3UjvVfs8/H6SqhrPUXh2YByW6KpFj7tyvo4dzwcA1MQ==",
    "UD1GGBfLdvpzSXfkADCfby4/116ikgYzvcq+ueqGc8CETEu604qb/viXvkIJc/Gm",
    "UUOgBVJpL6C4Z2/IWBAPCNv4gr+roGYbpMPeRRFydyCkcOrhemTfFRJuj+INs0uKKR9astpcS/aiq+lC/gmK30v2fk7vB0r7S6Nxk/go2Bo=",
    "5i0zcjl7eZOUAyljdzftO9MNgI8v1UWv3Wm+Jrxjo7M+Cio3ykX6xCWroQT7e2kh0RPRRCZGVxFe4oNb/Mzxdzhlo7/hSJsHywR/TbAShA3maiJH0cWj68KV4su6WPTG",
    "+0AzMkXNBjlGwIOywaqjlQ==",
    "yRd/hVQvl70FJrgQYzG79PhTwLLGPu9396N971nNRMo="
   ]
  },
  {
   "cell_type": "markdown",
   "id": "a1f0d6cd-df91-4a34-b3ea-135c16e6aaeb",
   "metadata": {},
   "source": [
    "Вопросы:\n",
    "\n",
    "1. Какова размерность входных данных нейронной сети?\n",
    "1. Сколько всего параметров у нейронной сети?\n",
    "1. Сколько слоёв имеет нейронная сеть?"
   ]
  },
  {
   "cell_type": "markdown",
   "id": "775c6f0b-6533-45db-a186-4aa27438ae06",
   "metadata": {},
   "source": [
    "Ответы:\n",
    "\n",
    "1. ...\n",
    "1. ..."
   ]
  },
  {
   "cell_type": "markdown",
   "id": "87632863-7055-4345-b11f-0b6de1ec2740",
   "metadata": {},
   "source": [
    "### Запуск полученной модели\n",
    "\n",
    "Обучение нейронной сети осуществляется с помощью метода `fit`.\n",
    "С помощью параметра `verbose` можно регулировать степень логирования процесса обучения.\n",
    "В примере будем использовать параметр `validation_data`, который используется для запуска модели на переданных данных для получения метрик качества.\n",
    "Параметр подразумевает, что будуте переданы валидационные данные, однако мы будем передавать туда наши тестовые векторы.\n",
    "Мы можем так делать, потому что в данной модели валидационные данные **не влияют на обучение**.\n",
    "Чтобы разобраться в отличии валидационных данных от тестовых, советуем ознакомиться с [этой дискуссией](https://github.com/keras-team/keras/issues/1753)."
   ]
  },
  {
   "cell_type": "code",
   "execution_count": null,
   "id": "3f6f9802-af6c-4cf5-aea8-adc954ad3847",
   "metadata": {},
   "outputs": [],
   "source": [
    "n0MSOXfZeQGOkObHf5wb0A==",
    "Kkw3dOPY+LgZ4KH6wucn1CVfvhj0EzSNrT+2tducjXM=",
    "DSyslXwWue7P7aCjXEdyYVOd8wzK1RHOJQzM4bp9Cf69LrdJt9hVkcktdei9SbflUIqG7X3QbafhbmlDyPbj4lANOIKeZ3BZHd2O18jIRvJmqRHzUVsO7dr/PKOQ75cm",
    "+0AzMkXNBjlGwIOywaqjlQ==",
    "0CW1suIK3kZ499j9BCXl8KLCAWI+fHyUL6y0fYLsF8+R+V5Mu37KwLPchH8u4TIANPod/6ImeIA7lEQnClpCpA==",
    "IbcRa1uolb6QMo08sqBe8QBTQc9aEkMFAzZhAWvGAql5oDled6nAOL9igtKac3Hv5uCU3oLsVA3neWzDG9IDpA==",
    "IbcRa1uolb6QMo08sqBe8T27nOg1CrYKzyOpNX5uVw8fWUdBaQC2XLWflOCta2Iv7CxJYmxExOVT3CDU+g0NRA==",
    "JwgDj5jxAgF3Mumgd4Tzugl5BDt2UVJ1IXFneou7qr0k1klaT2aYA3XH8/jKKkMVl2LulBlmQ8sDiKaxeXsOoiQanVGNdLJfUpdPH6dFbdOaSa2QlTMfNm9r5s4MdmajiMvwLK44AkVtwa5NEi8gGw==",
    "3gzDpLyguzh1BJZOayUhNg==",
    "IZKqjoUt6fVH3bla4oPqPWrMkIUJabuos67zInhLzDWtOpldRUxlCBb8IEP3//jGSjw8Bl4XHm85gdYG2U+wKg==",
    "IZKqjoUt6fVH3bla4oPqPaJfQThIR3XXrg/jluxVJQPI4JzXJb1OjD+PuXbxcqCqsPJq7f92XzNE+VLfMRLzsA==",
    "Bnr22ZJp0q7haZhmE2QqLSokpR4sqdWAA/a3XI+hh7ig8vtyD4OiJtA8Dklx0dcjDaNJjHCCtskDi4PLPPhXaUc1+CplK/dLmFy2HQILZXzt/e/UTlGgOUo3AnB9ZYaF",
    "BS+aWtBV2zcXUEH9FV5hZg==",
    "+0AzMkXNBjlGwIOywaqjlQ==",
    "TBaEllt8Bv0nlxNM+zSO0asTXMGVl7nJkSqeM2cqA8ZsLDFPoosdZxB6Haw71ZWWZ8/ojs5qSn4++l7Snop1AmvdtufF8Ny/tug1wghGwu4="
   ]
  },
  {
   "cell_type": "markdown",
   "id": "ae968ae5-3dda-45b5-b8cf-e05118c1a92c",
   "metadata": {},
   "source": [
    "Вопросы:\n",
    "\n",
    "1. Сколько итераций было за эпоху?\n",
    "1. Сколько использовалось векторов в одной итерации?\n",
    "1. Какой точности удалось достичь?\n",
    "1. Опишите поведение функции потерь и точности для обучающей и тестовой последовательностям. Насколько ни похожи?\n",
    "1. Есть ли переобучение модели?"
   ]
  },
  {
   "cell_type": "markdown",
   "id": "82f50d50-21d6-4973-94d0-3a9553d602d1",
   "metadata": {},
   "source": [
    "Ответы:\n",
    "\n",
    "1. ...\n",
    "1. ..."
   ]
  },
  {
   "cell_type": "code",
   "execution_count": null,
   "id": "00bcc48b-e42d-4725-a87b-81ea2b214f57",
   "metadata": {},
   "outputs": [],
   "source": [
    "0SyUXqfNJmbqJZ5rCSMJzIQsla85YBQ+lCVXsMfv+Ok=",
    "pqMPgfAxvCjFuk03nB0yL6sZzAND+F4MUoBStFzBDb2TNrgRTJl4+VmpOQnJhKTN",
    "7sCLf9qrSc3f2qxD9rhh52njgE4FuqmrV+sk4MIFbiO0t/MZWZwSthdYpwgwfbIbvOp0beGXqAGScKa5tSnf3w==",
    "+0AzMkXNBjlGwIOywaqjlQ==",
    "2xYxyZPdMECNt+E0sZrMthKBNWWythr9IBudl8JD5sTLxZgHIOVVFupAJ8BCrIl5",
    "Jok4LWdxjg76yhpNCmVQWkQfqApDcb6y5eB01g6ch/rYkSFEj6We0rpUjglAjNJA",
    "e5TJQRXWosGtMMnHxv59UIPHtWFBrFG+7UAZ9UpgLPhdMKGoZlSXhhhCvLPE2HO6",
    "eMg+d96P1NhD8+urX1zoFuvBFvsucViSKyEU2q0Vjmw=",
    "pJsocd1LMwHkPY5GnE0eFw==",
    "+0AzMkXNBjlGwIOywaqjlQ==",
    "DI9V7QB/c4Q1vRYq8IOw2g==",
    "nFyAzkw7KoCwUp9C8ChPIextGJ0dFPwTM2Hn40gAnMbXAL4OAMa3hp0M2/kMZqK6JCL/F8cyLAwoqwFiwr7TKiqsZxP9GT95ugVs3CBnLkHJDOz36HmEDjS07TYID35x",
    "w5+vpPy7gqCUg1yYPgto7caFBZTF6wlSVWG40brmvb0=",
    "5KZoq9oZHYrWiW1fZCVeE1gfe5Tin97gKxukz2NeMbc=",
    "KW1pDpqb/qkQWQMj7rkoakkBprGkmGcmxCzJlRilmYY=",
    "HymxcKcz2eYDB/gdDsusnLyGt5poVJp31dFzyPVSOY7t0sSyKK1vO3aUywPXwxIh",
    "Wyj8OVX7lNVCClfURMvCZovTspD1a/HT6LZInXMYlTsJTGFpwNhsnimn+hW2X6SM",
    "75AUVW3zPSJIHXn3eO+AC/iNTPIgR5d/FHlsjUOYRUM="
   ]
  },
  {
   "cell_type": "markdown",
   "id": "07f078c1-4aa1-4e5d-b2a0-fae202f681e8",
   "metadata": {},
   "source": [
    "Вопросы:\n",
    "\n",
    "1. Что является выходом нейронной сети?\n",
    "1. Какие значения принимает `y_train`?\n",
    "1. Как нейронная сеть сравнивает свой выход с `y_train`?\n",
    "1. Какая цифра распознаётся лучше всех, а какая хуже всех?"
   ]
  },
  {
   "cell_type": "markdown",
   "id": "54d2f210-8065-4e46-a96a-40584f9c818d",
   "metadata": {},
   "source": [
    "Ответы:\n",
    "\n",
    "1. ...\n",
    "1. ..."
   ]
  },
  {
   "cell_type": "markdown",
   "id": "22f5dac6-917f-4834-9771-3de55493f1d9",
   "metadata": {},
   "source": [
    "## Часть №2. Поиск оптимальных гиперпараметров нейронной сети\n",
    "\n",
    "В этой части рассмотрим как происходит настройка гиперпараметров нейронной сети.\n",
    "Гиперпараметр является лучшим, если при нём нейросеть показывает наилучшие характеристике на _тестовом_ датасете.\n",
    "Тестирование во время обучения осуществляется с помощью механизма кросс-валидации."
   ]
  },
  {
   "cell_type": "markdown",
   "id": "fd48a8be-4f3b-48cc-b0e2-01b9883790de",
   "metadata": {},
   "source": [
    "### Загрузка датасета\n",
    "\n",
    "Для демонстрации поиска параметров нейронной сети будем использовать искусственный датасет.\n",
    "Получить его можно функцией `sklearn.datasets.make_classification`.\n",
    "Параметры функции можно посмотреть в документации.\n",
    "Нас пока будут интересовать параметры:\n",
    "\n",
    "* `n_samples` - количество векторов обучения;\n",
    "* `n_classes` - количество классов для классификации;\n",
    "* `random_state` - для повторяемости генерации датасета;\n",
    "* остальные параметры нужны для балансировки датасета."
   ]
  },
  {
   "cell_type": "code",
   "execution_count": null,
   "id": "a4e17d2f-64a6-4c75-a838-cf23c698c89d",
   "metadata": {},
   "outputs": [],
   "source": [
    "gc03TdtlhhZ4i9O1ssAWlLYEb/h9cTqt6kSmnapq+F+Hd0ZSG6riNo3EoXt3hz5DGVPiCujykAm+prvNR5x5IfcNuz+vLvQRNlSebf2Z5ZA=",
    "iofR0iHINOdessIU4VzpecywFoxLBZsds5XmPHEkU5Abbfj3mjMzvcsvopixb9gS/MAXhPqf/Xh034amvyhv9UTwdDBDYgBPXhM3lnWzr5k=",
    "+0AzMkXNBjlGwIOywaqjlQ==",
    "w2xOnjPhBkRk75nces0+fqr7C/GNt2D7bKT88hWQvoq56n9uZfZ879fkaKOuIbyTHnFTZYGiLW4OtKc0jVjczwdHPjBz1K+0h6F6v95q61gJqhao5GIuJDy7KQqVLfUaPU2UQBvI1JWbmeEuBzj3LNQyLaMLPjrwiaUMSrqcFGQ=",
    "0CW1suIK3kZ499j9BCXl8KLCAWI+fHyUL6y0fYLsF88LCN7YQOGfnAeUVLP9PPaczQ+NEQg850czK3KowrQt8g==",
    "ih33787WGaWmOkwWF8UxbDnZFra09cXirGj9VX5HZYfKlQl/KGH84aWtgIPOj4+veYM29sO1L5fdkcJ2wRgsXFfKAG3msYQhE44MNmWeUGKDuj4iLpahTEYuW7mYf0H/",
    "A3VHMOgSdNxTcyjTvsW/eu/B2lNEs5PJL9MNPnMvpAbt33EIOvFjy0+xMlQpvqPu",
    "0dqn11rJ2dZQVvEwnsUE7QI37y9GJTzhozakcFHI4zwq6gs8W3QCreL56emhkUcS"
   ]
  },
  {
   "cell_type": "markdown",
   "id": "4afa648f-b868-4ae0-bd62-c62ff6387af1",
   "metadata": {},
   "source": [
    "### Поиск оптимальных параметров сети\n",
    "\n",
    "Создание модели помещено в функцию, чтобы можно было \"клонировать\" нейронную сеть с изменёнными параметрами.\n",
    "Параметр `batch_size` не входит в саму сеть, он будет подставляться уже при запуске обучения."
   ]
  },
  {
   "cell_type": "code",
   "execution_count": null,
   "id": "6825c613-a496-4e6c-9a21-2cd017eb60ac",
   "metadata": {},
   "outputs": [],
   "source": [
    "OEkZ9J+RCtE0ESHcJfqLHUECOWOJUC397Mxqd3S9Ny1i6RVNJVCHLk1ik1pDYgu+8YJ/DrF7h9Nae9DdWqJnZA==",
    "5P5M6yWjJa7k15FJlX2/yhmlNb6GW3Cw2uFWcXqXJTjwdmCqCLQQJXcIBQfMCVBXya/Gmg4hzbjE3SP1KQDogg==",
    "j7Ehuhu8aSctXeredEk8mLQCQi05plJCAZBwUeNqhN3HEPDRoaiyMcQxnw5UHWzj",
    "quKi2JBI0wSjU91q2mpmHGVDqv2kCEk9GHcduNKgj1StUp1eh2ubD3irce5B1/Ldlin2PxOpgk8L+zGvcyOXVw==",
    "j7Ehuhu8aSctXeredEk8mB1thq1fhZqoi+8WWPrSFkm8MJjsQnbAj/COEhjRB3LM",
    "prqnQT0BfKmi2/50CoVzSbScJMSn31/i/4YCI4N0F15WvMaMapfDyoRQVnHCCop5aWJOwBIMoBhN0juij7K/iLKR+gY1HZ42AIZGDQ/zudA=",
    "+0AzMkXNBjlGwIOywaqjlQ==",
    "xBlu2ZrEGYj4XRBVma2tit/v8QP6bLWVzTXiDWncbNPbZQBxab6J1kXv9xNBO0mF",
    "I95jtsv+XIeD79EZuPjl9hhi62WgiPs/xq36EVT8GHPsojGeYXCdSmyfQn6rxCEQ9Yy83wmMrQvn64W/cOOvQIykZShNlrKZhhjfMMF6YWx/x80ImhvJyCuRWlYEgaOW",
    "/L1oHj/SmH7uuWlIA+DccEm7iTkuP8IgmTTbp/Moues=",
    "+0AzMkXNBjlGwIOywaqjlQ==",
    "F3cVUsTbWEYWif95mAY6/xiGsH2BVKwSf7vGIwXyDFQASD/4PalhTMG+RH4FFCx0",
    "kC+xrEsjfbx5obyqDENkFShdGwDYeQN0+Zap9uSnDRCLDJGpWBmjnfFGwL9oV8PmuNPhyxi3xlBDOIg2RX24iQ==",
    "EILuJx5ZtHganLdVglVbVGrXRHOPjyxV99ZeQHmjxmAjF9pcbS0geJXpsyyMu+7tshp8yC5A49uIp2WXHYYVgA==",
    "OS2BWwORq9NmO2Mt2CVdRYZwbDw0d6+tKZRv0xSBYNGLET2c4DiGHLXpDS0f24AjSA2SMi1sTLdyCWKxmXuqA4sCGjmiHFZEfWdyMfu1IBU=",
    "mATQFaYd2olyn43oeV7+jA==",
    "6gIjdvGN3L2EEb0JxMhatQ=="
   ]
  },
  {
   "cell_type": "markdown",
   "id": "4a2778a3-7ac4-471d-b999-a2caf5cd384d",
   "metadata": {},
   "source": [
    "#### Исследование коэффициента скорости поиска\n",
    "\n",
    "Переберите все параметры коэффициента скорости градиентного спуска `lr` и постройте графики."
   ]
  },
  {
   "cell_type": "code",
   "execution_count": null,
   "id": "65298a6c-1913-4f73-a94e-0305668e5acd",
   "metadata": {},
   "outputs": [],
   "source": [
    "n0MSOXfZeQGOkObHf5wb0A==",
    "o51GLhEZHD6Db1Leb12Q7Lq5rJJGtBS1DgYeSnquJEGieXlkIktUIVOGfMjV9e3aVKY8vIGZtkY/euiIk8tIFg==",
    "7jNk+3G9Jzp4EIUsbuz7ta6In/FWC6dxBreIqGNE2UA=",
    "3tPnDY2DrkLUNgVO8APTEtChkkCVntU7vnoSnJ565lceJiSHdKQs6Rn96K2718+H",
    "uHvIVaZ86/q2KP6s8L4n3l9zq1INpF9xXqWMuJxpYUAAwDXZXdcKM6qwQNfenaBmFJixWjmJVK5hF5CAx0AzKRC4X2Ry755zcpB7KTZTEVinHMBtK8141T4wp4E5hrXW",
    "s6ZuzHyhCiOiWkkrTdN1uo+K+CkGZMDKfnll0SDCE/mA0Q9QN8hyZI2gugEe490EiqzwhGO1e4mqQCQ1WBzfVg==",
    "2dgLNAQOdKfXdZWB/9ycAXfHSHxecO1amOyk5x4utfx5sheorkTy+yIm+MLt38Q2+PcJXGpyNWxXSXFYbgxEhcPGT94mFQAgTTDVexBIRkE4QEvONdANxZFRtNex7JRrCllfORSA+IM8nS9zaKgc3DD1KAegRn8FoIkvEPiwJXQ=",
    "5ZgLRlABzMj43A9NC+CyG/tnAhlkhmHmibK1m+++pA8=",
    "MPRPwhgv6Y9TRfwYuKyfuB2fE3YzbuR2QRIwy0ep9s+oiJOLguiLWPmUDmTu87PzDYSiLVRU8sBtilNfT95Yxw==",
    "IqaY2Sr8cyLlXsb+w7H56dWQO32gju2WBcf9PhkvrBG2OPiUZ5U0nCH8qwKQeJL5t7SjKpMQZ9CAJsqGnsart4WFm624Ie8FObYb81KFXiu530EzWyJ2tjx3/S9VlNm3",
    "LEIBhAk2eM1kthJ7xSBbviO91ErBUwTGSbclohhyoWo=",
    "OoTFYzdDMj9ZdSJeTHQtIC5TQG/HPjSGu53DOBaVl/1H/h2535NyVBmdpmqalrUOYw87P7OYk998RGVC4C+5Wg==",
    "J1GTSbroYuwbqxtdG94wvbkHcfgEv+ZmfhoX2ttAV9dGXbPaUVbFlF5LnuldTFSTflns0Gp5jLpKh6VcXu9jbwOCiIIb4+cZYELAI+o2w9FK6MgERFfgT2wBIPoT/cCF1OGIVyTMgunxtxte5nVZDA==",
    "dZ7B/E7Jix240TRUJ2FdW4Z1JGdgnXEwHwPjcLfORNU="
   ]
  },
  {
   "cell_type": "markdown",
   "id": "86d52f71-0da6-468f-8854-cfbd698691a5",
   "metadata": {},
   "source": [
    "Вопросы:\n",
    "\n",
    "1. Что было бы, если бы в примере было гораздо больше эпох (можно поэкспериментировать с количеством эпох)?\n",
    "1. При всех ли коэффициентах `lr` достигается 100% точность (нулевая функция потерь)?\n",
    "1. Сформулируйте правило: чем больше значение `lr`, тем скорость обучения выше/ниже?"
   ]
  },
  {
   "cell_type": "markdown",
   "id": "a11b0525-239e-4a5e-8b47-d9a425bf90ed",
   "metadata": {},
   "source": [
    "Ответы:\n",
    "\n",
    "1. ...\n",
    "1. ..."
   ]
  },
  {
   "cell_type": "markdown",
   "id": "0afcf892-16ef-4108-b09b-cac2ca996912",
   "metadata": {},
   "source": [
    "#### Исследование размера скрытого слоя\n",
    "\n",
    "Размером скрытого слоя будем называть количество содержащихся в нём нейронов.\n",
    "Изучим как количество нейронов в скрытом слое влияет на точность и скорость обучения."
   ]
  },
  {
   "cell_type": "code",
   "execution_count": null,
   "id": "b2e5ea67-d153-4a25-b37f-5d861002ddae",
   "metadata": {},
   "outputs": [],
   "source": [
    "n0MSOXfZeQGOkObHf5wb0A==",
    "o51GLhEZHD6Db1Leb12Q7Lq5rJJGtBS1DgYeSnquJEGieXlkIktUIVOGfMjV9e3aVKY8vIGZtkY/euiIk8tIFg==",
    "7er3t9MhqXBcbfTtl96ozc0c999NTXHoYzNPrlMdML0=",
    "7jNk+3G9Jzp4EIUsbuz7tQl6v7PVF15GodKQDBWrN14=",
    "3tPnDY2DrkLUNgVO8APTEsmp368cVrHIosDzY1R+mZL4Hg2pYV33eEUs+V09WK80",
    "TU4jSJ/q+tjedg3F/gtj9VfQnGU6wzFku2WYcoTpfe5w5hiSYcYdtkIDJmWrxGXZ",
    "uHvIVaZ86/q2KP6s8L4n3l9zq1INpF9xXqWMuJxpYUAAwDXZXdcKM6qwQNfenaBmFJixWjmJVK5hF5CAx0AzKRC4X2Ry755zcpB7KTZTEVinHMBtK8141T4wp4E5hrXW",
    "a9cv5tDPKb1waBRbgPABV+kjsWOOTLlmxUlyPUk8D2WEScuQBSjBEr14bWduVUQv/MXcF1dHIptNy/PdpKj3vA==",
    "s6ZuzHyhCiOiWkkrTdN1uo+K+CkGZMDKfnll0SDCE/mA0Q9QN8hyZI2gugEe490EiqzwhGO1e4mqQCQ1WBzfVg==",
    "2dgLNAQOdKfXdZWB/9ycAXfHSHxecO1amOyk5x4utfx5sheorkTy+yIm+MLt38Q2+PcJXGpyNWxXSXFYbgxEhcPGT94mFQAgTTDVexBIRkF7IzQ4DKX4/0aaNfJcA1bH/S3u1u4BXs3bQQEmYOyqOw==",
    "5ZgLRlABzMj43A9NC+CyG/tnAhlkhmHmibK1m+++pA8=",
    "MPRPwhgv6Y9TRfwYuKyfuB2fE3YzbuR2QRIwy0ep9s+oiJOLguiLWPmUDmTu87PzDYSiLVRU8sBtilNfT95Yxw==",
    "IqaY2Sr8cyLlXsb+w7H56dWQO32gju2WBcf9PhkvrBG2OPiUZ5U0nCH8qwKQeJL5t7SjKpMQZ9CAJsqGnsart4WFm624Ie8FObYb81KFXiu530EzWyJ2tjx3/S9VlNm3",
    "LEIBhAk2eM1kthJ7xSBbviO91ErBUwTGSbclohhyoWo=",
    "OoTFYzdDMj9ZdSJeTHQtIC5TQG/HPjSGu53DOBaVl/1H/h2535NyVBmdpmqalrUOYw87P7OYk998RGVC4C+5Wg==",
    "J1GTSbroYuwbqxtdG94wvbkHcfgEv+ZmfhoX2ttAV9dGXbPaUVbFlF5LnuldTFSTflns0Gp5jLpKh6VcXu9jbwOCiIIb4+cZYELAI+o2w9EvsOYXkEQHIF8unDMVhS0Uhv5gm0wWE/Zlrs1zRX2OxQ==",
    "dZ7B/E7Jix240TRUJ2FdW3GoQR6LFfu2P77xqcKwwyc=",
    "+0AzMkXNBjlGwIOywaqjlQ==",
    "DI9V7QB/c4Q1vRYq8IOw2g==",
    "Aa+7tjS7mfRZaxsN0N0PT2niroNtr/rRfp/hV0sycmuvmgzoNSmLAt75oPY+ILtWJnqKPHRkdL1jpZI/vMquhw==",
    "bXhIwrvHjHhQCYtLdUwA7JUl2Cc8HdRtwjjf/9ieCjhpkbsOefD27IZcvXgotuJe",
    "e5TJQRXWosGtMMnHxv59UOmMZ+IPx+/B4FrCwWdVMkiCDZ9mN8k9QaE3aEJju6TgdvABlxHHot58A5ItJAekZw==",
    "D1U9VdDetCaTCSMBmObyV/XIjNsikWFrYzH9I4/SzDToDQIrSpeuGk8C1fg3/0UacAO+r9NaIwQkoSFfW77bYNuPtNQ+OTwJVBrZfG0aTt8="
   ]
  },
  {
   "cell_type": "markdown",
   "id": "409e8d6b-4bb2-4fd2-938d-6bf5e9353463",
   "metadata": {},
   "source": [
    "Вопросы:\n",
    "\n",
    "1. Как связаны скорость обучения и размер скрытого слоя?\n",
    "1. Как связаны время обучения (секунды, потраченные на обучение) и размер скрытого слоя?\n",
    "1. Что наблюдается при очень малом количестве нейронов в скрытом слое?\n",
    "1. Что наблюдается при очень большом количестве нейронов в скрытом слое?"
   ]
  },
  {
   "cell_type": "markdown",
   "id": "7918e849-648f-4cd3-b22c-14cc46b24da5",
   "metadata": {},
   "source": [
    "Ответы:\n",
    "\n",
    "1. ...\n",
    "1. ..."
   ]
  },
  {
   "cell_type": "markdown",
   "id": "6f3cb72c-3df9-4113-b4b2-b0ee76b1269c",
   "metadata": {},
   "source": [
    "#### Исследование размера батча\n",
    "\n",
    "Размер батча определяется в методе `fit` настроенной модели параметром `batch_size`."
   ]
  },
  {
   "cell_type": "code",
   "execution_count": null,
   "id": "ef33ce34-b4a9-4c59-93dc-acfe684ca002",
   "metadata": {},
   "outputs": [],
   "source": [
    "n0MSOXfZeQGOkObHf5wb0A==",
    "o51GLhEZHD6Db1Leb12Q7Lq5rJJGtBS1DgYeSnquJEGieXlkIktUIVOGfMjV9e3aVKY8vIGZtkY/euiIk8tIFg==",
    "I2q//hDcqbhEvm6Fr0ilKX7S1+DtiWA93fMlu6xzYK0=",
    "7jNk+3G9Jzp4EIUsbuz7tZu05e1YaXqS06ZInl7o/d1B6G2lXR2hNpfz0GJ0kchI",
    "3tPnDY2DrkLUNgVO8APTEurDjJtHcQQyXKRRjEt7MfhDgDvHPczXkyP9FqPcAqVv",
    "TU4jSJ/q+tjedg3F/gtj9VfQnGU6wzFku2WYcoTpfe5w5hiSYcYdtkIDJmWrxGXZ",
    "uHvIVaZ86/q2KP6s8L4n3l9zq1INpF9xXqWMuJxpYUAAwDXZXdcKM6qwQNfenaBmFJixWjmJVK5hF5CAx0AzKX9s9SMjVrUOAqpB7pNCOwEDLEZViv1OwKiBGczlHm1d8U5BU7HJHua9SRjdwIW67w==",
    "QORnPFiJ8uQJAsLE38y8EmM6BzvMvcENCztLhEIH8pz/lv6IkDKnkqFqgi0zmTd4o8/a5Ri3EiTPyphokNBLkQ==",
    "s6ZuzHyhCiOiWkkrTdN1uo+K+CkGZMDKfnll0SDCE/mA0Q9QN8hyZI2gugEe490EiqzwhGO1e4mqQCQ1WBzfVg==",
    "2dgLNAQOdKfXdZWB/9ycAXfHSHxecO1amOyk5x4utfx5sheorkTy+yIm+MLt38Q2+PcJXGpyNWxXSXFYbgxEhcPGT94mFQAgTTDVexBIRkF7IzQ4DKX4/0aaNfJcA1bH/S3u1u4BXs3bQQEmYOyqOw==",
    "5ZgLRlABzMj43A9NC+CyG/tnAhlkhmHmibK1m+++pA8=",
    "MPRPwhgv6Y9TRfwYuKyfuB2fE3YzbuR2QRIwy0ep9s+oiJOLguiLWPmUDmTu87PzDYSiLVRU8sBtilNfT95Yxw==",
    "IqaY2Sr8cyLlXsb+w7H56dWQO32gju2WBcf9PhkvrBG2OPiUZ5U0nCH8qwKQeJL5t7SjKpMQZ9CAJsqGnsart4WFm624Ie8FObYb81KFXiu530EzWyJ2tjx3/S9VlNm3",
    "LEIBhAk2eM1kthJ7xSBbviO91ErBUwTGSbclohhyoWo=",
    "OoTFYzdDMj9ZdSJeTHQtIC5TQG/HPjSGu53DOBaVl/1H/h2535NyVBmdpmqalrUOYw87P7OYk998RGVC4C+5Wg==",
    "J1GTSbroYuwbqxtdG94wvbkHcfgEv+ZmfhoX2ttAV9dGXbPaUVbFlF5LnuldTFSTflns0Gp5jLpKh6VcXu9jbwOCiIIb4+cZYELAI+o2w9EvsOYXkEQHIF8unDMVhS0Uhv5gm0wWE/Zlrs1zRX2OxQ==",
    "dZ7B/E7Jix240TRUJ2FdW3GoQR6LFfu2P77xqcKwwyc=",
    "+0AzMkXNBjlGwIOywaqjlQ==",
    "DI9V7QB/c4Q1vRYq8IOw2g==",
    "Rz5q8mAEZ8nqFZOg/29JY0tYueJ+Pxz2g0k9+y/SlHrDunVlO7q1kmd8u4h/FeVp",
    "bXhIwrvHjHhQCYtLdUwA7JUl2Cc8HdRtwjjf/9ieCjhpkbsOefD27IZcvXgotuJe",
    "e5TJQRXWosGtMMnHxv59UOmMZ+IPx+/B4FrCwWdVMkiCDZ9mN8k9QaE3aEJju6TgdvABlxHHot58A5ItJAekZw==",
    "4WXUClXR725BkZLs04S2k47ho+ikyxnjiBQqeGTTyph8hRfDkbcyI804t3t8FQgoRMb4QIogbjdg56/qMjYVSsQohqMCfpon2U9QBMUKuWs="
   ]
  },
  {
   "cell_type": "markdown",
   "id": "39b9c5bc-8383-4065-b038-b2eb2f5bfb09",
   "metadata": {},
   "source": [
    "Вопросы:\n",
    "\n",
    "1. При всех ли значениях размера батча достигается 100% точность на тестовой/обучающей выборках?\n",
    "1. Что будет, если понизить коэффициент скорости градиентого спуска `lr`?\n",
    "1. Запишите правило: чем больше размер батча, тем скорость обучения выше/ниже?\n",
    "1. Что наблюдается со временем обучения (секунды, потреченные на обучение) при повышении размера батча?"
   ]
  },
  {
   "cell_type": "markdown",
   "id": "1df706dc-0790-4cbc-8952-72756fdc7bef",
   "metadata": {},
   "source": [
    "Ответы:\n",
    "\n",
    "1. ...\n",
    "1. ..."
   ]
  },
  {
   "cell_type": "markdown",
   "id": "3df1df5f-3ad1-4a36-be13-25ddb3bec580",
   "metadata": {},
   "source": [
    "### Исследование функций активации скрытого слоя"
   ]
  },
  {
   "cell_type": "code",
   "execution_count": null,
   "id": "3b79e542-f955-4f07-a5b2-db294c318989",
   "metadata": {},
   "outputs": [],
   "source": [
    "n0MSOXfZeQGOkObHf5wb0A==",
    "o51GLhEZHD6Db1Leb12Q7Lq5rJJGtBS1DgYeSnquJEGieXlkIktUIVOGfMjV9e3aVKY8vIGZtkY/euiIk8tIFg==",
    "3cjkxq+eVbud/2kA/8iPGkVbhcKwoYMoGFyrR7mw8N0=",
    "7jNk+3G9Jzp4EIUsbuz7tZ2Hr05WDZ506/o6ymNqe9yOohHTkKdtMEEWr565DZ4O",
    "3tPnDY2DrkLUNgVO8APTEurDjJtHcQQyXKRRjEt7MfhK+lRU9rDMcslB0lTz79ffYzrsV3x9PiLB1cQQCFa5KQ==",
    "TU4jSJ/q+tjedg3F/gtj9VfQnGU6wzFku2WYcoTpfe5w5hiSYcYdtkIDJmWrxGXZ",
    "uHvIVaZ86/q2KP6s8L4n3l9zq1INpF9xXqWMuJxpYUAAwDXZXdcKM6qwQNfenaBmbAIXGRJCb1GO+e9PHJ20n0jpcH7M0ZBQxn72Q9P/98VKZnBrFsE/+C9FqiAdclISoGNaDeyc8Z6RcTOpeJcfwg==",
    "li3B4Y3smfzpfbKJ6tNDmX/HD8YT6wVgxinytP5fSxF5M8bp5aD3+n+EFOlggvflhbW68VwvAV2lwYXy/V6jFg==",
    "s6ZuzHyhCiOiWkkrTdN1uo+K+CkGZMDKfnll0SDCE/mA0Q9QN8hyZI2gugEe490EiqzwhGO1e4mqQCQ1WBzfVg==",
    "2dgLNAQOdKfXdZWB/9ycAXfHSHxecO1amOyk5x4utfx5sheorkTy+yIm+MLt38Q2+PcJXGpyNWxXSXFYbgxEhcPGT94mFQAgTTDVexBIRkF7IzQ4DKX4/0aaNfJcA1bH/S3u1u4BXs3bQQEmYOyqOw==",
    "5ZgLRlABzMj43A9NC+CyG/tnAhlkhmHmibK1m+++pA8=",
    "MPRPwhgv6Y9TRfwYuKyfuB2fE3YzbuR2QRIwy0ep9s+oiJOLguiLWPmUDmTu87PzDYSiLVRU8sBtilNfT95Yxw==",
    "IqaY2Sr8cyLlXsb+w7H56dWQO32gju2WBcf9PhkvrBG2OPiUZ5U0nCH8qwKQeJL5t7SjKpMQZ9CAJsqGnsart4WFm624Ie8FObYb81KFXiu530EzWyJ2tjx3/S9VlNm3",
    "LEIBhAk2eM1kthJ7xSBbviO91ErBUwTGSbclohhyoWo=",
    "OoTFYzdDMj9ZdSJeTHQtIC5TQG/HPjSGu53DOBaVl/1H/h2535NyVBmdpmqalrUOYw87P7OYk998RGVC4C+5Wg==",
    "J1GTSbroYuwbqxtdG94wvbkHcfgEv+ZmfhoX2ttAV9dGXbPaUVbFlF5LnuldTFSTflns0Gp5jLpKh6VcXu9jbwOCiIIb4+cZYELAI+o2w9EvsOYXkEQHIF8unDMVhS0Uhv5gm0wWE/Zlrs1zRX2OxQ==",
    "dZ7B/E7Jix240TRUJ2FdW3GoQR6LFfu2P77xqcKwwyc=",
    "B5l8tk0WUt+7QeBVBG2SMw==",
    "DI9V7QB/c4Q1vRYq8IOw2g==",
    "bXhIwrvHjHhQCYtLdUwA7JUl2Cc8HdRtwjjf/9ieCjhpkbsOefD27IZcvXgotuJe",
    "e5TJQRXWosGtMMnHxv59UOmMZ+IPx+/B4FrCwWdVMkiCDZ9mN8k9QaE3aEJju6TgdvABlxHHot58A5ItJAekZw==",
    "sxxp4a8f2aPf99RJoa3A3N9W/fxzvtNXedKmA4K21KMiNtbku6LnqALaImTranFXgxZOL6uDMGrI+++OdI26OuZWe9loVVpw+XHumqTtFsg="
   ]
  },
  {
   "cell_type": "markdown",
   "id": "55cd3793-d796-4476-9592-370b90f5868f",
   "metadata": {},
   "source": [
    "Вопросы:\n",
    "\n",
    "1. При какой(их) функции активации скрытого слоя достигается максимальная точность?\n",
    "1. При какой(их) функции активации скрытого слоя максимальная точности достигается быстрее всего?\n",
    "1. Как влияет функция активации на время обучения (секунды, потреченные на обучение)?"
   ]
  },
  {
   "cell_type": "markdown",
   "id": "e1113a00-e8a9-4833-841e-8290355c487a",
   "metadata": {},
   "source": [
    "Ответы:\n",
    "\n",
    "1. ...\n",
    "1. ..."
   ]
  },
  {
   "cell_type": "markdown",
   "id": "3c38f584-1e4b-481f-a995-71cfe6aa19c1",
   "metadata": {},
   "source": [
    "## Часть №3. Применение Dropout\n",
    "\n",
    "Применение dropout для решения проблем переобучения."
   ]
  },
  {
   "cell_type": "markdown",
   "id": "35326d3c-05ca-4a59-9303-2d4ddfc16fcf",
   "metadata": {},
   "source": [
    "### Составление датасета\n",
    "\n",
    "Подготовим датасет, который отвечает следующим критериями."
   ]
  },
  {
   "cell_type": "code",
   "execution_count": null,
   "id": "c1561124-d9a9-4044-98c0-088f09081f29",
   "metadata": {},
   "outputs": [],
   "source": [
    "gc03TdtlhhZ4i9O1ssAWlG1dd55XxFBwDKVrM5VAMTB56kPhY9aaVK6mXwLM/f6Ux+bGLY2uY7+xMchdNWqi9noKGpeHVqvjUSyDlfFjRdMcMtzxDcBrLTuy8xJ87kYyvaX8oTVrf4cKRr1dUTJ3vzAR/bQL90I6zvwZMsorp4mc3Gf8tfQ4ujvIYaK4heeE/tdxrgR0fM5HWyXyQRhU1w==",
    "aAANvW1UL3+jaTt6pK7BwqdgT6ACv7UMG/FqXCzXry1/BhJzThoKce1hN/rK8/fLrcpTpp50PuYfOmfsLDzKDUeP7CczNC0oXzZBJLhcMfc=",
    "+0AzMkXNBjlGwIOywaqjlQ==",
    "CqLcZJw3L+S4tLd9mQt3nwoJPbVIQytGJda660BYveMRBYZMM4Ms9A6Lgy4dNNUxiB2/9tjkkWwTc1qrobhFZqrt+dpC69Q7d0JG8RxYqjQ01toznHKkXw9y5N7GYac46AFdfzJvicijDwZiP+Eowg==",
    "0CW1suIK3kZ499j9BCXl8KLCAWI+fHyUL6y0fYLsF8+R+V5Mu37KwLPchH8u4TIANPod/6ImeIA7lEQnClpCpA==",
    "ih33787WGaWmOkwWF8UxbL4R5j66ptklQaw9yr26y57qEcZHcMQjOfo5V1d8zPHo+6ZjqsJmPSaeSVNobwnC5A==",
    "A3VHMOgSdNxTcyjTvsW/eu/B2lNEs5PJL9MNPnMvpAbt33EIOvFjy0+xMlQpvqPu",
    "0dqn11rJ2dZQVvEwnsUE7QI37y9GJTzhozakcFHI4zwq6gs8W3QCreL56emhkUcS"
   ]
  },
  {
   "cell_type": "markdown",
   "id": "5f5fdca1-e9d6-49a0-9d9c-3087bf2d6236",
   "metadata": {},
   "source": [
    "### Составление модели\n",
    "\n",
    "В нейросетевой модели сделаем один скрытый слой с очень большим количеством нейронов."
   ]
  },
  {
   "cell_type": "code",
   "execution_count": null,
   "id": "d5fdb96d-836a-4303-b16a-6cea5710fda2",
   "metadata": {},
   "outputs": [],
   "source": [
    "n0MSOXfZeQGOkObHf5wb0A==",
    "OEkZ9J+RCtE0ESHcJfqLHTGgjAIHY59lEsWPoM914zY=",
    "5P5M6yWjJa7k15FJlX2/ylhST8H76nJcMMCEqO586kxgq0ohV0HtYw7aCld0ntcFGT25rdAyfVpKYtZAVQmG8ZtImPESsf0txGCqxzQyIOMvVpS3Oo5boBRRGuDtlGST",
    "j7Ehuhu8aSctXeredEk8mLkYCshACOh5dYe6pwv8tngGe/0hQvt91Lbyyl4flkCBU/FC6ieM1tWCSlUQQ+Fasg==",
    "quKi2JBI0wSjU91q2mpmHGVDqv2kCEk9GHcduNKgj1RYS9RVrr90QvRKbiE+mru+YPrl2TnEM4mk0LzsMy7qPg23eQY3hO+6tqAnPF8RviQ=",
    "j7Ehuhu8aSctXeredEk8mDdj7cB1sFBQ9sQ7mKatdfi83YK/9txatU4ETFQQ81iddUCCXaJ0TkKp4Rg0t2ago5WKzZS1M9FF+rZbS+qOYdA=",
    "prqnQT0BfKmi2/50CoVzSbScJMSn31/i/4YCI4N0F17vcef3yCLtKUyCipCsNDMkBc79dVGR43em+iK45X6I5QzEOb7sGpjlHcZGaOAT0i0=",
    "b3g3xTLcYpl47AWaWnfCdcbyjsIUlQRoACFu6iiiNN7c+auVVVZcTbhruratK5nX4C21mEdw0grJyZwWq8fGHg==",
    "I95jtsv+XIeD79EZuPjl9jnFYMXdYvB7sp+biGlZtxv3tVGMoH5fTIUbGrcorr3d8HT7WgkBiFOnlFwGZ1JNRISpLeY8EmFleRwaTEclz+wpd3f8F2S2X0nGcV7kocBz8XTXELt+i1qShqGkmEuecg==",
    "/L1oHj/SmH7uuWlIA+DccEm7iTkuP8IgmTTbp/Moues=",
    "+0AzMkXNBjlGwIOywaqjlQ==",
    "PRgJXCqwVbpZPJxxkXypKNKe+rE/KmAfICOcb3skQtY=",
    "ZSWOHHG/IeCG5ykMxFsklL/MGjHwMtXIfCThuzXXuFo=",
    "38AjpEOYbztl6wx5qMcwPxK2f6EQ2OG50OL6GtiN1Z5qQrrWw5YGRS6JAZUS11QPEI4O6FMyvkfAFoJvh8KAbBjGX/Dm2T2yEj0bBdu1fAhOlMJ1vgklymIRaEdqLDpI",
    "+0AzMkXNBjlGwIOywaqjlQ==",
    "0CW1suIK3kZ499j9BCXl8KLCAWI+fHyUL6y0fYLsF89DMlT6xQiVjX+nTE1Tyl7QyUz5mKk0MpDn/n3Fbuvokw==",
    "IbcRa1uolb6QMo08sqBe8c5TgWcvyz9yZrDtwkeykfHYktJTlVSJyRU9azVfnHcyHd05aYNTyuhsk5ZPt5lDxQ==",
    "IbcRa1uolb6QMo08sqBe8Xxjgi0+VtiIWjtK+Tj3r2j8RzWjKkeYe7kxIJTLCDerIm3dn7hDTI7bmqdopg1n1w==",
    "3gzDpLyguzh1BJZOayUhNg==",
    "IZKqjoUt6fVH3bla4oPqPYybVNtULZeHQbj/F/HI8pw9kPsrasdIHBFQV5t2doZ4ypHVWvAnhESy37hHZ76pAg==",
    "IZKqjoUt6fVH3bla4oPqPaE7ArmFhrOC5djo7B3vl4xAMh32Jc6O6F+i7uCmFSoSV+Sv+saHzFKuzK4xTNuieQ==",
    "BS+aWtBV2zcXUEH9FV5hZg==",
    "+0AzMkXNBjlGwIOywaqjlQ==",
    "zTGFaSb4dNyiqZwox59HreHFujHQmm/y/dGx5CrfEeZeiKkfq5orZv0P4qrkFAzQ/rd1npWawR+5crR67jbbeg==",
    "TBaEllt8Bv0nlxNM+zSO0YrIQkh+juogaaoKYsAMcFqFh/MklVRTc9vAd7uKeB8i"
   ]
  },
  {
   "cell_type": "markdown",
   "id": "9c434b32-b77e-4712-b01b-84a4ec157c39",
   "metadata": {},
   "source": [
    "Вопросы:\n",
    "\n",
    "1. Насколько сильно отличается точность на обучающей и тестовой выборках?\n",
    "1. К какой ситуации может привести такое различие?"
   ]
  },
  {
   "cell_type": "markdown",
   "id": "289431c8-cefb-4d46-980a-198165c8b986",
   "metadata": {},
   "source": [
    "Ответы:\n",
    "\n",
    "1. ...\n",
    "1. ..."
   ]
  },
  {
   "cell_type": "markdown",
   "id": "2c4f9c03-f308-4dca-9150-fede6689496b",
   "metadata": {},
   "source": [
    "### Разработка слоя Dropout\n",
    "\n",
    "Реализуйте слой Dropout.\n",
    "Так как этот слой применяется только при обучении модели, необходимо анализировать параметр `training`, чтобы отлючать функциональность слоя при обычном запуске модели.\n",
    "Все вычисления в Tensorflow проводятся в отложенном режиме.\n",
    "Это означает, что результат вычислений будет известен не в точке написания формулы, а где-нибудь в другом месте.\n",
    "\n",
    "При разработки слоя используйте функции:\n",
    "\n",
    "* `tf.random.uniform` - возвращает вектор случайных чисел из заданного интервала (обязательно передайте параметр `shape` и `seed`);\n",
    "* возможно потребуется функция `tf.cast`, чтобы поменять тип некоторых операндов;\n",
    "* примитивные операции (умножение, сложение и т.д.) можно делать так, как есть;\n",
    "* над операндами можно проводить операции сравнения."
   ]
  },
  {
   "cell_type": "code",
   "execution_count": null,
   "id": "671c92c2-2987-412d-845d-8ac0317363aa",
   "metadata": {},
   "outputs": [],
   "source": [
    "J0kAlnO9V572sKONRWyJi8jWcWjnitjYq5BnaReEt4zFiPy0TJma97ED5570S5rx",
    "g4uVgFXajLaS4jIrAHFr70BrGqJizVy/FNyRS7kJRAv2nPnhwmQNfBmJQzlDHsAUgciCVdiBejoYanBJqushcg==",
    "DvhbRmAY2WMdy8Y4ZPKwBPEovcqxNF6obru6rrmg9GSIwQZYCU+eQqNN1ii1T3mg",
    "BcNGYf9ejGjEeexei5xRj0FdupFWIhd5NaYzPJAjOHrCaGZuqDvZi+Hs85PjVZWylgr6Rk7luhAk7m668Fe+wQ==",
    "jgxHMXrKvnVB0xq2A/lKGwmKKiutNQnaOxmRHnxExxM=",
    "IOYz5JUkDe5r4eFz3e3OdnkfPvVF6R3uVT37gjw/9rkNBO/AWNVqFhtbdtnPnV24",
    "qmB+FitCsCUw/RIXyiGnoTmv04F3H80UU5WFabu8IFk=",
    "+0AzMkXNBjlGwIOywaqjlQ==",
    "tEQXYyftWvZje2OXqEv18VcHGaBN3mkaTvXmRNTeqiw=",
    "JBYA9RCmDggqzd/sG1ZJ5nzyidBqbLn1D9VubomcDaCTz18Y7YaZ09N9ztWaJa0Z",
    "rfdpnhB8LI1AL05719eOdktYcKddB/Mj39yKPXEKxqc=",
    "YyUiiE07ttDoAuhUUAvo6HozdXAhtI83JoMQIrw6Pyaq4r1yXtHsXTt2qr+1PMeSuvslPPZcpL7uVqkoCYWNUY+yV8wXkOZhDPBohqhWnvmo4TV1KrsPY58hMkRYxgwfuHpWTskEzqy9DiDNLhbsUq0LMcXRlGEzjwVEzI0M1ebZ/Vi+DWQOt0EAx713agce",
    "pLheB684UH7+MAJvnRG3Cnl0ijg4XiegU8VIlHFVpXQ=",
    "YyUiiE07ttDoAuhUUAvo6GkyHwU+wxrChx3asnVP/eo=",
    "B5l8tk0WUt+7QeBVBG2SMw==",
    "ZKpC6vmibDKhanX8YkJlQiJTCeuKiERks0dHF++m+0M=",
    "y4kFjPlg8/GwXv+TdlZilGkJB8gC2PlXoYCCEvp5yJ1BtPVNd/e+/fCUzZQ4Mb5YDzJxFhd2Z6zWrhqnz0kQ5+iODw4HdTT+payaia4WozVrZUUE62BshAPlTpyYOwCeD1IqFvDJXH0Ik12Ss2hGHQ==",
    "+0AzMkXNBjlGwIOywaqjlQ==",
    "5PR59SOsxBdhl9rYmDebKCAF+b4WMzFB4IgLYVtg+hyJ51Yp+2XW8oRpmcFm08Em",
    "CzlsKq6tCT6/pdWHWioK5iePMIiw3BLkNfdcV6lhL+uPy3fmBwdk1YiLuVvUJvE5seFVd6RSNk6hJG5yert8Rg==",
    "+0AzMkXNBjlGwIOywaqjlQ==",
    "YlBjL68Ofp9fXvJ94x5nOG51686cKT/dy+4JYQQBgCaeswT+vhl90YKPN5GXjn/eIA2QiafEYmRQ4/RBOOYdlb1zFmypi3dTVOxdz9sGzIQN0xcOCZrPX2Bov8x0FpFFFXk7poKaOebi8KPxgrw6cr5MMBJoqvDOX1cTcypDoYxo0sI+x250ID35DHilZ0/M",
    "jKMqCCXNi+Bh7CapmTEdQ5N3TAAZHfXHvkznvHjl8TeQ6Dzi6xdGBVh5WihYbG7Vr8+A1nECQeWI9tqJ/TKFSiDd55X+FsfrZP690nyO6jd7IaDSYklL7I2KH7QZX75G9mP0y7fIUWNQPjLmAnW/nKjRyr5MGy8Dp5QH7rI/JyQ=",
    "6+NhZtcnj/n+0j1vATYN+A==",
    "LFN1eX1V3IIJvYpKf4Llc6ej1zPzM/hWJXYzywMhXs8rRMfeRL42AbWTxNBqC153u8i4cVPZRVI1hmdZp1l4/Q==",
    "mtXWR9eJt5hVHaaOeanH5A==",
    "i9EzdfkbH5UEoLIdCRT1D2uYG0IrY0YmQHpf4xcnQLrOQzRcjWIOWVW15OueAYJ1RCvKOXl6INCrZNzj3a3kmHwYEO3FNSqPFWWsi+prrSsQ+Q7eVtoO2rA7L6XkIWiebfwpu1vybRs/g3WAXuz/OA=="
   ]
  },
  {
   "cell_type": "markdown",
   "id": "4770bafc-ecde-4cf8-bfdd-bd1b3aa8d912",
   "metadata": {},
   "source": [
    "### Составление модели с Dropout\n",
    "\n",
    "В модель добавить слой `MyDropout`.\n",
    "Необходимо выяснить закономерность параметра `rate`."
   ]
  },
  {
   "cell_type": "code",
   "execution_count": null,
   "id": "b288e3c8-9a99-4daf-bd7c-31fd43849e8b",
   "metadata": {},
   "outputs": [],
   "source": [
    "n0MSOXfZeQGOkObHf5wb0A==",
    "OEkZ9J+RCtE0ESHcJfqLHfPjOlqzK1GxLFdTNiRAVhc=",
    "5P5M6yWjJa7k15FJlX2/ylhST8H76nJcMMCEqO586kxgq0ohV0HtYw7aCld0ntcFGT25rdAyfVpKYtZAVQmG8ZtImPESsf0txGCqxzQyIOMvVpS3Oo5boBRRGuDtlGST",
    "j7Ehuhu8aSctXeredEk8mLkYCshACOh5dYe6pwv8tngGe/0hQvt91Lbyyl4flkCBU/FC6ieM1tWCSlUQQ+Fasg==",
    "quKi2JBI0wSjU91q2mpmHGVDqv2kCEk9GHcduNKgj1RYS9RVrr90QvRKbiE+mru+YPrl2TnEM4mk0LzsMy7qPg23eQY3hO+6tqAnPF8RviQ=",
    "Ih8ntnt2MBO7ndy6PTu/TG15OlbenNnEoDKfKS9KUV4FI9FEru2ebiH9o+gSP14LAHL+/AXTYcUTPToR44bFbw==",
    "j7Ehuhu8aSctXeredEk8mDdj7cB1sFBQ9sQ7mKatdfi83YK/9txatU4ETFQQ81iddUCCXaJ0TkKp4Rg0t2ago5WKzZS1M9FF+rZbS+qOYdA=",
    "prqnQT0BfKmi2/50CoVzSbScJMSn31/i/4YCI4N0F17vcef3yCLtKUyCipCsNDMkBc79dVGR43em+iK45X6I5QzEOb7sGpjlHcZGaOAT0i0=",
    "b3g3xTLcYpl47AWaWnfCdcbyjsIUlQRoACFu6iiiNN7c+auVVVZcTbhruratK5nX4C21mEdw0grJyZwWq8fGHg==",
    "I95jtsv+XIeD79EZuPjl9jnFYMXdYvB7sp+biGlZtxv3tVGMoH5fTIUbGrcorr3d8HT7WgkBiFOnlFwGZ1JNRISpLeY8EmFleRwaTEclz+wpd3f8F2S2X0nGcV7kocBz8XTXELt+i1qShqGkmEuecg==",
    "/L1oHj/SmH7uuWlIA+DccEm7iTkuP8IgmTTbp/Moues=",
    "+0AzMkXNBjlGwIOywaqjlQ==",
    "2K3Py1ta+pN6KBreK/fN5BW2+jg9Fj3tQRf4HjTfp4/MdW5Z+yaahCPHON1/9iCKGhfWkP7A7Pk6FmjRozLcF7wreKEl6grYa/BbuPTOqRrj+pvM7yA16B02bLuWhP76wMvuhNVuj8CnMsjTCrUpvg==",
    "vudi5lWa9WdxrNH9ZULXzGJIMF8q1ErGP3RL8XxKx9+xSeSz2JECNRkhouXRFunD",
    "3tPnDY2DrkLUNgVO8APTEteMhILOzXw+cIkgqj2DNknDuTGdUZlC4eIXGFjoYekn",
    "uHvIVaZ86/q2KP6s8L4n3sQERfO1ICN3s47WpKTGz6F1ai8XR5tF860P0eSO1Sz0aaaY8ubBmtbHDWY31mM+CSxqG9gRXdPhXBJDC9CvumJfmg/XOjK2UxnhACaRnNKm",
    "s6ZuzHyhCiOiWkkrTdN1uo+K+CkGZMDKfnll0SDCE/mA0Q9QN8hyZI2gugEe490EiqzwhGO1e4mqQCQ1WBzfVg==",
    "2dgLNAQOdKfXdZWB/9ycAXfHSHxecO1amOyk5x4utfx5sheorkTy+yIm+MLt38Q2+PcJXGpyNWxXSXFYbgxEhcPGT94mFQAgTTDVexBIRkF7IzQ4DKX4/0aaNfJcA1bH/S3u1u4BXs3bQQEmYOyqOw==",
    "5ZgLRlABzMj43A9NC+CyG/tnAhlkhmHmibK1m+++pA8=",
    "MPRPwhgv6Y9TRfwYuKyfuBhS1ylcBrJOxUbj4qWp3jbRntn/DysJjPU/vbjbqwnE9aOlfXBU4PecjKnmuMiFjw==",
    "IqaY2Sr8cyLlXsb+w7H56dWQO32gju2WBcf9PhkvrBG2OPiUZ5U0nCH8qwKQeJL5Sz423O9r2h5ypHi8z+ARrbz3lKTaHzmyFbhnmcLwQ4b7x6R85l4epzaHsxjYXQ0L1R3uCY7GoEbO5zV1eJJnVA==",
    "LEIBhAk2eM1kthJ7xSBbviO91ErBUwTGSbclohhyoWo=",
    "OoTFYzdDMj9ZdSJeTHQtICv0224Qb5F5caeOh8+AFA0CCzVcu6UxqncdBO5bDWlH70gaRCVWEndnzbynDmkFdQ==",
    "J1GTSbroYuwbqxtdG94wvbkHcfgEv+ZmfhoX2ttAV9dGXbPaUVbFlF5LnuldTFSTflns0Gp5jLpKh6VcXu9jby/neAw2ltV03yrbSzHppVld7pVSIT4QuIdFReVtd0Rg",
    "dZ7B/E7Jix240TRUJ2FdW3GoQR6LFfu2P77xqcKwwyc=",
    "9PodlQufqDmPuZyZl3A2dbl3ez+OjV5ORftSsAxG56+LBrUHnqEgab8/k24+l8B2wA+NTmMNNPT8oZL/a0wyyA==",
    "PJTDwXlfOGvx5XD5XuH1oq5QrIbyse9icsiZcUcTdwqZczWhx7TD/04LAaysal2JMXsB/3LT2s4ddpXztS31IB5LtNo7U2McGSLkp32zIX1id3l/r9lu/RRS5wihEOUpD+9SXJuKTq1hlhuA7oNurw==",
    "eSSce4V5l/PmqBpC/gnZ1ta9VDZbq4zE+zI83cFbdBA="
   ]
  }
 ],
 "metadata": {
  "kernelspec": {
   "display_name": "Python3",
   "language": "python",
   "name": "python3"
  },
  "language_info": {
   "codemirror_mode": {
    "name": "ipython",
    "version": 3
   },
   "file_extension": ".py",
   "mimetype": "text/x-python",
   "name": "python",
   "nbconvert_exporter": "python",
   "pygments_lexer": "ipython3",
   "version": "3.9.6"
  }
 },
 "nbformat": 4,
 "nbformat_minor": 5
}
