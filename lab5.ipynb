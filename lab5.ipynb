{
 "cells": [
  {
   "cell_type": "markdown",
   "metadata": {
    "id": "74c184e2-f7b2-4c6d-b78a-77a91b646aad"
   },
   "source": [
    "# Лабораторная работа №5. Сверточные нейронные сети\n",
    "\n",
    "В данной лабораторной работе рассматривается решение задачи классификации посредством свёрточных нейронных сетей.\n",
    "Для построения сетей предлагается использовать [Keras](https://keras.io) на базе [TensorFlow](https://www.tensorflow.org)."
   ]
  },
  {
   "cell_type": "code",
   "execution_count": 1,
   "metadata": {
    "colab": {
     "base_uri": "https://localhost:8080/"
    },
    "id": "a95b529e-54a2-4ae2-a8cb-a0416cbf7c14",
    "outputId": "69e4090a-85bc-4117-9260-0dd0636ae1b7"
   },
   "outputs": [
    {
     "name": "stdout",
     "output_type": "stream",
     "text": [
      "tensorflow = 2.7.0 keras = 2.7.0\n"
     ]
    }
   ],
   "source": [
    "import numpy as np\n",
    "import matplotlib as mpl\n",
    "import matplotlib.pyplot as plt\n",
    "import tensorflow as tf\n",
    "import tensorflow.keras\n",
    "import sklearn as sk\n",
    "import sklearn.datasets\n",
    "import sklearn.model_selection\n",
    "\n",
    "mpl.rcParams['axes.grid'] = True\n",
    "\n",
    "print(\"tensorflow =\", tf.__version__, \"keras =\", tf.keras.__version__)\n",
    "if tuple(map(int, tf.__version__.split('.'))) < (2, 5, 0):\n",
    "    tf.autograph.set_verbosity(0)\n",
    "    import logging\n",
    "    logging.getLogger(\"tensorflow\").setLevel(logging.ERROR)"
   ]
  },
  {
   "cell_type": "markdown",
   "metadata": {
    "id": "aa4cf21e-47fb-4f26-a894-ecb7c76ee3d3"
   },
   "source": [
    "## Задание №1\n",
    "\n",
    "Загрузите датасет MNIST с помощью вызова `tf.keras.datasets.mnist.load_data()`.\n",
    "Промасштабируйте обучающую и тестовую выборки, чтобы входные значения лежали в отрезке $[0; 1]$."
   ]
  },
  {
   "cell_type": "code",
   "execution_count": null,
   "metadata": {
    "colab": {
     "base_uri": "https://localhost:8080/"
    },
    "id": "56bda162-f9b2-428c-a53d-21a8085de7b6",
    "outputId": "34da30a3-bea8-4105-b785-ccb68b421e00"
   },
   "outputs": [
    {
     "name": "stdout",
     "output_type": "stream",
     "text": [
      "float32 (60000, 28, 28, 1) (60000, 1)\n"
     ]
    }
   ],
   "source": [
    "(x_train, y_train), (x_test, y_test) = tf.keras.datasets.mnist.load_data()\n",
    "\n",
    "x_train = np.float32(x_train / x_train.max()).reshape(x_train.shape[0], x_train.shape[1], x_train.shape[2], 1)\n",
    "y_train = y_train.reshape(y_train.shape[0], 1)\n",
    "\n",
    "x_test = np.float32(x_test / x_test.max()).reshape(x_test.shape[0], x_test.shape[1], x_test.shape[2], 1)\n",
    "y_test = y_test.reshape(y_test.shape[0], 1)\n",
    "\n",
    "print(x_train.dtype, x_train.shape, y_train.shape)\n",
    "assert x_train.dtype == np.float32 and x_test.dtype == np.float32, 'Неправильный тип входных данных'\n",
    "assert x_train.shape[1:] == (28, 28, 1) and x_test.shape[1:] == (28, 28, 1), 'Неправильная размерность входных данных'\n",
    "assert (x_train <= 1).all() and (x_test <= 1).all(), 'Неправильный диапазон входных данных'"
   ]
  },
  {
   "cell_type": "markdown",
   "metadata": {
    "id": "9b32b36c-968a-4e19-8bf7-d92d554ead1b"
   },
   "source": [
    "Изучите приведённую ниже сеть с архитектурой:\n",
    "\n",
    "1. Свёточный слой с 16 фильтрами размера $3\\times3$ и функцией активации relu\n",
    "1. Слой MaxPooling с размером шага 2\n",
    "1. Свёточный слой с 32 фильтрами размера $3\\times3$ и функцией активации relu\n",
    "1. Слой MaxPooling с размером шага 2\n",
    "1. Свёточный слой с 64 фильтрами размера $3\\times3$ и функцией активации relu\n",
    "1. Слой линеаризации\n",
    "1. Полносвязный слой с количеством нейронов равным количеству выходных классов с функцией активации softmax\n",
    "\n",
    "В качестве градиетного спуска выступает SGD, размер батча определяется при обучении модели.\n",
    "Для вычисления функции потерь используется кросс-энтропия по категориям с автоматическим OneHot кодированием.\n",
    "Метрика точности соответствует $accuracy(\\tilde{y}, y) = \\frac{1}{N} \\sum_{n=0}^{N-1} 1(\\tilde{y}_n = y_n)$.\n",
    "При этом точное название метрики `sparse_categorical_accuracy`, которое можно сократить до `accuracy`, так как метрика выбирается согласно функции потерь.\n",
    "\n",
    "Запустите нейросеть.\n",
    "Итоговая точность должна получится около 92% или больше."
   ]
  },
  {
   "cell_type": "code",
   "execution_count": null,
   "metadata": {
    "colab": {
     "base_uri": "https://localhost:8080/"
    },
    "id": "8d8c1a02-71bd-467c-a397-b55e79426b29",
    "outputId": "7df2e83e-9a69-46a3-9d23-250e37723d45"
   },
   "outputs": [
    {
     "name": "stdout",
     "output_type": "stream",
     "text": [
      "Model: \"model\"\n",
      "_________________________________________________________________\n",
      " Layer (type)                Output Shape              Param #   \n",
      "=================================================================\n",
      " input_1 (InputLayer)        [(None, 28, 28, 1)]       0         \n",
      "                                                                 \n",
      " conv2d (Conv2D)             (None, 28, 28, 16)        160       \n",
      "                                                                 \n",
      " max_pooling2d (MaxPooling2D  (None, 14, 14, 16)       0         \n",
      " )                                                               \n",
      "                                                                 \n",
      " conv2d_1 (Conv2D)           (None, 14, 14, 32)        4640      \n",
      "                                                                 \n",
      " max_pooling2d_1 (MaxPooling  (None, 7, 7, 32)         0         \n",
      " 2D)                                                             \n",
      "                                                                 \n",
      " conv2d_2 (Conv2D)           (None, 7, 7, 64)          18496     \n",
      "                                                                 \n",
      " flatten (Flatten)           (None, 3136)              0         \n",
      "                                                                 \n",
      " dense (Dense)               (None, 10)                31370     \n",
      "                                                                 \n",
      "=================================================================\n",
      "Total params: 54,666\n",
      "Trainable params: 54,666\n",
      "Non-trainable params: 0\n",
      "_________________________________________________________________\n",
      "Epoch 1/3\n",
      "469/469 [==============================] - 45s 95ms/step - loss: 1.3129 - accuracy: 0.6192 - val_loss: 0.4119 - val_accuracy: 0.8807\n",
      "Epoch 2/3\n",
      "469/469 [==============================] - 44s 94ms/step - loss: 0.3359 - accuracy: 0.9001 - val_loss: 0.2607 - val_accuracy: 0.9220\n",
      "Epoch 3/3\n",
      "469/469 [==============================] - 44s 94ms/step - loss: 0.2384 - accuracy: 0.9301 - val_loss: 0.1925 - val_accuracy: 0.9416\n",
      "{'loss': 0.19252388179302216, 'accuracy': 0.9416000247001648}\n",
      "y_test [[7]\n",
      " [2]] y_pred tf.Tensor(\n",
      "[[2.8479710e-07 9.9675814e-09 1.2167593e-06 4.1404670e-05 4.9700454e-08\n",
      "  2.4978235e-06 3.8091649e-10 9.9972671e-01 5.8386655e-07 2.2722370e-04]\n",
      " [1.5225499e-04 1.0839616e-03 9.9508095e-01 3.9794884e-04 5.9727340e-10\n",
      "  3.8563277e-04 2.7528096e-03 6.9859465e-11 1.4632629e-04 6.7150396e-11]], shape=(2, 10), dtype=float32)\n",
      "CPU times: user 4min 3s, sys: 5.89 s, total: 4min 9s\n",
      "Wall time: 2min 18s\n"
     ]
    }
   ],
   "source": [
    "%%time\n",
    "\n",
    "def create_model1(input_x, input_y):\n",
    "    inputs = tf.keras.layers.Input(shape=input_x.shape[1:])\n",
    "    x = tf.keras.layers.Conv2D(filters=16, kernel_size=3, padding='same', activation='relu')(inputs)\n",
    "    x = tf.keras.layers.MaxPooling2D(pool_size=2, padding='valid')(x)\n",
    "    x = tf.keras.layers.Conv2D(filters=32, kernel_size=3, padding='same', activation='relu')(x)\n",
    "    x = tf.keras.layers.MaxPooling2D(pool_size=2, padding='valid')(x)\n",
    "    x = tf.keras.layers.Conv2D(filters=64, kernel_size=3, padding='same', activation='relu')(x)\n",
    "    x = tf.keras.layers.Flatten()(x)\n",
    "    outputs = tf.keras.layers.Dense(len(np.unique(input_y)), activation='softmax')(x)\n",
    "    \n",
    "    model = tf.keras.Model(inputs, outputs)\n",
    "    model.compile(optimizer='sgd', loss='sparse_categorical_crossentropy', metrics=['accuracy'])\n",
    "    model.summary()\n",
    "    return model\n",
    "\n",
    "model = create_model1(x_train, y_train)\n",
    "model.fit(x_train, y_train, batch_size=128, epochs=3, validation_data=(x_test, y_test), verbose=True)\n",
    "score = model.evaluate(x_test, y_test, verbose=0)\n",
    "print(dict(zip(model.metrics_names, score)))\n",
    "\n",
    "y_pred = model(x_test)\n",
    "print('y_test', y_test[:2], 'y_pred', y_pred[:2])"
   ]
  },
  {
   "cell_type": "markdown",
   "metadata": {
    "id": "02485339-588f-4332-a3fb-2b10af5cf8f0"
   },
   "source": [
    "**Вопросы**:\n",
    "\n",
    "1. Сколько всего параметров у нейронной сети?\n",
    "1. Сколько всего участвует в обучении векторов из обучающей выборки?\n",
    "1. Какая точность достигнута?\n",
    "1. В обучающей выборке в качестве классов используются числа от 0 до 9.\n",
    "Что получается на выходе у нейронной сети?\n",
    "Как выходные значения нейронной сети преобразовать в номер класса?"
   ]
  },
  {
   "cell_type": "markdown",
   "metadata": {
    "id": "a15f01e6-4351-4a96-afdd-f1c01e64cfcf"
   },
   "source": [
    "**Ответы**:\n",
    "\n",
    "1. Всего у сети 54666 параметров.\n",
    "1. В обучении участвует 60000 векторов обучающей выборки.\n",
    "1. Достигнутая точность составляет $94\\%$.\n",
    "1. На выходе у нейронной сети получается вектор, элементы которого соответсвуют вероятностям принадлежности входного изображения к рассматриваемым классам,  i-й элемент вектора соотвествует i-му классу. Поэтому можно считать, что входное изображение принадлежит классу, номер которого равен номеру наибольшего элемента соотвествующего выходного вектора."
   ]
  },
  {
   "cell_type": "markdown",
   "metadata": {
    "id": "17232f8c-606f-4eec-b172-8b365f41197f"
   },
   "source": [
    "## Задание №2\n",
    "\n",
    "Попробуйте увеличить точность классификации, например, добавив после каждого свёрточного слоя нормализацию (BatchNormalization) или изменив архитектуру сети.\n",
    "Объясните целесообразность произведенных изменений."
   ]
  },
  {
   "cell_type": "markdown",
   "metadata": {},
   "source": [
    "Добавим слои BatchNormalization после каждого слоя MaxPooling и после слоя Flatten. Слои BatchNormalization масштабируют входной сигнал, что позволяет сократить время обучения сети. Использование нескольких слоёв BatchNormalization необходимо потому, что при прохождении через очередной полносвязный или свёрточный слой даже предварительно отнормированные данные теряют нормировку в результате преобразований, вызванных этими слоями."
   ]
  },
  {
   "cell_type": "code",
   "execution_count": null,
   "metadata": {
    "colab": {
     "base_uri": "https://localhost:8080/"
    },
    "id": "f2c9a05c-8c06-4c2e-bf10-94bacc86179d",
    "outputId": "21013f42-5dd3-46d4-8662-c2b28d2ecb00"
   },
   "outputs": [
    {
     "name": "stdout",
     "output_type": "stream",
     "text": [
      "Model: \"model_3\"\n",
      "_________________________________________________________________\n",
      " Layer (type)                Output Shape              Param #   \n",
      "=================================================================\n",
      " input_5 (InputLayer)        [(None, 28, 28, 1)]       0         \n",
      "                                                                 \n",
      " conv2d_10 (Conv2D)          (None, 28, 28, 16)        160       \n",
      "                                                                 \n",
      " max_pooling2d_7 (MaxPooling  (None, 14, 14, 16)       0         \n",
      " 2D)                                                             \n",
      "                                                                 \n",
      " batch_normalization_7 (Batc  (None, 14, 14, 16)       64        \n",
      " hNormalization)                                                 \n",
      "                                                                 \n",
      " conv2d_11 (Conv2D)          (None, 14, 14, 32)        4640      \n",
      "                                                                 \n",
      " max_pooling2d_8 (MaxPooling  (None, 7, 7, 32)         0         \n",
      " 2D)                                                             \n",
      "                                                                 \n",
      " batch_normalization_8 (Batc  (None, 7, 7, 32)         128       \n",
      " hNormalization)                                                 \n",
      "                                                                 \n",
      " conv2d_12 (Conv2D)          (None, 7, 7, 64)          18496     \n",
      "                                                                 \n",
      " flatten_3 (Flatten)         (None, 3136)              0         \n",
      "                                                                 \n",
      " batch_normalization_9 (Batc  (None, 3136)             12544     \n",
      " hNormalization)                                                 \n",
      "                                                                 \n",
      " dense_3 (Dense)             (None, 10)                31370     \n",
      "                                                                 \n",
      "=================================================================\n",
      "Total params: 67,402\n",
      "Trainable params: 61,034\n",
      "Non-trainable params: 6,368\n",
      "_________________________________________________________________\n",
      "Epoch 1/3\n",
      "469/469 [==============================] - 53s 112ms/step - loss: 0.1984 - accuracy: 0.9415 - val_loss: 0.2177 - val_accuracy: 0.9513\n",
      "Epoch 2/3\n",
      "469/469 [==============================] - 52s 111ms/step - loss: 0.0756 - accuracy: 0.9787 - val_loss: 0.0593 - val_accuracy: 0.9820\n",
      "Epoch 3/3\n",
      "469/469 [==============================] - 52s 111ms/step - loss: 0.0559 - accuracy: 0.9843 - val_loss: 0.0504 - val_accuracy: 0.9846\n",
      "{'loss': 0.05036741495132446, 'accuracy': 0.9846000075340271}\n",
      "y_test [[7]\n",
      " [2]] y_pred tf.Tensor(\n",
      "[[7.9221081e-06 8.0571181e-07 1.0905356e-06 1.9406234e-05 9.0353033e-08\n",
      "  2.5334529e-07 3.2773421e-08 9.9994111e-01 6.9834329e-08 2.9172965e-05]\n",
      " [6.6223324e-06 1.5798295e-03 9.9829167e-01 5.2151656e-05 8.4765965e-08\n",
      "  2.2337360e-08 6.8370879e-05 2.1072887e-08 1.2336099e-06 2.5427849e-10]], shape=(2, 10), dtype=float32)\n",
      "CPU times: user 4min 43s, sys: 12.5 s, total: 4min 56s\n",
      "Wall time: 3min 29s\n"
     ]
    }
   ],
   "source": [
    "%%time\n",
    "\n",
    "def create_model2(input_x, input_y):\n",
    "    inputs = tf.keras.layers.Input(shape=input_x.shape[1:])\n",
    "    x = tf.keras.layers.Conv2D(filters=16, kernel_size=3, padding='same', activation='relu')(inputs)\n",
    "    x = tf.keras.layers.MaxPooling2D(pool_size=2, padding='valid')(x)\n",
    "    x = tf.keras.layers.BatchNormalization()(x)\n",
    "    x = tf.keras.layers.Conv2D(filters=32, kernel_size=3, padding='same', activation='relu')(x)\n",
    "    x = tf.keras.layers.MaxPooling2D(pool_size=2, padding='valid')(x)\n",
    "    x = tf.keras.layers.BatchNormalization()(x)\n",
    "    x = tf.keras.layers.Conv2D(filters=64, kernel_size=3, padding='same', activation='relu')(x)\n",
    "    x = tf.keras.layers.Flatten()(x)\n",
    "    x = tf.keras.layers.BatchNormalization()(x)\n",
    "    outputs = tf.keras.layers.Dense(len(np.unique(input_y)), activation='softmax')(x)\n",
    "    \n",
    "    model = tf.keras.Model(inputs, outputs)\n",
    "    model.compile(optimizer='sgd', loss='sparse_categorical_crossentropy', metrics=['accuracy'])\n",
    "    model.summary()\n",
    "    return model\n",
    "\n",
    "\n",
    "model = create_model2(x_train, y_train)\n",
    "model.fit(x_train, y_train, batch_size=128, epochs=3, validation_data=(x_test, y_test), verbose=True)\n",
    "score = model.evaluate(x_test, y_test, verbose=0)\n",
    "print(dict(zip(model.metrics_names, score)))\n",
    "\n",
    "y_pred = model(x_test)\n",
    "print('y_test', y_test[:2], 'y_pred', y_pred[:2])"
   ]
  },
  {
   "cell_type": "markdown",
   "metadata": {
    "id": "txDKk4_uEBDC"
   },
   "source": [
    "Рассмотрим вариант с BatchNormalization слоями до слоёв MaxPooling."
   ]
  },
  {
   "cell_type": "code",
   "execution_count": null,
   "metadata": {
    "colab": {
     "base_uri": "https://localhost:8080/"
    },
    "id": "Wlea0YlrERbZ",
    "outputId": "9d17c392-2b82-4976-b302-afbaa5f47901"
   },
   "outputs": [
    {
     "name": "stdout",
     "output_type": "stream",
     "text": [
      "Model: \"model_6\"\n",
      "_________________________________________________________________\n",
      " Layer (type)                Output Shape              Param #   \n",
      "=================================================================\n",
      " input_9 (InputLayer)        [(None, 28, 28, 1)]       0         \n",
      "                                                                 \n",
      " conv2d_20 (Conv2D)          (None, 28, 28, 16)        160       \n",
      "                                                                 \n",
      " batch_normalization_16 (Bat  (None, 28, 28, 16)       64        \n",
      " chNormalization)                                                \n",
      "                                                                 \n",
      " max_pooling2d_13 (MaxPoolin  (None, 14, 14, 16)       0         \n",
      " g2D)                                                            \n",
      "                                                                 \n",
      " conv2d_21 (Conv2D)          (None, 14, 14, 32)        4640      \n",
      "                                                                 \n",
      " batch_normalization_17 (Bat  (None, 14, 14, 32)       128       \n",
      " chNormalization)                                                \n",
      "                                                                 \n",
      " max_pooling2d_14 (MaxPoolin  (None, 7, 7, 32)         0         \n",
      " g2D)                                                            \n",
      "                                                                 \n",
      " conv2d_22 (Conv2D)          (None, 7, 7, 64)          18496     \n",
      "                                                                 \n",
      " flatten_6 (Flatten)         (None, 3136)              0         \n",
      "                                                                 \n",
      " batch_normalization_18 (Bat  (None, 3136)             12544     \n",
      " chNormalization)                                                \n",
      "                                                                 \n",
      " dense_6 (Dense)             (None, 10)                31370     \n",
      "                                                                 \n",
      "=================================================================\n",
      "Total params: 67,402\n",
      "Trainable params: 61,034\n",
      "Non-trainable params: 6,368\n",
      "_________________________________________________________________\n",
      "Epoch 1/3\n",
      "469/469 [==============================] - 64s 134ms/step - loss: 0.2035 - accuracy: 0.9391 - val_loss: 0.8268 - val_accuracy: 0.7584\n",
      "Epoch 2/3\n",
      "469/469 [==============================] - 63s 134ms/step - loss: 0.0810 - accuracy: 0.9771 - val_loss: 0.0638 - val_accuracy: 0.9803\n",
      "Epoch 3/3\n",
      "469/469 [==============================] - 63s 134ms/step - loss: 0.0601 - accuracy: 0.9837 - val_loss: 0.0527 - val_accuracy: 0.9833\n",
      "{'loss': 0.052654169499874115, 'accuracy': 0.983299970626831}\n",
      "y_test [[7]\n",
      " [2]] y_pred tf.Tensor(\n",
      "[[9.96686708e-07 1.06172160e-06 3.01228351e-06 1.02820246e-04\n",
      "  2.68130673e-08 2.26501570e-07 6.24775964e-08 9.99890566e-01\n",
      "  2.19831997e-09 1.16210640e-06]\n",
      " [4.12425907e-05 1.10473251e-04 9.99784172e-01 3.07578307e-06\n",
      "  1.57987387e-07 4.40978098e-08 6.03139888e-05 3.31845706e-09\n",
      "  5.82168639e-07 4.26001812e-08]], shape=(2, 10), dtype=float32)\n",
      "CPU times: user 5min 46s, sys: 9.81 s, total: 5min 55s\n",
      "Wall time: 3min 29s\n"
     ]
    }
   ],
   "source": [
    "%%time\n",
    "\n",
    "def create_model3(input_x, input_y):\n",
    "    inputs = tf.keras.layers.Input(shape=input_x.shape[1:])\n",
    "    x = tf.keras.layers.Conv2D(filters=16, kernel_size=3, padding='same', activation='relu')(inputs)\n",
    "    x = tf.keras.layers.BatchNormalization()(x)\n",
    "    x = tf.keras.layers.MaxPooling2D(pool_size=2, padding='valid')(x)\n",
    "    x = tf.keras.layers.Conv2D(filters=32, kernel_size=3, padding='same', activation='relu')(x)\n",
    "    x = tf.keras.layers.BatchNormalization()(x)\n",
    "    x = tf.keras.layers.MaxPooling2D(pool_size=2, padding='valid')(x)\n",
    "    x = tf.keras.layers.Conv2D(filters=64, kernel_size=3, padding='same', activation='relu')(x)\n",
    "    x = tf.keras.layers.Flatten()(x)\n",
    "    x = tf.keras.layers.BatchNormalization()(x)\n",
    "    outputs = tf.keras.layers.Dense(len(np.unique(input_y)), activation='softmax')(x)\n",
    "    \n",
    "    model = tf.keras.Model(inputs, outputs)\n",
    "    model.compile(optimizer='sgd', loss='sparse_categorical_crossentropy', metrics=['accuracy'])\n",
    "    model.summary()\n",
    "    return model\n",
    "\n",
    "\n",
    "model = create_model3(x_train, y_train)\n",
    "model.fit(x_train, y_train, batch_size=128, epochs=3, validation_data=(x_test, y_test), verbose=True)\n",
    "score = model.evaluate(x_test, y_test, verbose=0)\n",
    "print(dict(zip(model.metrics_names, score)))\n",
    "\n",
    "y_pred = model(x_test)\n",
    "print('y_test', y_test[:2], 'y_pred', y_pred[:2])"
   ]
  },
  {
   "cell_type": "markdown",
   "metadata": {
    "id": "0948204b-0f48-41b6-aabd-7023bb4d6e9c"
   },
   "source": [
    "**Вопросы:**\n",
    "\n",
    "1. Почему появились необучаемые параметры (non-trainable)?\n",
    "1. Распишите, какие и сколько параметров входят в BatchNormalization. Для этого воспользуйтесь переменной `layers` и методом `get_weights`.\n",
    "1. Сколько параметров используется на каждом batch normalization слое?\n",
    "1. Какая итоговая точность получилась? Стала ли она больше?\n",
    "1. Как введение новых слоёв повлияло на время обучения сети?\n",
    "1. Попробуйте поставить BatchNormalization слои перед/после MaxPooling. Как меняются характеристики и время обучения?"
   ]
  },
  {
   "cell_type": "markdown",
   "metadata": {
    "id": "f4de33b7-0a67-4e51-938c-628587c8fdaa"
   },
   "source": [
    "**Ответы:**\n",
    "\n",
    "1. Необучаемые параметры - параметры слоя BatchNormalization, которые не изменяются в процессе обучения.\n",
    "1. В BatchNormalization входят $4n$ параметров, где $n$ - количество параметров измерения, вдоль которого происходит нормализация, 4 параметра для каждого из $n$ элементов - это `gamma weights, beta weights, moving_mean(non-trainable), moving_variance(non-trainable)`. Например, у первого BatchNormalization слоя $n = 16$ и общее число параметров равно 64.\n",
    "1. $4n$ параметров, где $n$ - количество параметров измерения, вдоль которого происходит нормализация.\n",
    "1. Итоговая точность увеличилась и теперь составляет более $98\\%$.\n",
    "1. Время обучения возросло с 4 минут 56 секунд до 5 минут 55 секунд (более чем на $16\\%$).\n",
    "1. При расположении BatchNormalization слоёв после MaxPooling первые будут иметь меньше параметров. Время обучения при этом также снижается."
   ]
  },
  {
   "cell_type": "markdown",
   "metadata": {
    "id": "9288c0d1-d05e-4bc1-b2d6-f14a79ce0a53"
   },
   "source": [
    "## Задание №3\n",
    "\n",
    "Визуализируйте результат воздействия весов последней сети с первого свёрточного слоя на одно из тестовых изображений."
   ]
  },
  {
   "cell_type": "code",
   "execution_count": null,
   "metadata": {
    "colab": {
     "base_uri": "https://localhost:8080/",
     "height": 1000
    },
    "id": "b3f4cae5-d7a0-4b59-88bb-a300b1e43258",
    "outputId": "676512a7-255b-42d9-a809-14531aa5a564"
   },
   "outputs": [
    {
     "data": {
      "image/png": "[encoded data removed]",
      "text/plain": [
       "<Figure size 432x288 with 1 Axes>"
      ]
     },
     "metadata": {
      "needs_background": "light"
     },
     "output_type": "display_data"
    },
    {
     "data": {
      "image/png": "[encoded data removed]",
      "text/plain": [
       "<Figure size 1152x1152 with 16 Axes>"
      ]
     },
     "metadata": {
      "needs_background": "light"
     },
     "output_type": "display_data"
    }
   ],
   "source": [
    "layer = model.get_layer(index=1)\n",
    "p = layer(x_train[10:11])\n",
    "\n",
    "plt.grid(False)\n",
    "plt.imshow(x_train[10, :, :, 0], cmap='gray')\n",
    "\n",
    "fig, axes = plt.subplots(4, 4, figsize=(4*4, 4*4))\n",
    "k = 0\n",
    "for row, ax_rows in enumerate(axes):\n",
    "    for col, ax in enumerate(ax_rows):\n",
    "        ax.imshow(p[0,:,:,k], cmap='gray')\n",
    "        ax.grid(False)\n",
    "        k += 1"
   ]
  },
  {
   "cell_type": "markdown",
   "metadata": {
    "id": "f0759779-d11f-46b1-a96b-21956a6e2a2d"
   },
   "source": [
    "**Вопросы:**\n",
    "\n",
    "1. На что похожи отклики с первого слоя?"
   ]
  },
  {
   "cell_type": "markdown",
   "metadata": {
    "id": "f22fa65f-3e37-4e2b-91f3-39944ab5d62e"
   },
   "source": [
    "**Ответы:**\n",
    "\n",
    "1. Некоторые отклики первого слоя похожи на контуры и отдельные фрагменты изображения, поданного на вход, некоторые - на его более сглаженную версию."
   ]
  },
  {
   "cell_type": "markdown",
   "metadata": {
    "id": "c0f6f050-a53e-44e9-8d6d-9af0ccfbd598"
   },
   "source": [
    "## Задание №4\n",
    "\n",
    "Подготовьте датасет [cifar10](https://keras.io/api/datasets/) аналогично предыдущему датасету.\n",
    "Во время первого запуска будет скачиваться архив (около 170 МБ).\n",
    "Он будет закеширован локально, поэтому последующие загрузки этого датасета будут занимать меньше времени.\n",
    "\n",
    "Покажите 4 произвольных изображения из обучающей выборки."
   ]
  },
  {
   "cell_type": "code",
   "execution_count": 2,
   "metadata": {
    "colab": {
     "base_uri": "https://localhost:8080/",
     "height": 311
    },
    "id": "875eeb8a-315c-4be3-8b79-7a0dbc559b5b",
    "outputId": "ae231f00-b16c-4893-fad0-2388aa0b27e7"
   },
   "outputs": [
    {
     "name": "stdout",
     "output_type": "stream",
     "text": [
      "Downloading data from https://www.cs.toronto.edu/~kriz/cifar-10-python.tar.gz\n",
      "170500096/170498071 [==============================] - 2s 0us/step\n",
      "170508288/170498071 [==============================] - 2s 0us/step\n",
      "(50000, 32, 32, 3) float32 (50000, 1) uint8 (10000, 1)\n"
     ]
    },
    {
     "data": {
      "image/png": "[encoded data removed]",
      "text/plain": [
       "<Figure size 1152x1152 with 4 Axes>"
      ]
     },
     "metadata": {
      "needs_background": "light"
     },
     "output_type": "display_data"
    }
   ],
   "source": [
    "(x_train, y_train), (x_test, y_test) = tf.keras.datasets.cifar10.load_data()\n",
    "\n",
    "x_train = np.float32(x_train / x_train.max())\n",
    "\n",
    "x_test = np.float32(x_test / x_test.max())\n",
    "\n",
    "print(x_train.shape, x_train.dtype, y_train.shape, y_train.dtype, y_test.shape)\n",
    "\n",
    "assert x_train.dtype == np.float32 and x_test.dtype == np.float32, 'Неправильный тип входных данных'\n",
    "assert (x_train <= 1).all() and (x_test <= 1).all(), 'Данные не отмасштабированы'\n",
    "\n",
    "fig, axes = plt.subplots(1, 4, figsize=(4*4, 4*4))\n",
    "k = 0\n",
    "for ax in axes:\n",
    "  ax.imshow(x_train[k])\n",
    "  ax.grid(False)\n",
    "  k += 1"
   ]
  },
  {
   "cell_type": "markdown",
   "metadata": {
    "id": "aa679693-f4d5-493b-ac73-3533f3a9493f"
   },
   "source": [
    "Постройте сеть с такой архитектурой:\n",
    "```\n",
    "convolution2dLayer: 32, 3x3, 'Padding'=1\n",
    "reluLayer\n",
    "maxPooling2dLayer: 2, 'Padding'=0\n",
    "\n",
    "convolution2dLayer: 32, 3x3, 'Padding'=1\n",
    "reluLayer\n",
    "maxPooling2dLayer: 2, 'Padding'=0\n",
    "       \n",
    "convolution2dLayer: 64, 3, 'Padding'=1\n",
    "reluLayer\n",
    "maxPooling2dLayer: 2, 'Padding'=0\n",
    "\n",
    "fullyConnectedLayer: 128\n",
    "reluLayer \n",
    "fullyConnectedLayer: num_classes\n",
    "softmaxLayer\n",
    "```\n",
    "\n",
    "Изображения цветные, поэтому для первого слоя с конволюцией укажите параметр `data_format='channels_last'`.\n",
    "При обучении используйте 15 эпох, размер батча 128, оптимизатор градиентного спуска - SGD.\n",
    "Также можно использовать любую другую архитектуру, объяснив целесообразность её применения.\n",
    "Протестируйте работу данной сети.\n",
    "Время обучения сети 5-10 минут."
   ]
  },
  {
   "cell_type": "code",
   "execution_count": null,
   "metadata": {
    "colab": {
     "base_uri": "https://localhost:8080/"
    },
    "id": "faf79a49-540f-4df0-a77a-d5c3697e9af7",
    "outputId": "2f47b6c9-58b0-4e94-81e0-9069f7f68d38"
   },
   "outputs": [
    {
     "name": "stdout",
     "output_type": "stream",
     "text": [
      "Model: \"model_7\"\n",
      "_________________________________________________________________\n",
      " Layer (type)                Output Shape              Param #   \n",
      "=================================================================\n",
      " input_13 (InputLayer)       [(None, 32, 32, 3)]       0         \n",
      "                                                                 \n",
      " conv2d_26 (Conv2D)          (None, 32, 32, 32)        896       \n",
      "                                                                 \n",
      " max_pooling2d_15 (MaxPoolin  (None, 16, 16, 32)       0         \n",
      " g2D)                                                            \n",
      "                                                                 \n",
      " conv2d_27 (Conv2D)          (None, 16, 16, 32)        9248      \n",
      "                                                                 \n",
      " max_pooling2d_16 (MaxPoolin  (None, 8, 8, 32)         0         \n",
      " g2D)                                                            \n",
      "                                                                 \n",
      " conv2d_28 (Conv2D)          (None, 8, 8, 64)          18496     \n",
      "                                                                 \n",
      " max_pooling2d_17 (MaxPoolin  (None, 4, 4, 64)         0         \n",
      " g2D)                                                            \n",
      "                                                                 \n",
      " flatten_7 (Flatten)         (None, 1024)              0         \n",
      "                                                                 \n",
      " dense_7 (Dense)             (None, 128)               131200    \n",
      "                                                                 \n",
      " dense_8 (Dense)             (None, 10)                1290      \n",
      "                                                                 \n",
      "=================================================================\n",
      "Total params: 161,130\n",
      "Trainable params: 161,130\n",
      "Non-trainable params: 0\n",
      "_________________________________________________________________\n",
      "Epoch 1/15\n",
      "391/391 [==============================] - 77s 195ms/step - loss: 2.2534 - accuracy: 0.1656 - val_loss: 2.1611 - val_accuracy: 0.2083\n",
      "Epoch 2/15\n",
      "391/391 [==============================] - 73s 188ms/step - loss: 2.0372 - accuracy: 0.2718 - val_loss: 2.0782 - val_accuracy: 0.2427\n",
      "Epoch 3/15\n",
      "391/391 [==============================] - 74s 188ms/step - loss: 1.8805 - accuracy: 0.3321 - val_loss: 1.8249 - val_accuracy: 0.3575\n",
      "Epoch 4/15\n",
      "391/391 [==============================] - 74s 189ms/step - loss: 1.7548 - accuracy: 0.3770 - val_loss: 1.6718 - val_accuracy: 0.4007\n",
      "Epoch 5/15\n",
      "391/391 [==============================] - 75s 191ms/step - loss: 1.6481 - accuracy: 0.4141 - val_loss: 1.6436 - val_accuracy: 0.4219\n",
      "Epoch 6/15\n",
      "391/391 [==============================] - 77s 198ms/step - loss: 1.5584 - accuracy: 0.4446 - val_loss: 1.4944 - val_accuracy: 0.4607\n",
      "Epoch 7/15\n",
      "391/391 [==============================] - 76s 195ms/step - loss: 1.4954 - accuracy: 0.4645 - val_loss: 1.4744 - val_accuracy: 0.4686\n",
      "Epoch 8/15\n",
      "391/391 [==============================] - 75s 193ms/step - loss: 1.4501 - accuracy: 0.4826 - val_loss: 1.3960 - val_accuracy: 0.4981\n",
      "Epoch 9/15\n",
      "391/391 [==============================] - 75s 192ms/step - loss: 1.4016 - accuracy: 0.4982 - val_loss: 1.3752 - val_accuracy: 0.5072\n",
      "Epoch 10/15\n",
      "391/391 [==============================] - 75s 192ms/step - loss: 1.3659 - accuracy: 0.5124 - val_loss: 1.3661 - val_accuracy: 0.5153\n",
      "Epoch 11/15\n",
      "391/391 [==============================] - 75s 191ms/step - loss: 1.3334 - accuracy: 0.5248 - val_loss: 1.3189 - val_accuracy: 0.5296\n",
      "Epoch 12/15\n",
      "391/391 [==============================] - 75s 192ms/step - loss: 1.3010 - accuracy: 0.5371 - val_loss: 1.2776 - val_accuracy: 0.5462\n",
      "Epoch 13/15\n",
      "391/391 [==============================] - 75s 192ms/step - loss: 1.2720 - accuracy: 0.5470 - val_loss: 1.2508 - val_accuracy: 0.5559\n",
      "Epoch 14/15\n",
      "391/391 [==============================] - 75s 192ms/step - loss: 1.2448 - accuracy: 0.5588 - val_loss: 1.2284 - val_accuracy: 0.5669\n",
      "Epoch 15/15\n",
      "391/391 [==============================] - 75s 192ms/step - loss: 1.2181 - accuracy: 0.5682 - val_loss: 1.2596 - val_accuracy: 0.5498\n",
      "{'loss': 1.2596384286880493, 'accuracy': 0.5497999787330627}\n",
      "CPU times: user 34min 32s, sys: 31.5 s, total: 35min 4s\n",
      "Wall time: 19min 27s\n"
     ]
    }
   ],
   "source": [
    "%%time\n",
    "\n",
    "def create_model4(input_x, input_y):\n",
    "    inputs = tf.keras.layers.Input(shape=input_x.shape[1:])\n",
    "    x = tf.keras.layers.Conv2D(filters=32, kernel_size=3, padding='same', activation='relu', data_format='channels_last')(inputs)\n",
    "    x = tf.keras.layers.MaxPooling2D(pool_size=2, padding='valid')(x)\n",
    "    x = tf.keras.layers.Conv2D(filters=32, kernel_size=3, padding='same', activation='relu')(x)\n",
    "    x = tf.keras.layers.MaxPooling2D(pool_size=2, padding='valid')(x)\n",
    "    x = tf.keras.layers.Conv2D(filters=64, kernel_size=3, padding='same', activation='relu')(x)\n",
    "    x = tf.keras.layers.MaxPooling2D(pool_size=2, padding='valid')(x)\n",
    "    x = tf.keras.layers.Flatten()(x)\n",
    "    x = tf.keras.layers.Dense(units = 128, activation='relu')(x)\n",
    "    outputs = tf.keras.layers.Dense(len(np.unique(input_y)), activation='softmax')(x)\n",
    "\n",
    "    model = tf.keras.Model(inputs, outputs)\n",
    "    model.compile(optimizer='sgd', loss='sparse_categorical_crossentropy', metrics=['accuracy'])\n",
    "    model.summary()\n",
    "    return model\n",
    "\n",
    "\n",
    "model = create_model4(x_train, y_train)\n",
    "model.fit(x_train, y_train, batch_size=128, epochs=15, validation_data=(x_test, y_test), verbose=True)\n",
    "score = model.evaluate(x_test, y_test, verbose=0)\n",
    "print(dict(zip(model.metrics_names, score)))"
   ]
  },
  {
   "cell_type": "markdown",
   "metadata": {
    "id": "21fb3c46-760a-4604-81be-cf95b4991afd"
   },
   "source": [
    "**Вопросы:**\n",
    "\n",
    "1. Какую точность классификации удалось получить?\n",
    "1. Какие слои не имеют параметров обучения? Почему?\n",
    "1. Какую размерность имеют входные изображения?"
   ]
  },
  {
   "cell_type": "markdown",
   "metadata": {
    "id": "557af9bf-f856-47bb-8779-a8061354768e"
   },
   "source": [
    "**Ответы:**\n",
    "\n",
    "1. Точность классификации составляет примерно $55\\%$\n",
    "1. Слои MaxPooling и Flatten не имеют обучаемых параметров, т. к. для определения максмального значения, и изменения размерности данных параметры не требуются.\n",
    "1. Входные изображения имеют размерность 32x32x3."
   ]
  },
  {
   "cell_type": "markdown",
   "metadata": {
    "id": "ea3c5539-5262-47c6-a826-27cd38aed25e"
   },
   "source": [
    "## Задание №5\n",
    "\n",
    "Попробуйте улучшить точность классификации, добавив нормализацию после свёрточных и полносвязных слоёв."
   ]
  },
  {
   "cell_type": "code",
   "execution_count": null,
   "metadata": {
    "colab": {
     "base_uri": "https://localhost:8080/"
    },
    "id": "b1e02226-9d21-422d-9222-4720f5b40ae3",
    "outputId": "a9fd65fc-bcf4-4279-ff2d-549f4defff3a"
   },
   "outputs": [
    {
     "name": "stdout",
     "output_type": "stream",
     "text": [
      "Model: \"model_9\"\n",
      "_________________________________________________________________\n",
      " Layer (type)                Output Shape              Param #   \n",
      "=================================================================\n",
      " input_15 (InputLayer)       [(None, 32, 32, 3)]       0         \n",
      "                                                                 \n",
      " conv2d_32 (Conv2D)          (None, 32, 32, 32)        896       \n",
      "                                                                 \n",
      " max_pooling2d_21 (MaxPoolin  (None, 16, 16, 32)       0         \n",
      " g2D)                                                            \n",
      "                                                                 \n",
      " batch_normalization_23 (Bat  (None, 16, 16, 32)       128       \n",
      " chNormalization)                                                \n",
      "                                                                 \n",
      " conv2d_33 (Conv2D)          (None, 16, 16, 32)        9248      \n",
      "                                                                 \n",
      " max_pooling2d_22 (MaxPoolin  (None, 8, 8, 32)         0         \n",
      " g2D)                                                            \n",
      "                                                                 \n",
      " batch_normalization_24 (Bat  (None, 8, 8, 32)         128       \n",
      " chNormalization)                                                \n",
      "                                                                 \n",
      " conv2d_34 (Conv2D)          (None, 8, 8, 64)          18496     \n",
      "                                                                 \n",
      " max_pooling2d_23 (MaxPoolin  (None, 4, 4, 64)         0         \n",
      " g2D)                                                            \n",
      "                                                                 \n",
      " batch_normalization_25 (Bat  (None, 4, 4, 64)         256       \n",
      " chNormalization)                                                \n",
      "                                                                 \n",
      " flatten_9 (Flatten)         (None, 1024)              0         \n",
      "                                                                 \n",
      " dense_11 (Dense)            (None, 128)               131200    \n",
      "                                                                 \n",
      " batch_normalization_26 (Bat  (None, 128)              512       \n",
      " chNormalization)                                                \n",
      "                                                                 \n",
      " dense_12 (Dense)            (None, 10)                1290      \n",
      "                                                                 \n",
      "=================================================================\n",
      "Total params: 162,154\n",
      "Trainable params: 161,642\n",
      "Non-trainable params: 512\n",
      "_________________________________________________________________\n",
      "Epoch 1/15\n",
      "391/391 [==============================] - 82s 207ms/step - loss: 1.5977 - accuracy: 0.4407 - val_loss: 1.9490 - val_accuracy: 0.3018\n",
      "Epoch 2/15\n",
      "391/391 [==============================] - 82s 209ms/step - loss: 1.2414 - accuracy: 0.5642 - val_loss: 1.3040 - val_accuracy: 0.5467\n",
      "Epoch 3/15\n",
      "391/391 [==============================] - 82s 211ms/step - loss: 1.1053 - accuracy: 0.6138 - val_loss: 1.4067 - val_accuracy: 0.5172\n",
      "Epoch 4/15\n",
      "391/391 [==============================] - 82s 209ms/step - loss: 1.0097 - accuracy: 0.6475 - val_loss: 1.3609 - val_accuracy: 0.5259\n",
      "Epoch 5/15\n",
      "391/391 [==============================] - 82s 209ms/step - loss: 0.9456 - accuracy: 0.6719 - val_loss: 1.8099 - val_accuracy: 0.4630\n",
      "Epoch 6/15\n",
      "391/391 [==============================] - 82s 210ms/step - loss: 0.8905 - accuracy: 0.6915 - val_loss: 1.2449 - val_accuracy: 0.5977\n",
      "Epoch 7/15\n",
      "391/391 [==============================] - 82s 210ms/step - loss: 0.8426 - accuracy: 0.7082 - val_loss: 1.4228 - val_accuracy: 0.5171\n",
      "Epoch 8/15\n",
      "391/391 [==============================] - 82s 209ms/step - loss: 0.8040 - accuracy: 0.7206 - val_loss: 1.0714 - val_accuracy: 0.6373\n",
      "Epoch 9/15\n",
      "391/391 [==============================] - 82s 210ms/step - loss: 0.7699 - accuracy: 0.7324 - val_loss: 1.1057 - val_accuracy: 0.6244\n",
      "Epoch 10/15\n",
      "391/391 [==============================] - 82s 209ms/step - loss: 0.7394 - accuracy: 0.7447 - val_loss: 0.9897 - val_accuracy: 0.6619\n",
      "Epoch 11/15\n",
      "391/391 [==============================] - 81s 207ms/step - loss: 0.7093 - accuracy: 0.7553 - val_loss: 1.0968 - val_accuracy: 0.6299\n",
      "Epoch 12/15\n",
      "391/391 [==============================] - 81s 208ms/step - loss: 0.6806 - accuracy: 0.7649 - val_loss: 1.0730 - val_accuracy: 0.6457\n",
      "Epoch 13/15\n",
      "391/391 [==============================] - 81s 207ms/step - loss: 0.6562 - accuracy: 0.7757 - val_loss: 1.0631 - val_accuracy: 0.6445\n",
      "Epoch 14/15\n",
      "391/391 [==============================] - 81s 207ms/step - loss: 0.6294 - accuracy: 0.7846 - val_loss: 0.9642 - val_accuracy: 0.6721\n",
      "Epoch 15/15\n",
      "391/391 [==============================] - 81s 207ms/step - loss: 0.6090 - accuracy: 0.7913 - val_loss: 0.9970 - val_accuracy: 0.6704\n",
      "{'loss': 0.9969799518585205, 'accuracy': 0.6704000234603882}\n",
      "CPU times: user 37min 24s, sys: 41 s, total: 38min 5s\n",
      "Wall time: 20min 30s\n"
     ]
    }
   ],
   "source": [
    "%%time\n",
    "\n",
    "def create_model5(input_x, input_y):\n",
    "    inputs = tf.keras.layers.Input(shape=input_x.shape[1:])\n",
    "    x = tf.keras.layers.Conv2D(filters=32, kernel_size=3, padding='same', activation='relu', data_format='channels_last')(inputs)\n",
    "    x = tf.keras.layers.MaxPooling2D(pool_size=2, padding='valid')(x)\n",
    "    x = tf.keras.layers.BatchNormalization()(x)\n",
    "    x = tf.keras.layers.Conv2D(filters=32, kernel_size=3, padding='same', activation='relu')(x)\n",
    "    x = tf.keras.layers.MaxPooling2D(pool_size=2, padding='valid')(x)\n",
    "    x = tf.keras.layers.BatchNormalization()(x)\n",
    "    x = tf.keras.layers.Conv2D(filters=64, kernel_size=3, padding='same', activation='relu')(x)\n",
    "    x = tf.keras.layers.MaxPooling2D(pool_size=2, padding='valid')(x)\n",
    "    x = tf.keras.layers.BatchNormalization()(x)\n",
    "    x = tf.keras.layers.Flatten()(x)\n",
    "    x = tf.keras.layers.Dense(units = 128, activation='relu')(x)\n",
    "    x = tf.keras.layers.BatchNormalization()(x)\n",
    "    outputs = tf.keras.layers.Dense(len(np.unique(input_y)), activation='softmax')(x)\n",
    "\n",
    "    model = tf.keras.Model(inputs, outputs)\n",
    "    model.compile(optimizer='sgd', loss='sparse_categorical_crossentropy', metrics=['accuracy'])\n",
    "    model.summary()\n",
    "    return model\n",
    "\n",
    "model = create_model5(x_train, y_train)\n",
    "model.fit(x_train, y_train, batch_size=128, epochs=15, validation_data=(x_test, y_test), verbose=True)\n",
    "score = model.evaluate(x_test, y_test, verbose=0)\n",
    "print(dict(zip(model.metrics_names, score)))"
   ]
  },
  {
   "cell_type": "markdown",
   "metadata": {
    "id": "cf599488-8def-4da3-b1ce-1bb04ef391e6"
   },
   "source": [
    "**Вопросы:**\n",
    "\n",
    "1. Удалось ли увеличить точность классификации введением новых слоёв?\n",
    "1. Как изменилось время обучения сети? (Обратите внимание на `Wall time`, `total`, а также на время обучения каждой эпохи)"
   ]
  },
  {
   "cell_type": "markdown",
   "metadata": {
    "id": "79d69eb6-f482-45d2-a98a-d0150232bc8f"
   },
   "source": [
    "**Ответы:**\n",
    "\n",
    "1. Точность классификации увеличилась до $67\\%$.\n",
    "1. `CPU times` увеличилось с 19 минут 27 секунд до 20 минут 30 секунд, `total` - с 35 минут 4 секунд до 38 минут 5 секунд, `Wall time` с 19 минут 27 секунд до 20 минут 30 секунд. Время обучения на каждой эпохе увеличилось в среднем на 7 секунд."
   ]
  },
  {
   "cell_type": "markdown",
   "metadata": {
    "id": "1f1aebb6-0c46-40e4-8038-5ef26ab23148"
   },
   "source": [
    "## Задание №6\n",
    "\n",
    "Попробуйте добавить слой dropout `tf.keras.layers.Dropout(<probability>)` после полносвязного слоя, подобрав оптимальную на Ваш взгляд вероятность удаления нейронов.\n",
    "Поэкспериментируйте с добавлением слоёв BatchNormalization и без них."
   ]
  },
  {
   "cell_type": "markdown",
   "metadata": {
    "id": "TJtYEm3HXm99"
   },
   "source": [
    "В для борьбы с переобучением на каждой эпохе будем делать проверку точности и сохранять веса модели, которые являются оптимальными в смысле максимума точности на тестовой выборке."
   ]
  },
  {
   "cell_type": "code",
   "execution_count": 11,
   "metadata": {
    "colab": {
     "base_uri": "https://localhost:8080/"
    },
    "id": "PZ4AXVTv_orD",
    "outputId": "eb5fab1a-9589-47fa-97fe-c094fa6ec4ba"
   },
   "outputs": [
    {
     "name": "stdout",
     "output_type": "stream",
     "text": [
      "Model: \"model_7\"\n",
      "_________________________________________________________________\n",
      " Layer (type)                Output Shape              Param #   \n",
      "=================================================================\n",
      " input_8 (InputLayer)        [(None, 32, 32, 3)]       0         \n",
      "                                                                 \n",
      " conv2d_21 (Conv2D)          (None, 32, 32, 32)        896       \n",
      "                                                                 \n",
      " max_pooling2d_21 (MaxPoolin  (None, 16, 16, 32)       0         \n",
      " g2D)                                                            \n",
      "                                                                 \n",
      " batch_normalization_24 (Bat  (None, 16, 16, 32)       128       \n",
      " chNormalization)                                                \n",
      "                                                                 \n",
      " conv2d_22 (Conv2D)          (None, 16, 16, 32)        9248      \n",
      "                                                                 \n",
      " max_pooling2d_22 (MaxPoolin  (None, 8, 8, 32)         0         \n",
      " g2D)                                                            \n",
      "                                                                 \n",
      " batch_normalization_25 (Bat  (None, 8, 8, 32)         128       \n",
      " chNormalization)                                                \n",
      "                                                                 \n",
      " conv2d_23 (Conv2D)          (None, 8, 8, 64)          18496     \n",
      "                                                                 \n",
      " max_pooling2d_23 (MaxPoolin  (None, 4, 4, 64)         0         \n",
      " g2D)                                                            \n",
      "                                                                 \n",
      " batch_normalization_26 (Bat  (None, 4, 4, 64)         256       \n",
      " chNormalization)                                                \n",
      "                                                                 \n",
      " flatten_7 (Flatten)         (None, 1024)              0         \n",
      "                                                                 \n",
      " dense_14 (Dense)            (None, 128)               131200    \n",
      "                                                                 \n",
      " batch_normalization_27 (Bat  (None, 128)              512       \n",
      " chNormalization)                                                \n",
      "                                                                 \n",
      " dropout_7 (Dropout)         (None, 128)               0         \n",
      "                                                                 \n",
      " dense_15 (Dense)            (None, 10)                1290      \n",
      "                                                                 \n",
      "=================================================================\n",
      "Total params: 162,154\n",
      "Trainable params: 161,642\n",
      "Non-trainable params: 512\n",
      "_________________________________________________________________\n",
      "Epoch 1/15\n",
      "391/391 [==============================] - 81s 205ms/step - loss: 1.6631 - accuracy: 0.4189 - val_loss: 1.9723 - val_accuracy: 0.3024\n",
      "Epoch 2/15\n",
      "391/391 [==============================] - 80s 205ms/step - loss: 1.2928 - accuracy: 0.5406 - val_loss: 1.5189 - val_accuracy: 0.4844\n",
      "Epoch 3/15\n",
      "391/391 [==============================] - 80s 205ms/step - loss: 1.1561 - accuracy: 0.5907 - val_loss: 1.4216 - val_accuracy: 0.5098\n",
      "Epoch 4/15\n",
      "391/391 [==============================] - 80s 205ms/step - loss: 1.0626 - accuracy: 0.6243 - val_loss: 1.1238 - val_accuracy: 0.5983\n",
      "Epoch 5/15\n",
      "391/391 [==============================] - 82s 209ms/step - loss: 0.9954 - accuracy: 0.6496 - val_loss: 1.2655 - val_accuracy: 0.5614\n",
      "Epoch 6/15\n",
      "391/391 [==============================] - 82s 208ms/step - loss: 0.9386 - accuracy: 0.6719 - val_loss: 1.2404 - val_accuracy: 0.5656\n",
      "Epoch 7/15\n",
      "391/391 [==============================] - 81s 207ms/step - loss: 0.8950 - accuracy: 0.6857 - val_loss: 1.4554 - val_accuracy: 0.5232\n",
      "Epoch 8/15\n",
      "391/391 [==============================] - 81s 208ms/step - loss: 0.8524 - accuracy: 0.7019 - val_loss: 1.0779 - val_accuracy: 0.6205\n",
      "Epoch 9/15\n",
      "391/391 [==============================] - 81s 207ms/step - loss: 0.8203 - accuracy: 0.7140 - val_loss: 0.9993 - val_accuracy: 0.6584\n",
      "Epoch 10/15\n",
      "391/391 [==============================] - 80s 206ms/step - loss: 0.7841 - accuracy: 0.7268 - val_loss: 1.0847 - val_accuracy: 0.6236\n",
      "Epoch 11/15\n",
      "391/391 [==============================] - 92s 235ms/step - loss: 0.7601 - accuracy: 0.7353 - val_loss: 0.9249 - val_accuracy: 0.6741\n",
      "Epoch 12/15\n",
      "391/391 [==============================] - 93s 238ms/step - loss: 0.7349 - accuracy: 0.7451 - val_loss: 0.9481 - val_accuracy: 0.6701\n",
      "Epoch 13/15\n",
      "391/391 [==============================] - 90s 229ms/step - loss: 0.7101 - accuracy: 0.7522 - val_loss: 1.0260 - val_accuracy: 0.6457\n",
      "Epoch 14/15\n",
      "391/391 [==============================] - 91s 233ms/step - loss: 0.6877 - accuracy: 0.7590 - val_loss: 0.9150 - val_accuracy: 0.6809\n",
      "Epoch 15/15\n",
      "391/391 [==============================] - 91s 232ms/step - loss: 0.6662 - accuracy: 0.7685 - val_loss: 0.9597 - val_accuracy: 0.6798\n",
      "{'loss': 0.9150445461273193, 'accuracy': 0.680899977684021}\n",
      "CPU times: user 38min 31s, sys: 43 s, total: 39min 14s\n",
      "Wall time: 21min 10s\n"
     ]
    }
   ],
   "source": [
    "%%time\n",
    "\n",
    "best_model = [tf.keras.callbacks.ModelCheckpoint(filepath='best_model.h5', monitor='val_accuracy', save_best_only=True)]\n",
    "\n",
    "def create_model6(input_x, input_y):\n",
    "    inputs = tf.keras.layers.Input(shape=input_x.shape[1:])\n",
    "    x = tf.keras.layers.Conv2D(filters=32, kernel_size=3, padding='same', activation='relu', data_format='channels_last')(inputs)\n",
    "    x = tf.keras.layers.MaxPooling2D(pool_size=2, padding='valid')(x)\n",
    "    x = tf.keras.layers.BatchNormalization()(x)\n",
    "    x = tf.keras.layers.Conv2D(filters=32, kernel_size=3, padding='same', activation='relu')(x)\n",
    "    x = tf.keras.layers.MaxPooling2D(pool_size=2, padding='valid')(x)\n",
    "    x = tf.keras.layers.BatchNormalization()(x)\n",
    "    x = tf.keras.layers.Conv2D(filters=64, kernel_size=3, padding='same', activation='relu')(x)\n",
    "    x = tf.keras.layers.MaxPooling2D(pool_size=2, padding='valid')(x)\n",
    "    x = tf.keras.layers.BatchNormalization()(x)\n",
    "    x = tf.keras.layers.Flatten()(x)\n",
    "    x = tf.keras.layers.Dense(units = 128, activation='relu')(x)\n",
    "    x = tf.keras.layers.BatchNormalization()(x)\n",
    "    x = tf.keras.layers.Dropout(rate = 0.1)(x)\n",
    "    outputs = tf.keras.layers.Dense(len(np.unique(input_y)), activation='softmax')(x)\n",
    "\n",
    "    model = tf.keras.Model(inputs, outputs)\n",
    "    model.compile(optimizer='sgd', loss='sparse_categorical_crossentropy', metrics=['accuracy'])\n",
    "    model.summary()\n",
    "    return model\n",
    "\n",
    "model = create_model6(x_train, y_train)\n",
    "model.fit(x_train, y_train, batch_size=128, epochs=15, validation_data=(x_test, y_test), callbacks=best_model, verbose=True)\n",
    "model.load_weights('best_model.h5')\n",
    "score = model.evaluate(x_test, y_test, verbose=0)\n",
    "print(dict(zip(model.metrics_names, score)))"
   ]
  },
  {
   "cell_type": "markdown",
   "metadata": {
    "id": "hAFJrF6ZLfEA"
   },
   "source": [
    "Рассмотрим вариант с Dropout, но без BatchNormalization слоёв."
   ]
  },
  {
   "cell_type": "code",
   "execution_count": 14,
   "metadata": {
    "colab": {
     "base_uri": "https://localhost:8080/"
    },
    "id": "3a9OmeHhLd0K",
    "outputId": "17b5c444-ca2b-46db-c945-90d7c4501c0e"
   },
   "outputs": [
    {
     "name": "stdout",
     "output_type": "stream",
     "text": [
      "Model: \"model_10\"\n",
      "_________________________________________________________________\n",
      " Layer (type)                Output Shape              Param #   \n",
      "=================================================================\n",
      " input_11 (InputLayer)       [(None, 32, 32, 3)]       0         \n",
      "                                                                 \n",
      " conv2d_30 (Conv2D)          (None, 32, 32, 32)        896       \n",
      "                                                                 \n",
      " max_pooling2d_30 (MaxPoolin  (None, 16, 16, 32)       0         \n",
      " g2D)                                                            \n",
      "                                                                 \n",
      " conv2d_31 (Conv2D)          (None, 16, 16, 32)        9248      \n",
      "                                                                 \n",
      " max_pooling2d_31 (MaxPoolin  (None, 8, 8, 32)         0         \n",
      " g2D)                                                            \n",
      "                                                                 \n",
      " conv2d_32 (Conv2D)          (None, 8, 8, 64)          18496     \n",
      "                                                                 \n",
      " max_pooling2d_32 (MaxPoolin  (None, 4, 4, 64)         0         \n",
      " g2D)                                                            \n",
      "                                                                 \n",
      " flatten_10 (Flatten)        (None, 1024)              0         \n",
      "                                                                 \n",
      " dense_20 (Dense)            (None, 128)               131200    \n",
      "                                                                 \n",
      " dropout_10 (Dropout)        (None, 128)               0         \n",
      "                                                                 \n",
      " dense_21 (Dense)            (None, 10)                1290      \n",
      "                                                                 \n",
      "=================================================================\n",
      "Total params: 161,130\n",
      "Trainable params: 161,130\n",
      "Non-trainable params: 0\n",
      "_________________________________________________________________\n",
      "Epoch 1/15\n",
      "391/391 [==============================] - 82s 209ms/step - loss: 2.2659 - accuracy: 0.1600 - val_loss: 2.1785 - val_accuracy: 0.2306\n",
      "Epoch 2/15\n",
      "391/391 [==============================] - 81s 208ms/step - loss: 2.0556 - accuracy: 0.2553 - val_loss: 1.9851 - val_accuracy: 0.2923\n",
      "Epoch 3/15\n",
      "391/391 [==============================] - 82s 209ms/step - loss: 1.9406 - accuracy: 0.3049 - val_loss: 1.8549 - val_accuracy: 0.3500\n",
      "Epoch 4/15\n",
      "391/391 [==============================] - 84s 214ms/step - loss: 1.8501 - accuracy: 0.3394 - val_loss: 1.7582 - val_accuracy: 0.3848\n",
      "Epoch 5/15\n",
      "391/391 [==============================] - 86s 220ms/step - loss: 1.7562 - accuracy: 0.3736 - val_loss: 1.6997 - val_accuracy: 0.3940\n",
      "Epoch 6/15\n",
      "391/391 [==============================] - 85s 218ms/step - loss: 1.6847 - accuracy: 0.3994 - val_loss: 1.6455 - val_accuracy: 0.4117\n",
      "Epoch 7/15\n",
      "391/391 [==============================] - 84s 215ms/step - loss: 1.6113 - accuracy: 0.4199 - val_loss: 1.6263 - val_accuracy: 0.4066\n",
      "Epoch 8/15\n",
      "391/391 [==============================] - 84s 214ms/step - loss: 1.5542 - accuracy: 0.4435 - val_loss: 1.4873 - val_accuracy: 0.4721\n",
      "Epoch 9/15\n",
      "391/391 [==============================] - 83s 213ms/step - loss: 1.5033 - accuracy: 0.4601 - val_loss: 1.4608 - val_accuracy: 0.4796\n",
      "Epoch 10/15\n",
      "391/391 [==============================] - 84s 214ms/step - loss: 1.4722 - accuracy: 0.4728 - val_loss: 1.4178 - val_accuracy: 0.4952\n",
      "Epoch 11/15\n",
      "391/391 [==============================] - 85s 216ms/step - loss: 1.4378 - accuracy: 0.4866 - val_loss: 1.3687 - val_accuracy: 0.5086\n",
      "Epoch 12/15\n",
      "391/391 [==============================] - 84s 214ms/step - loss: 1.4078 - accuracy: 0.4970 - val_loss: 1.3793 - val_accuracy: 0.5067\n",
      "Epoch 13/15\n",
      "391/391 [==============================] - 81s 206ms/step - loss: 1.3796 - accuracy: 0.5083 - val_loss: 1.3258 - val_accuracy: 0.5294\n",
      "Epoch 14/15\n",
      "391/391 [==============================] - 81s 207ms/step - loss: 1.3541 - accuracy: 0.5182 - val_loss: 1.3748 - val_accuracy: 0.5177\n",
      "Epoch 15/15\n",
      "391/391 [==============================] - 81s 208ms/step - loss: 1.3269 - accuracy: 0.5299 - val_loss: 1.2879 - val_accuracy: 0.5406\n",
      "{'loss': 1.2879191637039185, 'accuracy': 0.5406000018119812}\n",
      "CPU times: user 37min 29s, sys: 44.6 s, total: 38min 14s\n",
      "Wall time: 21min 28s\n"
     ]
    }
   ],
   "source": [
    "%%time\n",
    "\n",
    "best_model = [tf.keras.callbacks.ModelCheckpoint(filepath='best_model_without_bn.h5', monitor='val_accuracy', save_best_only=True)]\n",
    "\n",
    "def create_model7(input_x, input_y):\n",
    "    inputs = tf.keras.layers.Input(shape=input_x.shape[1:])\n",
    "    x = tf.keras.layers.Conv2D(filters=32, kernel_size=3, padding='same', activation='relu', data_format='channels_last')(inputs)\n",
    "    x = tf.keras.layers.MaxPooling2D(pool_size=2, padding='valid')(x)\n",
    "    x = tf.keras.layers.Conv2D(filters=32, kernel_size=3, padding='same', activation='relu')(x)\n",
    "    x = tf.keras.layers.MaxPooling2D(pool_size=2, padding='valid')(x)\n",
    "    x = tf.keras.layers.Conv2D(filters=64, kernel_size=3, padding='same', activation='relu')(x)\n",
    "    x = tf.keras.layers.MaxPooling2D(pool_size=2, padding='valid')(x)\n",
    "    x = tf.keras.layers.Flatten()(x)\n",
    "    x = tf.keras.layers.Dense(units = 128, activation='relu')(x)\n",
    "    x = tf.keras.layers.Dropout(rate = 0.1)(x)\n",
    "    outputs = tf.keras.layers.Dense(len(np.unique(input_y)), activation='softmax')(x)\n",
    "\n",
    "    model = tf.keras.Model(inputs, outputs)\n",
    "    model.compile(optimizer='sgd', loss='sparse_categorical_crossentropy', metrics=['accuracy'])\n",
    "    model.summary()\n",
    "    return model\n",
    "\n",
    "model = create_model7(x_train, y_train)\n",
    "model.fit(x_train, y_train, batch_size=128, epochs=15, validation_data=(x_test, y_test), callbacks=best_model, verbose=True)\n",
    "model.load_weights('best_model_without_bn.h5')\n",
    "score = model.evaluate(x_test, y_test, verbose=0)\n",
    "print(dict(zip(model.metrics_names, score)))"
   ]
  },
  {
   "cell_type": "markdown",
   "metadata": {
    "id": "29fHGAIvYKoS"
   },
   "source": [
    "Более целесообразным получению наибольшей точности представляется разместить слой Dropout не после полносвязного слоя Dense, а после слоя преобразования размерности Flatten. В первом случае мы применяем Dropout к сигналу, поступающему на вход последнего слоя с Softmax, что, скорее всего, негативно сказывается на точности. Во втором случае такой ситуации не происходит."
   ]
  },
  {
   "cell_type": "code",
   "execution_count": 13,
   "metadata": {
    "colab": {
     "base_uri": "https://localhost:8080/"
    },
    "id": "SOHAB9uiR_sE",
    "outputId": "0496cdf2-11b4-49f9-ec9f-58c1c16f70f5"
   },
   "outputs": [
    {
     "name": "stdout",
     "output_type": "stream",
     "text": [
      "Model: \"model_9\"\n",
      "_________________________________________________________________\n",
      " Layer (type)                Output Shape              Param #   \n",
      "=================================================================\n",
      " input_10 (InputLayer)       [(None, 32, 32, 3)]       0         \n",
      "                                                                 \n",
      " conv2d_27 (Conv2D)          (None, 32, 32, 32)        896       \n",
      "                                                                 \n",
      " max_pooling2d_27 (MaxPoolin  (None, 16, 16, 32)       0         \n",
      " g2D)                                                            \n",
      "                                                                 \n",
      " batch_normalization_28 (Bat  (None, 16, 16, 32)       128       \n",
      " chNormalization)                                                \n",
      "                                                                 \n",
      " conv2d_28 (Conv2D)          (None, 16, 16, 32)        9248      \n",
      "                                                                 \n",
      " max_pooling2d_28 (MaxPoolin  (None, 8, 8, 32)         0         \n",
      " g2D)                                                            \n",
      "                                                                 \n",
      " batch_normalization_29 (Bat  (None, 8, 8, 32)         128       \n",
      " chNormalization)                                                \n",
      "                                                                 \n",
      " conv2d_29 (Conv2D)          (None, 8, 8, 64)          18496     \n",
      "                                                                 \n",
      " max_pooling2d_29 (MaxPoolin  (None, 4, 4, 64)         0         \n",
      " g2D)                                                            \n",
      "                                                                 \n",
      " batch_normalization_30 (Bat  (None, 4, 4, 64)         256       \n",
      " chNormalization)                                                \n",
      "                                                                 \n",
      " flatten_9 (Flatten)         (None, 1024)              0         \n",
      "                                                                 \n",
      " dropout_9 (Dropout)         (None, 1024)              0         \n",
      "                                                                 \n",
      " dense_18 (Dense)            (None, 128)               131200    \n",
      "                                                                 \n",
      " batch_normalization_31 (Bat  (None, 128)              512       \n",
      " chNormalization)                                                \n",
      "                                                                 \n",
      " dense_19 (Dense)            (None, 10)                1290      \n",
      "                                                                 \n",
      "=================================================================\n",
      "Total params: 162,154\n",
      "Trainable params: 161,642\n",
      "Non-trainable params: 512\n",
      "_________________________________________________________________\n",
      "Epoch 1/15\n",
      "391/391 [==============================] - 89s 227ms/step - loss: 1.6692 - accuracy: 0.4168 - val_loss: 1.8885 - val_accuracy: 0.3146\n",
      "Epoch 2/15\n",
      "391/391 [==============================] - 88s 224ms/step - loss: 1.3205 - accuracy: 0.5344 - val_loss: 1.5442 - val_accuracy: 0.4826\n",
      "Epoch 3/15\n",
      "391/391 [==============================] - 88s 225ms/step - loss: 1.1822 - accuracy: 0.5838 - val_loss: 1.1538 - val_accuracy: 0.5933\n",
      "Epoch 4/15\n",
      "391/391 [==============================] - 88s 226ms/step - loss: 1.0857 - accuracy: 0.6161 - val_loss: 1.2854 - val_accuracy: 0.5441\n",
      "Epoch 5/15\n",
      "391/391 [==============================] - 89s 227ms/step - loss: 1.0097 - accuracy: 0.6449 - val_loss: 1.4713 - val_accuracy: 0.5303\n",
      "Epoch 6/15\n",
      "391/391 [==============================] - 89s 229ms/step - loss: 0.9571 - accuracy: 0.6646 - val_loss: 1.1687 - val_accuracy: 0.6024\n",
      "Epoch 7/15\n",
      "391/391 [==============================] - 88s 226ms/step - loss: 0.9095 - accuracy: 0.6813 - val_loss: 1.2051 - val_accuracy: 0.5958\n",
      "Epoch 8/15\n",
      "391/391 [==============================] - 90s 230ms/step - loss: 0.8725 - accuracy: 0.6944 - val_loss: 1.4341 - val_accuracy: 0.5276\n",
      "Epoch 9/15\n",
      "391/391 [==============================] - 91s 233ms/step - loss: 0.8408 - accuracy: 0.7071 - val_loss: 1.0526 - val_accuracy: 0.6272\n",
      "Epoch 10/15\n",
      "391/391 [==============================] - 90s 231ms/step - loss: 0.8137 - accuracy: 0.7149 - val_loss: 1.2411 - val_accuracy: 0.5800\n",
      "Epoch 11/15\n",
      "391/391 [==============================] - 91s 232ms/step - loss: 0.7848 - accuracy: 0.7273 - val_loss: 0.9106 - val_accuracy: 0.6854\n",
      "Epoch 12/15\n",
      "391/391 [==============================] - 90s 230ms/step - loss: 0.7610 - accuracy: 0.7354 - val_loss: 0.8986 - val_accuracy: 0.6908\n",
      "Epoch 13/15\n",
      "391/391 [==============================] - 90s 230ms/step - loss: 0.7361 - accuracy: 0.7435 - val_loss: 0.9993 - val_accuracy: 0.6593\n",
      "Epoch 14/15\n",
      "391/391 [==============================] - 90s 229ms/step - loss: 0.7178 - accuracy: 0.7483 - val_loss: 0.8678 - val_accuracy: 0.6954\n",
      "Epoch 15/15\n",
      "391/391 [==============================] - 90s 231ms/step - loss: 0.6941 - accuracy: 0.7566 - val_loss: 0.8913 - val_accuracy: 0.6869\n",
      "{'loss': 0.8678292036056519, 'accuracy': 0.6953999996185303}\n",
      "CPU times: user 40min 43s, sys: 46 s, total: 41min 29s\n",
      "Wall time: 22min 28s\n"
     ]
    }
   ],
   "source": [
    "%%time\n",
    "\n",
    "best_model = [tf.keras.callbacks.ModelCheckpoint(filepath='best_model.h5', monitor='val_accuracy', save_best_only=True)]\n",
    "\n",
    "def create_model8(input_x, input_y):\n",
    "    inputs = tf.keras.layers.Input(shape=input_x.shape[1:])\n",
    "    x = tf.keras.layers.Conv2D(filters=32, kernel_size=3, padding='same', activation='relu', data_format='channels_last')(inputs)\n",
    "    x = tf.keras.layers.MaxPooling2D(pool_size=2, padding='valid')(x)\n",
    "    x = tf.keras.layers.BatchNormalization()(x)\n",
    "    x = tf.keras.layers.Conv2D(filters=32, kernel_size=3, padding='same', activation='relu')(x)\n",
    "    x = tf.keras.layers.MaxPooling2D(pool_size=2, padding='valid')(x)\n",
    "    x = tf.keras.layers.BatchNormalization()(x)\n",
    "    x = tf.keras.layers.Conv2D(filters=64, kernel_size=3, padding='same', activation='relu')(x)\n",
    "    x = tf.keras.layers.MaxPooling2D(pool_size=2, padding='valid')(x)\n",
    "    x = tf.keras.layers.BatchNormalization()(x)\n",
    "    x = tf.keras.layers.Flatten()(x)\n",
    "    x = tf.keras.layers.Dropout(rate = 0.1)(x)\n",
    "    x = tf.keras.layers.Dense(units = 128, activation='relu')(x)\n",
    "    x = tf.keras.layers.BatchNormalization()(x)\n",
    "    outputs = tf.keras.layers.Dense(len(np.unique(input_y)), activation='softmax')(x)\n",
    "\n",
    "    model = tf.keras.Model(inputs, outputs)\n",
    "    model.compile(optimizer='sgd', loss='sparse_categorical_crossentropy', metrics=['accuracy'])\n",
    "    model.summary()\n",
    "    return model\n",
    "\n",
    "model = create_model8(x_train, y_train)\n",
    "model.fit(x_train, y_train, batch_size=128, epochs=15, validation_data=(x_test, y_test), callbacks=best_model, verbose=True)\n",
    "model.load_weights('best_model.h5')\n",
    "score = model.evaluate(x_test, y_test, verbose=0)\n",
    "print(dict(zip(model.metrics_names, score)))"
   ]
  },
  {
   "cell_type": "markdown",
   "metadata": {
    "id": "5242db5e-3a66-432e-b2b2-826081cbab7e"
   },
   "source": [
    "**Вопросы:**\n",
    "\n",
    "1. Удалось ли увеличить точность классификации?\n",
    "1. Что влияет больше на увеличение точности: слой Dropout или BatchNormalization?\n",
    "1. Как изменилось время обучения?"
   ]
  },
  {
   "cell_type": "markdown",
   "metadata": {
    "id": "bc745752-004c-430b-9dd2-42b1adda677f"
   },
   "source": [
    "**Ответы:**\n",
    "\n",
    "1. Да, точность классификации увеличилась. Для данной задачи применение только слоёв Dropout без BatchNormalization уменьшает итоговую точность на $1\\%$, по сравнению со случаем, когда методы регуляризации не используются совсем. Разместив Dropout непосредственно после слоя Flatten удалось добиться $69.5\\%$ точности.\n",
    "1. Для данной конкретной задачи использование BatchNormalization оказало большее влияение на увеличение точности, чем Dropout.\n",
    "1. Время обучения увеличилось."
   ]
  }
 ],
 "metadata": {
  "colab": {
   "collapsed_sections": [],
   "name": "lab5.ipynb",
   "provenance": []
  },
  "kernelspec": {
   "display_name": "Python 3",
   "language": "python",
   "name": "python3"
  },
  "language_info": {
   "codemirror_mode": {
    "name": "ipython",
    "version": 3
   },
   "file_extension": ".py",
   "mimetype": "text/x-python",
   "name": "python",
   "nbconvert_exporter": "python",
   "pygments_lexer": "ipython3",
   "version": "3.8.5"
  },
  "toc": {
   "base_numbering": 1,
   "nav_menu": {},
   "number_sections": true,
   "sideBar": true,
   "skip_h1_title": false,
   "title_cell": "Table of Contents",
   "title_sidebar": "Contents",
   "toc_cell": false,
   "toc_position": {},
   "toc_section_display": true,
   "toc_window_display": false
  },
  "varInspector": {
   "cols": {
    "lenName": 16,
    "lenType": 16,
    "lenVar": 40
   },
   "kernels_config": {
    "python": {
     "delete_cmd_postfix": "",
     "delete_cmd_prefix": "del ",
     "library": "var_list.py",
     "varRefreshCmd": "print(var_dic_list())"
    },
    "r": {
     "delete_cmd_postfix": ") ",
     "delete_cmd_prefix": "rm(",
     "library": "var_list.r",
     "varRefreshCmd": "cat(var_dic_list()) "
    }
   },
   "types_to_exclude": [
    "module",
    "function",
    "builtin_function_or_method",
    "instance",
    "_Feature"
   ],
   "window_display": false
  }
 },
 "nbformat": 4,
 "nbformat_minor": 5
}
