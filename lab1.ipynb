{
 "cells": [
  {
   "cell_type": "markdown",
   "id": "31a12331-f37b-4e7e-9850-6e7e1c7d4cec",
   "metadata": {},
   "source": [
    "# Лабораторная работа №1\n",
    "\n",
    "Настройка среды для проведения анализа метода ближайшего соседа."
   ]
  },
  {
   "cell_type": "code",
   "execution_count": null,
   "id": "801188b3-4725-4009-8237-544ff3c55eb0",
   "metadata": {},
   "outputs": [],
   "source": [
    "BYzKNd9ENEbzdofCaHAg3r34cVfqEmkAXeqXJUkvpyk=",
    "mutw8uGy6SdQGs4HZtUxTNxYrZJbrD2atIOlH86vB4g=",
    "mutw8uGy6SdQGs4HZtUxTPgFXVGJnDrjZmt8RZbjjVSGeD/KpQz56P+H03IjlNTx",
    "+0AzMkXNBjlGwIOywaqjlQ==",
    "IIlwJEtNoBvWm7UJwtoJR3r5BsFA/LDARQCR0cpFqPd1CsA4pes41lvmxshdrjd+"
   ]
  },
  {
   "cell_type": "markdown",
   "id": "feecbe6a-c9e8-4719-99db-19b153ba9ca3",
   "metadata": {},
   "source": [
    "## Задание №1\n",
    "\n",
    "Создать обучающий набор данных $T$ из $N$ (номер варианта, умноженный на 100) векторов $(x_i, t_i)$, где $x$ $-$ случайно выбранная из отрезка $[0;1]$ величина,\n",
    "$t = \\sin(2\\pi x) + \\varepsilon$, а $\\varepsilon$ $-$ гауссова величина с нулевым средним и СКО = 0.3."
   ]
  },
  {
   "cell_type": "code",
   "execution_count": null,
   "id": "74c38280-8884-461d-b634-9cf7e486f226",
   "metadata": {},
   "outputs": [],
   "source": [
    "hr3xbshs86sONmWKxslnj9cVknUTjok5ZQV4y6oEu1O5PlNIsPvJYBoYqHWwiEFJ",
    "+0AzMkXNBjlGwIOywaqjlQ==",
    "ehSucOkqPgjgHFgSHfb2sHx3Xmg90inTVIiR4B9YkQQ=",
    "dmhMKzqsTHtCWZF9nBgFLuc7XluVCIhQ2Qv6wy9KiUr+66c/gSqiuNjIr+btSahzrEbbm28wbRGw25bXY40FOw==",
    "+0AzMkXNBjlGwIOywaqjlQ==",
    "mq6RSviS9rVTjUO/QO1FvnbyrGTKLxaOsTbjsZH6gLs="
   ]
  },
  {
   "cell_type": "markdown",
   "id": "e1b5cb28-299f-418e-806b-5f857509a436",
   "metadata": {},
   "source": [
    "## Задание №2\n",
    "\n",
    "Создать аналогичным образом тестовый набор данных $T'$ из других $N/4$ тестовых векторов $(x_i, t_i)$.\n",
    "Деление нацело в питоне - это операция `a // b`."
   ]
  },
  {
   "cell_type": "code",
   "execution_count": null,
   "id": "47b30a4b-fb13-4f70-ba5e-149a3cd3de5d",
   "metadata": {},
   "outputs": [],
   "source": [
    "dGa+Z4hN7NAtfA0q8tUxPrRw/LeJseDb+QyP9zMMEse1MoZQ+e+SHJYq89qv0M1r",
    "rLc3v+sGAj6sYWqyjN+qEjhbQAxGUg7YabBFRMlZk/DB9fE9XnmVQCycSy1VA+rf5Y+YkgzO5meJqP/LGOumho7T9mMnIv6UtrdS1H/Cnkc=",
    "+0AzMkXNBjlGwIOywaqjlQ==",
    "sN/27+BG02AEIDDYU+Rw8/8QD/yr2dXTqmgjFfP8N/U="
   ]
  },
  {
   "cell_type": "markdown",
   "id": "a3f0451b-a71b-4ecd-80e1-4ef77c3de911",
   "metadata": {
    "tags": []
   },
   "source": [
    "## Задание №3\n",
    "\n",
    "Методом $k$-NN с различными $k$ (обязательно рассмотреть $k = 1$ и $k = N$) определить среднюю ошибку\n",
    "$E(f, T) = \\frac{1}{N} \\sum_{i=1}^{N} E\\left( f(x_i), t_i \\right)$\n",
    "(штрафная функция $-$ квадрат разности истинного и предсказанного значений $E(r, y) = {\\lVert r - y \\rVert}^2$)  для обучающего и для тестового наборов.\n",
    "Построить зависимости средних ошибок от $k$ в виде 2 графиков для $E(T)$ и $E(T')$."
   ]
  },
  {
   "cell_type": "code",
   "execution_count": null,
   "id": "7c4e13ad-d36e-45b5-8701-b31de454629f",
   "metadata": {},
   "outputs": [],
   "source": [
    "n0MSOXfZeQGOkObHf5wb0A==",
    "+0AzMkXNBjlGwIOywaqjlQ==",
    "u46fboPICkawE6VCacOEDwob52pYQ43wiKCC+n7L3fQ=",
    "+KFq26JQ1B5GWJNJobVfD1bMwXDYa+vptF5ramI1PbaUjg6QVKCONQNR6WKJeNV0",
    "+0AzMkXNBjlGwIOywaqjlQ==",
    "zMMzzrnu1ZA30KQ13GvcMw==",
    "g4uVgFXajLaS4jIrAHFr7yJ/h8MABeQX0RC4Cjl3965zE62FCBr3+PKjojGQvKDb",
    "Fn9F280HmXPOeIP6WxEDykKG6WEt+YcWSQOsaWZZxW0woI3PBUMXJnZcoBVr+CDv",
    "B5l8tk0WUt+7QeBVBG2SMw==",
    "QFsOInNA/f8t075NcM86a1fsjNGKkXREBN3ITMrjMpE=",
    "SvdiwnuEM+f487I4G5KWZKIRPczzy/+6ww5d64/0Y3c=",
    "kXOghRp6v5GxrM11VbbSClgI4VDy5Z3SNGyvvoMQ04kywvUoQpEMj9DiYlM2p790Tx8kYAMVTigsWsyc2pRydQ==",
    "AE7XMkYUrpxrDe9cWhnloDANx6fCK3KUuHuXutakpsBSWzm07S9f8F5J3MUypJrJ",
    "B5l8tk0WUt+7QeBVBG2SMw==",
    "GY+cmyR8oSDOHqBFRhUfyEzfhivurZDiEfICs47XLOY=",
    "vuvZzjSLIlk5vUkx9yoIJH7miPeiHa1e2l/traH9rMtUDVZJJJfj9vn1ISaPNp2cmljcEU20nfFQbTQB1ghrTg==",
    "+0AzMkXNBjlGwIOywaqjlQ==",
    "oj9e44VCvNe/TaAXG5emP2WQB+spJ5uYMYQR1WcLb6Q=",
    "b4Hh+L7tu7VcB35ggiPjUzgNHmop+VpwsFPpqkvOqQw=",
    "ACooAdF5S3aEG1ss1GHv6w==",
    "vauffs8X71PnfgPAHnl+962nLRtYmyyE88ergI//2Yk=",
    "04tFUR4hCHb9Xnalf8W2NbNTYNfQD3Qvi0VDPP6sQ7GcwMB7r75QaiXlIl3yVkUr",
    "G2t0XrfzVdsk+3BYL9+glvY32ThnChfa+sBnBK55rlo19GO5/eCqpDmIbA4eOBFc",
    "+0AzMkXNBjlGwIOywaqjlQ==",
    "6FVAkPkeFrUxyU36XuBs9hSIZ64P8bNdtJTc7PHrzzx7sbSeQG9tvrMrsnOKyuQY",
    "lEsD/5lXqCRBqSdDbRfwUki3jPDFnoxOSMgKb/rsBKUdz5NIixNwZF0k1TNC3KaL",
    "OAkQ0xKmQh9o7AQAaDEBvJ8cIACBLl9qgRxCmPrvwks=",
    "5Ya0eUXCPvr6w/ExHT8pShfp66W/a9bZ/N2r6a4Fny92XRZZKjrq91gZA3BpdAZ49CPTsTOxvH0n6nmfTr/B0g==",
    "X7qpfbAHHi3ZG5fKKt7wi3GddMEeW43tvf6tVUlA/X96VEv+NyZgnLbGMznibCW6NI3nNon+HRrG0LqOswSy7w==",
    "pJsocd1LMwHkPY5GnE0eFw==",
    "+0AzMkXNBjlGwIOywaqjlQ==",
    "uNAwKzIMocOTjk9n1XwmK2qaLKHWF83XY3iVDgrq8gY=",
    "PT4A2Wd5yt5CHwjg8TP3gS0H+ofwIZVQMq6e7JiazPU/Laec1ZjPtW7Hlodb1CnA"
   ]
  },
  {
   "cell_type": "markdown",
   "id": "d31783b3-8bf4-4373-893d-e89349bf4f2d",
   "metadata": {
    "tags": []
   },
   "source": [
    "## Задание №4\n",
    "\n",
    "По графикам, полученным в п.3, сделайте выводы о характере зависимости эмпирического риска $E(f, T)$ от $k$.\n",
    "Определите значение $k$, для которого значение ошибки $E(f, T)$ получается наименьшим.\n",
    "Сравните значения ошибок, получаемых на обучающем и тестовом наборах данных."
   ]
  },
  {
   "cell_type": "markdown",
   "id": "42efd44e-b471-44fe-a910-2de9dac605ff",
   "metadata": {},
   "source": [
    "### Выводы\n",
    "\n",
    "Наименьшее $k$, для которого наблюдается минимальное значение ошибки, составило ..."
   ]
  }
 ],
 "metadata": {
  "kernelspec": {
   "display_name": "Python3",
   "language": "python",
   "name": "python3"
  },
  "language_info": {
   "codemirror_mode": {
    "name": "ipython",
    "version": 3
   },
   "file_extension": ".py",
   "mimetype": "text/x-python",
   "name": "python",
   "nbconvert_exporter": "python",
   "pygments_lexer": "ipython3",
   "version": "3.9.6"
  }
 },
 "nbformat": 4,
 "nbformat_minor": 5
}
