{
 "cells": [
  {
   "cell_type": "markdown",
   "id": "d62b3541-d8f3-49f4-97bc-61c24c13ade7",
   "metadata": {},
   "source": [
    "# Лабораторная работа №2. Линейные модели для задач регрессии\n",
    "\n",
    "В данной лабораторной работе рассматриваются задачи регрессии.\n",
    "Частным случаем является задача линейной регрессии.\n",
    "Используется следующая модель:\n",
    "$$\n",
    "y = \\sum_{k=0}^{M-1} w_k \\phi_k(\\mathbf{x}) = \\mathbf{w}^T \\mathbf{\\phi}(\\mathbf{x}),\n",
    "$$\n",
    "где $\\mathbf{\\phi}(\\mathbf{x}) = \\left(1, \\phi_1(\\mathbf{x}), \\dots, \\phi_{M-1}(\\mathbf{x})\\right)^T$,\n",
    "$\\mathbf{w} = \\left(w_0, w_1, \\dots, w_{M-1}\\right)^T$.\n",
    "\n",
    "В данной работе в качестве функции штрафа используется средняя квадратичная ошибка:\n",
    "$$\n",
    "E_D(\\mathbf{w}, \\mathbf{T}) = \\frac{1}{2} \\sum_{n=1}^{N} \\left( t_n - \\mathbf{w}^T \\mathbf{\\phi}(\\mathbf{x}_n) \\right)^2.\n",
    "$$\n",
    "\n",
    "Решение задачи минимизации такого штрафа даёт параметры распознавателя\n",
    "$$\n",
    "\\mathbf{w_{ML}} = \\left(\\mathbf{\\Phi}^T \\mathbf{\\Phi}\\right)^{-1} \\mathbf{\\Phi}^T \\mathbf{T}.\n",
    "$$\n",
    "\n",
    "В случае добавления $L2$-регуляризации (гребневая регрессия) штраф:\n",
    "$$\n",
    "E(\\mathbf{w}) = \\frac{1}{2} \\sum_{n=1}^{N} \\left( t_n - \\mathbf{w}^T \\mathbf{\\phi}(\\mathbf{x}_n) \\right)^2 + \\frac{\\lambda}{2} \\mathbf{w}^T \\mathbf{w},\n",
    "$$\n",
    "МНК-решением будет\n",
    "$$\n",
    "\\mathbf{w_{ML}} = \\left(\\mathbf{\\Phi}^T \\mathbf{\\Phi} + \\lambda \\mathbf{E} \\right)^{-1} \\mathbf{\\Phi}^T \\mathbf{T}.\n",
    "$$"
   ]
  },
  {
   "cell_type": "code",
   "execution_count": null,
   "id": "61d7b86a-8989-4a70-9a4b-b4cb9a7dcd72",
   "metadata": {},
   "outputs": [],
   "source": [
    "BYzKNd9ENEbzdofCaHAg3r34cVfqEmkAXeqXJUkvpyk=",
    "k/2D8Q++FCM6xdjebxKaF7YKXryLZMZjlpmrxGVautg=",
    "5yZ3J1kRHF70M7Sk79t/LcEHLuKTQUWPQm8LEnutTm4jQU2oEsHHsC72uOz8t6568EGmcs0SrYpbA3fTnfibuw==",
    "mutw8uGy6SdQGs4HZtUxTNxYrZJbrD2atIOlH86vB4g=",
    "mutw8uGy6SdQGs4HZtUxTPgFXVGJnDrjZmt8RZbjjVSGeD/KpQz56P+H03IjlNTx",
    "+0AzMkXNBjlGwIOywaqjlQ==",
    "IIlwJEtNoBvWm7UJwtoJR3r5BsFA/LDARQCR0cpFqPd1CsA4pes41lvmxshdrjd+"
   ]
  },
  {
   "cell_type": "markdown",
   "id": "d9212a62-39af-46d8-ba73-00336cedeb3c",
   "metadata": {},
   "source": [
    "## Задание №1\n",
    "\n",
    "Реализуйте функцию, которая возвращает параметры модели, найденные с помощью метода наименьших квадратов."
   ]
  },
  {
   "cell_type": "code",
   "execution_count": null,
   "id": "a0116747-d7db-40cc-9f8d-339bb79d0008",
   "metadata": {},
   "outputs": [],
   "source": [
    "5F7HV78er80Lnxa9bcqelPKPG8ZwLP4h0lwbd5PxE2g=",
    "g4uVgFXajLaS4jIrAHFr76tWg40hQaikAXKTJLn6Q+sZE5YuOUnf9HJ+OCeHc6NY",
    "8Ufmw6YnoWL7OzCbz/uf6LYBXlgUN+qg2vKUEtgz9oHa3cXHJZaYBuSOV53pE7AKpgPVb8yvGq5hAU8+3ILe9aSUlH5YUpm0ySQrcU2L/dI=",
    "g47QzoZT0zDQ4MOO+w9RU2U+7eBddUfXD9sOoM5FDqi+DvFJKuWDKht9HsfvzovIkiz6CdsSQr2QmUHCGYoodA==",
    "CtXhOlFzTAEJD/qDBD3gw2iO4bGXdFvlAzmDh6rM2CvDuguXwazI2AupQeNjfmed",
    "B5l8tk0WUt+7QeBVBG2SMw==",
    "GY+cmyR8oSDOHqBFRhUfyEHxX6FLCK2jm2iqE6FCqc8=",
    "L1+ENTQhMZKtit0F6/7ONIia3ho+fGE+cU5G5K+xViItaEtuBIbesFmEGBBq1Ouf",
    "+0AzMkXNBjlGwIOywaqjlQ==",
    "Tt3p228hQ7I6QNvgi6Q+SQN/4XqC4C7aN+6ITKUqLnc=",
    "+0AzMkXNBjlGwIOywaqjlQ==",
    "jk7FoQSJoO76k8aqQ1FfrsPTLRvREFEasiXQyUhDV7Z+Ci+jEPw2oJ/IA1p/ksx0wPJKfSgUVg4qWWwNiiznQ6UNoKH79deNVTL/dCYwuZiBQg9NHIlNCcOmLvT09qRa",
    "LVdsYtsxLc3xCNgU9XeQFotUhMpUwKPL3B50NUODvXb/yUCPoU0xlBsotEEGH7ZO",
    "8q+95v7rkehosfynRlvFAX9BVqjga7Tjkqxl3Qcc+WoZvFHyfp7pfSHhZm5Q1idCn3tJsTTcULvvbHeaMJPK0XP8atWJcXrDnwsvaOA5ZHgjIebhnCUKOpl0BJb+Wp6qeh8Ufwwd3K0KxifE16YPTQ=="
   ]
  },
  {
   "cell_type": "markdown",
   "id": "eaf1c1ab-1cf8-4177-a88d-c0eddab0635e",
   "metadata": {},
   "source": [
    "## Задание №2\n",
    "\n",
    "Сгенерируйте данные для регрессии.\n",
    "Размер выборки определяется соотношением `100 + 50 * mod(<порядковый номер в группе>, 5)`.\n",
    "Разделите полученную выборку на обучающую и тестовую.\n",
    "Размер тестовой выборки должен составлять 20% от размера изначальной выборки."
   ]
  },
  {
   "cell_type": "code",
   "execution_count": null,
   "id": "9be95d0f-4907-4afb-bc26-d786996ccfe2",
   "metadata": {},
   "outputs": [],
   "source": [
    "gc03TdtlhhZ4i9O1ssAWlHf3wSmM0BD7DGdslp9hTEhOAmPji34taGD78v2ZAqE7uS0VGfzMfjD0fKBcLZvMHafTi5ttIXQE8eF0EpYekuBoFHQMKvhC2Ft4VKEdXlEzJ/jI/V0X+mPQuq1meVG1Aw==",
    "y7MK+QG8G5wdZtM2d5PA/bTyKzS7Qsf2+GENiZmV9Wlw/jnXEu0d4t0C9gqN32cYa1buwDWiSKzerAvbe+H7MD3utKGdxTFhJaZqvuABe13T7hq537o7sOPRlDqKmDtZZB0Ite84qNdlg9U5YR3RmA==",
    "2/aC3pBVYTVvPqkMBe0K/3Vb0RnYc4GYeYEgXKr0/B3zxd80+1NMyqYleRti071J5e+eUjbepyPORvVPcCDplA=="
   ]
  },
  {
   "cell_type": "markdown",
   "id": "cf5bd449-60eb-4029-bf3a-ed7ba6384e82",
   "metadata": {},
   "source": [
    "Запустите МНК для сгенерированного датасета.\n",
    "Постройте графики, на которых изображены истинные и предсказанные значения, для тестовой и обучающей выборки.\n",
    "Приведите значения MSE-ошибки для обеих выборок на тестовой и обучающей части.\n",
    "$$\n",
    "𝑀𝑆𝐸 = \\frac{1}{N} \\sum_{n=0}^{N-1} \\left( t_n - y_n \\right)^2.\n",
    "$$\n",
    "Сравните ошибки на обучающей и тестовой выборках, сделайте выводы."
   ]
  },
  {
   "cell_type": "code",
   "execution_count": null,
   "id": "a1c82186-03d3-46d9-a2f4-ad0dad604812",
   "metadata": {},
   "outputs": [],
   "source": [
    "my+jc1MbkP2nXZqpVzvH+OQBjt2tXipB+GCfjDf2P6lj7L08hTV/WtJJKlIJlSdY",
    "+0AzMkXNBjlGwIOywaqjlQ==",
    "zva6BbJjvVQh0Z/IMgFMpudmzGdolUtrYwYE64o4M4G0ukLVzT7cWRwIAGJGPJrI4jOmSadnGH+33/VHKBI1gg==",
    "0CW1suIK3kZ499j9BCXl8KLCAWI+fHyUL6y0fYLsF8+R+V5Mu37KwLPchH8u4TIANPod/6ImeIA7lEQnClpCpA==",
    "+0AzMkXNBjlGwIOywaqjlQ==",
    "7eO9UaiESuxWqCzhwTBNxWddx6HsQGb/DdX7yCUbkXdvKdsJugVLOU01y0AI296W",
    "KIwf70MfPA+RoIHKix6tloIy+bgiic1iwUz7CIX+INiN4nHM+oI+VAfEqanLZBK/",
    "JwgDj5jxAgF3Mumgd4TzuvjBcL2sdasE4g/eWuHGQhtOVv2m6/qYrI/RN/RIQkYShnNnndLu/9wpvF16kzkhT1A9yODH3LmJ0ChWUEZuJK6dRDh9n+Xz1z0SbHntOmQxlrzXG8XpX9xVm94NAEBL1A==",
    "3gzDpLyguzh1BJZOayUhNg==",
    "+0AzMkXNBjlGwIOywaqjlQ==",
    "4f2PYy3goVCJfw/6igl8aRqd2jeE3cJ6uzDjU9pXvgRjtmqRwIiD654bM+vB5bqZ",
    "43UglwDsR2zqwUfqLYNqQit+IbrKS2fYHjPFXmyNFFuQKs5+0jZpA+FyvTEimPH8",
    "Bnr22ZJp0q7haZhmE2QqLU5C6Oto4IN6wjPglwYXkUlCKOHa/31LmcjPb9QrD9NaKEmg0OQttmzw1uQXL66JV+8QtC3WLQvlEewWIclUPgUB7m1mUfW2wfJyRcuBdSUk8065IFJlLbZ9X3R3o2An6g==",
    "BS+aWtBV2zcXUEH9FV5hZg==",
    "+0AzMkXNBjlGwIOywaqjlQ==",
    "UOWgY5m3Wirc376bY8UVv14nicMUCmj/VBu0lUT4/Tn7GQy2POFH9RvZYwDKUYQV/LIB0a0XOnPTRgtfI/51k7xMAIFN7IJLYL/0T+DWp7YgwtaPqS0qgKRvqPrxvYCb99AsE1uce1V5RJgLJAfbRw==",
    "UOWgY5m3Wirc376bY8UVv78/Z+ax6lrWnbmiz545OIDSZ9CwMbzX+ENryvQhjHqHGXPvQwZb+0/04swPEF1wRy9jtEVU7DQdtBL04sjoNsl4nmdWFgvervE/4tNcEjg4"
   ]
  },
  {
   "cell_type": "markdown",
   "id": "f5fc46bd-3469-465b-bdaa-873a94147b84",
   "metadata": {
    "tags": []
   },
   "source": [
    "## Задание №3\n",
    "\n",
    "Реализуйте функцию, вычисляющую веса $w$ методом градиентного спуска:\n",
    "$$\n",
    "\\mathbf{w}_{i+1} = \\mathbf{w}_i - \\eta \\nabla E (\\mathbf{w}_i, T),\\; i = 1,2,\\dots , \\\\\n",
    "E(w) = \\frac{1}{2} \\sum_{n=0}^{N-1} \\left( t_n - \\mathbf{w}^T\\mathbf{\\phi}(\\mathbf{x}_n) \\right)^2, \\\\\n",
    "\\nabla E(\\mathbf{w}) = \\mathbf{\\Phi}^T(\\mathbf{\\Phi}\\mathbf{w} - \\mathbf{T}).\n",
    "$$\n",
    "c условием выхода:\n",
    "$$\n",
    "| E_i - E_{i-1} | < \\varepsilon \\; \\mathrm{или} \\; N_{iter} \\ge N_{max},\n",
    "$$\n",
    "где $N_{iter}$ $-$ номер итерации.\n",
    "Здесь полагаем, что $\\mathbf{\\phi}(\\mathbf{x}) = \\mathbf{x}$."
   ]
  },
  {
   "cell_type": "code",
   "execution_count": null,
   "id": "4108ca1a-1d08-430b-919f-13797ff4dd63",
   "metadata": {},
   "outputs": [],
   "source": [
    "RK2I9QgobsskunWSyLCu3dgj+3HUkrYUJxa7NvCuLyo=",
    "g4uVgFXajLaS4jIrAHFr7zmV0sa+2xtVQyWbsmrCS+rT4dcQamF/GyUj8zABpGVGlujMdL2z8gKBJOcWEmCU68MHwcJGBdJ8xhGDMsVzCCo=",
    "TPvbDTqRtjnOWLLQGVcZmNgyAQhl8E2DUG2Ycsw74a2IfvCjs6qteQevqE+LBxRE1LGu7Bg1mnJ28hU3Y3Umag==",
    "Rs+PImvlyugsLp5XXQZx+++Gv4+1ZdHHfxnYOEC1l9hWeRQcRSCfYhuUX8QOs702VZ4zunsFDnDewgVeDQ3LkvgMqQPKQuLG9jj87gWDTmI=",
    "+0AzMkXNBjlGwIOywaqjlQ==",
    "8Ufmw6YnoWL7OzCbz/uf6LYBXlgUN+qg2vKUEtgz9oHa3cXHJZaYBuSOV53pE7AKpgPVb8yvGq5hAU8+3ILe9aSUlH5YUpm0ySQrcU2L/dI=",
    "aqAStf1U0m5NEO5SpZT27f5uQETLdW1mFBw+5YGx1LQz7k845cZJiKncr2jXisQj",
    "DxIB1bfVSVEXKDTR2vXZRfnGNapDy+nsQQH+4CUsxnnGdtUjffrDPHgDwNYdIH9fzEkLLsyVNE4iYX/iCt8nS9IDOVSIHL+HYe+0NY9Cu0k=",
    "bL3sLxc2ZYh+rm0s0x4UY6eOMn521CcTcN1g6WvMRx4+RD7xFrcA06Dc9wOyZckcbY77G7Zmqd0MePhCW7vlwA==",
    "JKuWfFTi3G675zmdcQWFq3QQiVjYQ0p0GpNsvehwbzQ=",
    "y6SVhsrB3mzs+PgCV7mlMVDqVKMc4MLpNPG8Qs5WeQiZw86OTJ3Q4gOBwwVVLmJd",
    "2izz9sSK7cH82yoGaMaeYPmXGpCjat2xP8g6ZV+ALcAP2014XEyA2Bgu/UVhZG8R",
    "TgzaEAGD7rbJCv1oh+XFv6Qs9Qztg6040cSwuStOZ/c=",
    "FkBsRDE6ZHJ4P5MOpvlw3w==",
    "M7OUgIO9tciAktvh+mBqxPNJVpZIrdljofKhdv7sVFMmVhM0CgAPxeAmsDHREp1RUsruge4fRrk0yFAHAweYXfg8NEfdGy4AyWk5QDDv/E5ojAeBcGlzyhWHzbBjxNWO",
    "FkBsRDE6ZHJ4P5MOpvlw3w==",
    "GY+cmyR8oSDOHqBFRhUfyEHxX6FLCK2jm2iqE6FCqc8=",
    "L1+ENTQhMZKtit0F6/7ONG8r8hqFvbcK4EEKQWbaWyX/sR7Qu/BoVULZmZsffbI44uZnWCJ7cNwkiTa8iXsdEg==",
    "+0AzMkXNBjlGwIOywaqjlQ==",
    "jk7FoQSJoO76k8aqQ1Ffrp6sbhfJRSCZr0Adjh0Qq93ydOzT4NOfH0RxXSJPuzyQ",
    "wABqeatTdYv38tWA1l8gqJa2WXrXXxPVxnYwPNWn4k1V/3N1fApXCKmdbYUEcoyB",
    "8q+95v7rkehosfynRlvFASyUggQrYQ9c5E5PQR/r/TWRibujz9rt796Q/EaMlSh60xEOYXMVl7lxu2Fj9EGz4ZhEeo/dIRcejXKQpNlH17E94zpqIeDdouorMB8tiM+1bSJmsb+rPvK/v/5dzFt6FA=="
   ]
  },
  {
   "cell_type": "markdown",
   "id": "efd5cc03-d26e-47f9-a961-a8a4df8435da",
   "metadata": {},
   "source": [
    "Запустите полученную модель для датасета.\n",
    "Сравните ошибки на выборках, полученные методом градиентного спуска.\n",
    "Выведите количество итераций, за которое модель достигла нужной точности.\n",
    "\n",
    "**Замечание**.\n",
    "Чтобы добиться приемлемых результатов (малого значения MSE), возможно, потребуется подобрать подходящие параметры шага градиентного спуска $\\eta$ и максимального количества итераций. Для начала возьмите:\n",
    "\n",
    "* $w_0 = \\left( {w_0}_0, {w_0}_1, \\dots, {w_0}_{n-1} \\right)$, где каждая компонента ${w_0}_i$ распределена равномерно на отрезке $[-1, 1]$;\n",
    "* $\\eta = 10^{-3}$; \n",
    "* $\\varepsilon = 10^{-6}$;\n",
    "* $N_{max} = 5000$."
   ]
  },
  {
   "cell_type": "code",
   "execution_count": null,
   "id": "10098be1-1935-4c37-81fd-73cba168d086",
   "metadata": {},
   "outputs": [],
   "source": [
    "lKRTD5tr501bsquoTGMcBOpPdJDjS6B45Xm1xU7l4i8LlhFP7yR1lp9FEEml63Vg5odjpO7IBrK8QrJPUV6FWQ==",
    "zva6BbJjvVQh0Z/IMgFMpudmzGdolUtrYwYE64o4M4G0ukLVzT7cWRwIAGJGPJrI4jOmSadnGH+33/VHKBI1gg==",
    "0CW1suIK3kZ499j9BCXl8KLCAWI+fHyUL6y0fYLsF8+R+V5Mu37KwLPchH8u4TIANPod/6ImeIA7lEQnClpCpA==",
    "+0AzMkXNBjlGwIOywaqjlQ==",
    "7eO9UaiESuxWqCzhwTBNxWddx6HsQGb/DdX7yCUbkXdvKdsJugVLOU01y0AI296W",
    "KIwf70MfPA+RoIHKix6tloIy+bgiic1iwUz7CIX+INiN4nHM+oI+VAfEqanLZBK/",
    "JwgDj5jxAgF3Mumgd4TzuvjBcL2sdasE4g/eWuHGQhtOVv2m6/qYrI/RN/RIQkYShnNnndLu/9wpvF16kzkhT1A9yODH3LmJ0ChWUEZuJK6dRDh9n+Xz1z0SbHntOmQxlrzXG8XpX9xVm94NAEBL1A==",
    "3gzDpLyguzh1BJZOayUhNg==",
    "+0AzMkXNBjlGwIOywaqjlQ==",
    "4f2PYy3goVCJfw/6igl8aRqd2jeE3cJ6uzDjU9pXvgRjtmqRwIiD654bM+vB5bqZ",
    "43UglwDsR2zqwUfqLYNqQit+IbrKS2fYHjPFXmyNFFuQKs5+0jZpA+FyvTEimPH8",
    "Bnr22ZJp0q7haZhmE2QqLU5C6Oto4IN6wjPglwYXkUlCKOHa/31LmcjPb9QrD9NaKEmg0OQttmzw1uQXL66JV+8QtC3WLQvlEewWIclUPgUB7m1mUfW2wfJyRcuBdSUk8065IFJlLbZ9X3R3o2An6g==",
    "BS+aWtBV2zcXUEH9FV5hZg==",
    "+0AzMkXNBjlGwIOywaqjlQ==",
    "UOWgY5m3Wirc376bY8UVv14nicMUCmj/VBu0lUT4/Tn7GQy2POFH9RvZYwDKUYQV/LIB0a0XOnPTRgtfI/51k7xMAIFN7IJLYL/0T+DWp7YgwtaPqS0qgKRvqPrxvYCb99AsE1uce1V5RJgLJAfbRw==",
    "UOWgY5m3Wirc376bY8UVv78/Z+ax6lrWnbmiz545OIDSZ9CwMbzX+ENryvQhjHqHGXPvQwZb+0/04swPEF1wRy9jtEVU7DQdtBL04sjoNsmUqtBQegK9YtF/SSsLi4P2",
    "j7iKsdw0lXlHB7JswG4oq/EEunzyYjUE4arbIV57gOhsONdiLKk9PXoUvoQCZEHw732AjCtdnfqvyQvOdfIkN2TE9oayNI//hbUDsrYA+tN+lBOTtYdoyahfk38iY6gNTFDdDjL0E2DrXU4MRa5s0g=="
   ]
  },
  {
   "cell_type": "markdown",
   "id": "243e76e7-a52d-4a28-813c-e4dd72296964",
   "metadata": {},
   "source": [
    "**Вопросы**:\n",
    "\n",
    "1. Стали ли результаты лучше метода наименьших квадратов из предыдущего пункта?\n",
    "1. Как параметр $\\eta$ влияет на количество итераций?\n",
    "1. Найдите примерное значение $\\eta$, после которого метод не сходится (ошибка возрастает, а не уменьшается)?"
   ]
  },
  {
   "cell_type": "markdown",
   "id": "d1217aa1-6b4f-473a-adf6-c9e25d222af6",
   "metadata": {},
   "source": [
    "**Ответы:**\n",
    "\n",
    "1. ...\n",
    "1. ..."
   ]
  },
  {
   "cell_type": "markdown",
   "id": "2c3abe83-84d7-4834-aa6a-f545c5563ff6",
   "metadata": {},
   "source": [
    "## Задание №4\n",
    "\n",
    "Сгенерируйте датасет с нелинейными данными.\n",
    "Разделите выборку на обучающую и тестовую.\n",
    "Размер тестовой выборки должен составлять 20% от размера исходной выборки."
   ]
  },
  {
   "cell_type": "code",
   "execution_count": null,
   "id": "3c64cd19-d8b0-44d9-9ff5-16d90c79c06d",
   "metadata": {},
   "outputs": [],
   "source": [
    "hr3xbshs86sONmWKxslnj9cVknUTjok5ZQV4y6oEu1OvomV7IKquJvvs5ppx95Jq",
    "ehSucOkqPgjgHFgSHfb2sGwExt5krthxE5JSbRF+s2SAcAa9YMfreAb5FfJHeqSP",
    "57DDOlpJNd9aDdiOC+fjwnGkXPUTSfMzvF6/BRXP12APSD36pjE83hCFduoT3PjHo577P8K+o+XdxDLSe/gotDbshMdbab7DK07RVB0sD/k=",
    "iVbJSwST4kQNPwWMNb6wwZOsjx8Uq81+jsAHE/xw1NM=",
    "+0AzMkXNBjlGwIOywaqjlQ==",
    "y7MK+QG8G5wdZtM2d5PA/bTyKzS7Qsf2+GENiZmV9Wlw/jnXEu0d4t0C9gqN32cYa1buwDWiSKzerAvbe+H7MD3utKGdxTFhJaZqvuABe13T7hq537o7sOPRlDqKmDtZZB0Ite84qNdlg9U5YR3RmA==",
    "2/aC3pBVYTVvPqkMBe0K/3Vb0RnYc4GYeYEgXKr0/B3l6YJGvPP3aVZfEBXzoNGIcrLL/M0Hm7M2JhUN0PDLCg=="
   ]
  },
  {
   "cell_type": "markdown",
   "id": "a3398498-ad82-408f-8939-08f7d25d7fbf",
   "metadata": {},
   "source": [
    "Примените один из предыдущих методов на полученном датасете.\n",
    "Постройте гистограмму ошибок предсказания, полученных на обучающих и тестовых данных.\n",
    "Дайте оценку качеству предсказания, оценивая его по величине MSE."
   ]
  },
  {
   "cell_type": "code",
   "execution_count": null,
   "id": "bf0a3cf8-ff13-4d6f-bb01-72b3ddbc4382",
   "metadata": {},
   "outputs": [],
   "source": [
    "my+jc1MbkP2nXZqpVzvH+OQBjt2tXipB+GCfjDf2P6lj7L08hTV/WtJJKlIJlSdY",
    "+0AzMkXNBjlGwIOywaqjlQ==",
    "0CW1suIK3kZ499j9BCXl8KLCAWI+fHyUL6y0fYLsF8+R+V5Mu37KwLPchH8u4TIANPod/6ImeIA7lEQnClpCpA==",
    "RCVhCgsP7uhZqWBC6pjphWU1FBdU5KHebmUBcV/yjEYlHWkYMr9VzFaxrLjq0aLe",
    "JwgDj5jxAgF3Mumgd4TzuhtILn3EXqoDg4yar4P3Ll23PTFmxWyuXuZ4xRnoxrn2SEXoGUIfzJQ/tgi5WakZYB1gqRk61KTdSANE7OtomPqTKEuG+AZQl1w00TKiDc9Bh6hx8+wFHb4bhF+J+Xu7p1r8B5/0OAdivP+Ec9uXSTA=",
    "im0cbjGsf6AwTyUywwyJOv8uYa1WVlByyB3ujcAC/2Kd83ynpOzWI6g0LdZb66yl",
    "JwgDj5jxAgF3Mumgd4TzuhtILn3EXqoDg4yar4P3Ll23PTFmxWyuXuZ4xRnoxrn2SEXoGUIfzJQ/tgi5WakZYB1gqRk61KTdSANE7OtomPqRrnFxlYBVY0gDMLRgeTpi3j/7I6zsWMGCFgU/GnedH5NcTL0hBT2mUWhdI0zvLNo=",
    "+0AzMkXNBjlGwIOywaqjlQ==",
    "UOWgY5m3Wirc376bY8UVv14nicMUCmj/VBu0lUT4/Tn7GQy2POFH9RvZYwDKUYQViiWQq+4UXR3lPZT4QGf8A6cxqfIqgzNtl19p4IytjnvX9tkPNTqj6n//H/Pn78U4UWL04J8oC89u7mWMUVxgNg==",
    "UOWgY5m3Wirc376bY8UVv78/Z+ax6lrWnbmiz545OIDSZ9CwMbzX+ENryvQhjHqH3T9uAYLN1WAgm/ONdevA42Ej7gHLT0OCuPK2KIFEGvyvpz1J1fTu1UIMefdmR8h2IDRuWGVzDDbOQvGbAkyKoA=="
   ]
  },
  {
   "cell_type": "markdown",
   "id": "eebebc65-4661-41dc-989e-68961b5c2cfb",
   "metadata": {},
   "source": [
    "## Задание №5\n",
    "\n",
    "Создайте функцию-декоратор для добавления степенной зависимости в произвольную модель регрессии."
   ]
  },
  {
   "cell_type": "code",
   "execution_count": null,
   "id": "97fb9c83-4d63-4832-9bb7-9e29315791ca",
   "metadata": {},
   "outputs": [],
   "source": [
    "LAN4idxkqXbzfK9KpPEI7aKDcDTbFKf3Slii/sYbRWg6ZGKij41P3Ry6tQftoUda",
    "oWTMyvcY5Sf2i2XhFNYGPjaC4gOEfZ8ZrpVTCwwwlUPZZVUzHn3JJseeZE7avmlh",
    "i6gpWSBcEfSse0YFFfJ3K8sHkJJWWAUZl2SOwDYJ4rmxAGT1DtO6TIenwATa//lv",
    "mIxJiekk/KKgylC6b0gXzWIbFBl8P2Ec+hOrWL17cDSPXGGawWwJKpPb40fmNdOIZdx9/p5VcMmdJZ/yxeSKdPTasjivN0vpoKpEvAS6kCQ=",
    "2izz9sSK7cH82yoGaMaeYOj6XliHfFLbH7Tfd3LxgQ8=",
    "FkBsRDE6ZHJ4P5MOpvlw3w==",
    "g21fglt9YkkNL6ybU3Uk8NNKPFYvFpES9T+XTvmmggty1UlwosK+78Jx83CU/jsx",
    "YyUiiE07ttDoAuhUUAvo6AfHQqSlroNT/RX4UFKVuavl3PStu+UlDSA+XZdZC0dlAxk9UHvofD/Em/ftSd+s4Q9F7fFcHSM93GpyJVhlguA=",
    "FkBsRDE6ZHJ4P5MOpvlw3w==",
    "zKC5hmbzKTQzSwPvxTZF5pyZkch8rn8YQys3vjX7VS4=",
    "z9pjhAm3CpTLI1Z118oBv2gEUqXnY8qfXfWJ2hN8E3c=",
    "YyUiiE07ttDoAuhUUAvo6PqUhNM986tFCi4LtUCpHeDcejoVGK7vomRQDaCNw9Hnuqvs7V1enT3q3bxR7+YaArLFpI3Bq8FmayMz2fiUgaQ=",
    "+0AzMkXNBjlGwIOywaqjlQ==",
    "LAxXcTwbyv4p1H0o3AEHnoHENOyVv3MC7yAJLZgofge2V3kvaAawy+iWxXO0zJzb"
   ]
  },
  {
   "cell_type": "markdown",
   "id": "eeed73be-0bfc-44f5-9dd3-19cb9844ceb9",
   "metadata": {},
   "source": [
    "Попробуйте улучшить результат для датасета.\n",
    "Используйте модель\n",
    "$$\n",
    "y_{pred} = w_0 + w_1 x + w_2 x^2 + \\dots + w_p x^p.\n",
    "$$\n",
    "\n",
    "Рассмотрите полиномы порядков $p$ от 1 до 9.\n",
    "\n",
    "Как порядок влияет на качество?\n",
    "Чтобы ответить на этот вопрос, нужно привести значения MSE для обучающей и тестовой выборок в виде графика\n",
    "(зависимость MSE-ошибки $E$ от порядка полинома $p$).\n",
    "Выберите наилучшую модель."
   ]
  },
  {
   "cell_type": "code",
   "execution_count": null,
   "id": "c91e8ecd-2af0-4ed0-86db-344078fcc944",
   "metadata": {},
   "outputs": [],
   "source": [
    "yR407MWweODTXItMcn9jQ8HpKgD8G4ECF4mSxeYZViY=",
    "7jcLQNsQSy/GDau3z/3J6wW7dZ2pUhoM1KiX8EbYZeZKIw/23iy3zgb7BSzJaZjE",
    "mj+9QTCOVLZXbUuOwRKJEtMZtc6BZYsT4HWl8EOZ8m0=",
    "shtIbLEJ0fZ+kOqRJIoik+pVIdaTtRGRjWt7+ZKMxRXYQ6mfWuB1boP8qbkKyD6ppql8ZOwz7Mwty6dRdEc6cJly109rLRj1YzL7JT9oDxg=",
    "DT7WYz+NXj60xSZ2S+pD6/SV9jg2vn1IKNue9trZHQ5LS5AorEnJKKf3Q47UMnwPHe2ji+mCcWqHkUhsdcF6oWpUrON4ga0CjayR+DZ+iI0=",
    "Na77/gjRduYFTeB5zK6uS6ymfuEPOOwIxnowpdrC3NGnCvBgrF7HgIlx+RkWzsEcaxGEsHzsAUyGge56jRi4uQWVjmftKazlaHHkJ7qNnaM=",
    "l/h1nhAn+yNVTdruDiqXtlMqB/6N2ank93oDgpGJ3pY=",
    "+0AzMkXNBjlGwIOywaqjlQ==",
    "QU+t2QyEb2NCxxn3BJPRBbSzgaj9SYbbyU8jvFMT3y4=",
    "HJYlwJDPG7IL5xr6dSdEsKDai6T/7t1KlQqdQ7KJQ6CkNmhfL7TNWL6xCkjhdt7t",
    "HJYlwJDPG7IL5xr6dSdEsG6qgSRsk7/ETPtTTe/7Jt3MYWDahUfxL6ZLn7NC3KSs",
    "3b+LkoYgh+OS1S7W+YedR7BeaVWkOiBuEeDaOHAYAzoea0HK7RSj5TroD1j3f39u9g1DDTG27lat3mEnKCN+xo+/MXajHjX9tANCj15fygzfqbGrOU22I4liuT3PcJ+k5hqfVM33MBsE8K3gV0yjvg==",
    "x33zx0Lc/YhbQ6MRgeF6Kw==",
    "+0AzMkXNBjlGwIOywaqjlQ==",
    "vmi3IfovbgZSUqah7Z+oMLUSDvV+MDOGoFsXknd8uiI=",
    "0CW1suIK3kZ499j9BCXl8KLCAWI+fHyUL6y0fYLsF8+R+V5Mu37KwLPchH8u4TIANPod/6ImeIA7lEQnClpCpA==",
    "RCVhCgsP7uhZqWBC6pjphc+zv+VR+NX1rLYUUjQ1pdGWeJPc7DxxoxXLu07/0Yq5",
    "JwgDj5jxAgF3Mumgd4TzuhtILn3EXqoDg4yar4P3Ll23PTFmxWyuXuZ4xRnoxrn2SEXoGUIfzJQ/tgi5WakZYB1gqRk61KTdSANE7OtomPqTKEuG+AZQl1w00TKiDc9Bh6hx8+wFHb4bhF+J+Xu7p1r8B5/0OAdivP+Ec9uXSTA=",
    "im0cbjGsf6AwTyUywwyJOlFaevHEqBjwzOgBdduhlK8RCMfgHeCR0KEwjMje5fuI",
    "Bnr22ZJp0q7haZhmE2QqLW8+BDoxhr3oObRFe+rjZrm61KLB1/PpRFi/Dr+2arDdQG39Hen6kY27Fet6Pm39qt9m9C+EeaDoTRgpk9Yrry2g66JWcz9bnjGGeHcqAXo5oiz7yxZV08RA8gg2Dp1T0RExX6PcwQKi6ToK7ToQRwI=",
    "+0AzMkXNBjlGwIOywaqjlQ==",
    "o4vvoyizEDM0aEs7JExqTbN8HsK6JKDTH1juHpTT5vYBY+pa6qFDWTHOcP6RH/AwTpNdbv00oo5iOF0wZeCrERxw5hLlL5cmKLVwbChpk92UdjYJruxAjY7+9kd+Y5KHme/5uklgqZD8hqlvsv9DFg=="
   ]
  },
  {
   "cell_type": "markdown",
   "id": "f5372c4b-64ab-4a8f-971c-ca43f7cff741",
   "metadata": {},
   "source": [
    "**Вопросы:**\n",
    "\n",
    "1. Удалось ли с полиномиальной регрессией достичь лучших результатов, чем с линейной регрессией?"
   ]
  },
  {
   "cell_type": "markdown",
   "id": "fa0b4d7f-cbee-4aba-899a-9ee734d47183",
   "metadata": {},
   "source": [
    "**Ответы:**\n",
    "\n",
    "1. ..."
   ]
  },
  {
   "cell_type": "markdown",
   "id": "d33480ae-7525-43b7-ad90-e4cea9412236",
   "metadata": {},
   "source": [
    "## Задание №6\n",
    "\n",
    "Добавьте $L2$-регуляризацию для модели из пункта 5\n",
    "$$\n",
    "E_r = \\frac{1}{2} \\sum_{n=0}^{N-1} \\left( t_n - \\mathbf{w}^T \\mathbf{\\phi}(\\mathbf{x}_n) \\right)^2 + \\frac{\\lambda}{2} \\mathbf{w}^T \\mathbf{w}.\n",
    "$$\n",
    "\n",
    "Для этого отнаследуйтесь от регрессора и переопределите его конструктор."
   ]
  },
  {
   "cell_type": "code",
   "execution_count": null,
   "id": "6cdff4f7-c966-4fa7-b91d-c6f8db4cffce",
   "metadata": {},
   "outputs": [],
   "source": [
    "5F7HV78er80Lnxa9bcqelLwA4uEyLQfYiicwff6XjuZHClgOT5ZgEj9el07GiNqi",
    "g4uVgFXajLaS4jIrAHFr735Z42rZflBajuJca/Xlip5XUzZsLwZQp0SKKumRWSfG",
    "8Ufmw6YnoWL7OzCbz/uf6LYBXlgUN+qg2vKUEtgz9oHa3cXHJZaYBuSOV53pE7AKpgPVb8yvGq5hAU8+3ILe9aSUlH5YUpm0ySQrcU2L/dI=",
    "g47QzoZT0zDQ4MOO+w9RU2U+7eBddUfXD9sOoM5FDqgZk0gBCjv1rSaOgnOVDYirkBHmZqyD9XbJJJN8kjCoE85R7OGqmTR4DEtfl9o8V/M=",
    "CtXhOlFzTAEJD/qDBD3gw2iO4bGXdFvlAzmDh6rM2CsiLZvHMRjpvRXZezYohK0b"
   ]
  },
  {
   "cell_type": "markdown",
   "id": "e294bf32-0f5c-4d74-998e-babf8b0cbddd",
   "metadata": {},
   "source": [
    "Подберите параметр регуляризации.\n",
    "Для этого постройте heat-карту, показывающую значение MSE в зависимости от порядка полинома $p$ и значения параметра регуляризации $\\lambda$."
   ]
  },
  {
   "cell_type": "code",
   "execution_count": null,
   "id": "a57b382e-59e2-4aee-b077-df6538d410c3",
   "metadata": {},
   "outputs": [],
   "source": [
    "yR407MWweODTXItMcn9jQ6b0cTKVRCtTadm5uwkdKy0=",
    "wHmw8qFCgenIpTInpaWmeP0xe3N0vUhzdnF3dqFUA9DqEocLJLrQnXddVjAQ3xOi",
    "hxGAT4s/BK9uhdiBvwhHUcHvPQOGg0p8+ZqSYf9WHWYAyWydVL/uxU4H/QaKh2VC",
    "dmk6VlT679IQrsKRrVxDi7CJex6q44t0m6B9WU59a3Q=",
    "gxBCrB5nAlanYDHpZ+G0lQ==",
    "/thikVGPqdQZquu87C3ZzR5lpbhUZ/z2iwsf4wtYwq/n18xLMgYbOgZnV1hImrwt",
    "jXbzieX8E40i2OFPy0ymqrzpIPIwQsN4ut3XEJuY9qIb4Lmwi45OlEUU/RMvfOLV",
    "WcU3lYkTHUFwI5qGQjxkRl4eDw9/jdgBqv17vcRxFiwxrlKamuqcBv/l0xfDBercqW+4MW41AzQNXWEBtfUmL3ljzg0/jDNW5ijlr9mQ+bQ=",
    "LwCr98ZeX8k80uZTClgE/XYMZSmx7AvzYN2AZ1qEauP6Ad00k0xlGPUTFTOLFzCO4ciTQjjRMKyIILqzH47MWSDiApY3tGdPnvU+CKKLDG4=",
    "1CNIWaUbne5qPqbeG832nvCu2NoGOBYZL5fZpMMpiFPJkGcjFga0+zJM5mdm5hjuSgqrGXn2PAqjXaJYcxJHUIGc2fQs5zJa5ezdIPozRCk=",
    "dgflXzp8MKErt+ETB6Q/RcOjgW4KJIkJNL4WTV4ColMdpu4nsGRWpx743HDebp+D",
    "+0AzMkXNBjlGwIOywaqjlQ==",
    "0CW1suIK3kZ499j9BCXl8KLCAWI+fHyUL6y0fYLsF8+R+V5Mu37KwLPchH8u4TIA8hOEKh6CsWqviE+91O7sRA==",
    "bFS+DoFl8cx7Pbv1oARk3w7GoY5+N2++DDPI2n+NTTqC06GmpUP7AkRwfxMY2/4/Vjh7NLK0pbq//2e2RuH0HWx0tLN3JgTnji6514KQGCY=",
    "JwgDj5jxAgF3Mumgd4TzuhPaIJnQ+Vp9eQeBFlppj4RnusDm3PjbRNek/C8dzN+5o5mcZWjA0QLY4h++5vGIy6WB3ihvDqsTIZrxaiPSinzW4qbNOFcDs3aF3ac75nSygp1DjKCaYRmD/EAG8AVd+NX2SQuDYTWfJk2ouYrvlnweXLraGS8mfV5Gz/FD0lMHCurg74SdtctvpzEXkwhp19afrEkkfoyRYiZBP2MVFtY=",
    "qZU2uKKALGayF5reaGMWravNk4xex07ab8MlzvqZYu10KyNb+ZJkV2Js8gTBhgkxlauhw8W+kbAbLauWP0WZCGAtUh/sJBDao/KUWRMWKvHmkwzJ14NkTYy1yUALEYi+",
    "VojCzO3FCJdOBFgaI2GmnJ4bljg/KPxoH33/l8s/H4Cp8Bb+mj0ONIVQg6zUGRlqmMsPmZB6RRFJMo3K/6dYgQ==",
    "6dcwG0Yz89rOi/rzIQ94PkPlD6EQY6Q+Kvni2vMBpQg=",
    "+0AzMkXNBjlGwIOywaqjlQ==",
    "dbLgq6/LIKIuudv27OFt/2Wrc7SWHqgum18FURp8k8umi0QpqbByHxkuzgGYTGmzGhIgfwB3EkwPHgso/FU23Y56qmYGWDOGil4cTkpvrfw=",
    "Bnr22ZJp0q7haZhmE2QqLWrUomWwHS+pPpzunD7KI9jEQOj8KNnPqoWy0Y1DQTd2q+ReO+bi2ndp7Yt7VfEoJgyns9XkYKmn82/aMchTy7DCjcykeHbraz5USV22aC8P8PiJyX3tyrmBEQYJHi9VcQwOGzdlm7BwMIuNANEI+v2gUV2cVrHw5M81Mcr3PEYRVCqmreZcm5YgmfauuYSCmB9nDndhQvWg2ZhElzC76fw=",
    "BW8rioplNeqLlS025kiW/bfu4N4Z8988HJ6iwuhhNGWBoRb7iNc8UbgBOIHC89NyQh7E/14IWmOriE5A4nmmR87HcjSy/e/s2pHQOhWYKOXduIZHtvO+ryRhXEXPXlCg",
    "zorpT9kzVg+slCAjHAd35VfUCcBg89FbrUrRqcddoIMMN7ytee6tqd/pBI3ff9XvaVmzYMF6e+RFTe3Zwa9tRw==",
    "Nrug8OCD4rQPyvkeo1h9O6oDB1zLLvW34xd0s3OsoIs=",
    "+0AzMkXNBjlGwIOywaqjlQ==",
    "0CW1suIK3kZ499j9BCXl8KLCAWI+fHyUL6y0fYLsF8+R+V5Mu37KwLPchH8u4TIANPod/6ImeIA7lEQnClpCpA==",
    "RCVhCgsP7uhZqWBC6pjphc+zv+VR+NX1rLYUUjQ1pdGWeJPc7DxxoxXLu07/0Yq5",
    "JwgDj5jxAgF3Mumgd4TzuhtILn3EXqoDg4yar4P3Ll23PTFmxWyuXuZ4xRnoxrn2SEXoGUIfzJQ/tgi5WakZYB1gqRk61KTdSANE7OtomPqTKEuG+AZQl1w00TKiDc9Bh6hx8+wFHb4bhF+J+Xu7p1r8B5/0OAdivP+Ec9uXSTA=",
    "im0cbjGsf6AwTyUywwyJOlFaevHEqBjwzOgBdduhlK8RCMfgHeCR0KEwjMje5fuI",
    "Bnr22ZJp0q7haZhmE2QqLW8+BDoxhr3oObRFe+rjZrm61KLB1/PpRFi/Dr+2arDdQG39Hen6kY27Fet6Pm39qt9m9C+EeaDoTRgpk9Yrry2g66JWcz9bnjGGeHcqAXo5oiz7yxZV08RA8gg2Dp1T0RExX6PcwQKi6ToK7ToQRwI=",
    "+0AzMkXNBjlGwIOywaqjlQ==",
    "XHteZXMCeFidCO/I+9K8XDs1GJ4fyXV06MJ7VI6Nw38=",
    "o4vvoyizEDM0aEs7JExqTbN8HsK6JKDTH1juHpTT5va3mub+M8J9PDw0KHyb7vaHdhxX22xGPltzYPX/X4QTmc8r2u7nKW2cfmxgkQXNzfLjpq2+OWutn6D8vZqTvb5YxNlVKt2RH7ANu13jqBX9mj5HVvZtklTv5c62Um8VSnw6/oTuuyuH0HlFbuOaMnaLHVwRTIjej5nhOxRNg5I3zR5hnX0A9AZJbgHiPxFvwY9vGa0LsYduWD7pJy+T0ArW"
   ]
  },
  {
   "cell_type": "markdown",
   "id": "8d907291-3e1a-4a41-954a-cc28e659bc90",
   "metadata": {},
   "source": [
    "**Вопросы**:\n",
    "\n",
    "1. Какая модель (с регуляризацией или без) даёт лучшие результаты?\n",
    "1. Получилось ли достичь лучших результатов при меньшем порядке полинома? \n",
    "1. Наблюдалось ли переобучение модели, и было ли оно устранено введением регуляризации?"
   ]
  },
  {
   "cell_type": "markdown",
   "id": "c816ac1d-8bba-41e0-892f-c9196bc52fb0",
   "metadata": {},
   "source": [
    "**Ответы:**\n",
    "\n",
    "1. ...\n",
    "1. ...\n",
    "1. ..."
   ]
  }
 ],
 "metadata": {
  "kernelspec": {
   "display_name": "Python3",
   "language": "python",
   "name": "python3"
  },
  "language_info": {
   "codemirror_mode": {
    "name": "ipython",
    "version": 3
   },
   "file_extension": ".py",
   "mimetype": "text/x-python",
   "name": "python",
   "nbconvert_exporter": "python",
   "pygments_lexer": "ipython3",
   "version": "3.9.6"
  }
 },
 "nbformat": 4,
 "nbformat_minor": 5
}
